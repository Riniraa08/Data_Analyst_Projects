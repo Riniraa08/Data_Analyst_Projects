{
 "cells": [
  {
   "cell_type": "markdown",
   "metadata": {},
   "source": [
    "# Final Project Planner\n",
    "\n",
    "Every time we conduct an analysis, we need to formulate several hypotheses and test them further. Sometimes, the tests we do lead us to accept the hypothesis, other times we also need to reject it. To make the right decisions in business, we must understand whether the assumptions we make are correct or not.\n",
    "\n",
    "In this project, as an analyst, we analyze the customer behavior from the retail store.\n",
    "\n",
    "## Purpose:\n",
    "The main objective of this project is to find out the behavior of customers, both members and non-members (#SUSU: what kind of membership is this?), and whether this affects buying and selling at retail stores and which one is more profitable for retail. As for this goal, the steps that need to be taken include:\n",
    "1. Collecting data\n",
    "2. Explorative Data Analysis (EDA)\n",
    "3. Analyzing data (customer behavior)\n",
    "4. Reporting the result to the retailer's operations\n",
    "\n",
    "\n",
    "## Steps:\n",
    "There are several steps of the `project 1` analysis this time, namely:\n",
    "1. Data Overview and Explorative Data Analysis (EDA)including cleaning and repairing data\n",
    "2. Analyze the loyalty program (member/non)\n",
    "3. Formulate statical hypotheses  \n",
    "4. Data visualization\n",
    "(#SUSU: these 4 points here are a bit redundant with the 4 points you listed above under \"Purpose\". can you consolidate this?)\n",
    "\n",
    "- Data Overview (Step 1. Downloading and Preparing the Data for Analysis)\n",
    "  At this stage,  we will retrieve and analyze stored in files:\n",
    "  1. **`'/datasets/retail_dataset_us.csv'`** as a main dataset, consist:\n",
    "  \n",
    "      - `purchaseid` - purchased id (strings)\n",
    "      - `item_ID` - items id (strings)\n",
    "      - `Quantity` - number of items purchased (integer)\n",
    "      - `purchasedate` - purchase date (datetime)\n",
    "      - `CustomerID` - customer id\t(strings)\n",
    "      - `loyalty_program` - members/non-members (boolean) \n",
    "      - `ShopID` - shop id (strings)  \n",
    "      \n",
    "  2. **`'/datasets/product_codes_us.csv'`** as support for the selling price per unit, consists of:\n",
    "  \n",
    "      - `price_per_one`- price per unit\n",
    "      \n",
    "  Then, we examine the Data. Next, we will ensure Data Type, Array Form, Missing Values, Duplicate Data, and Correcting Data. In addition, we do Explorative Data Analysis.\n",
    "  \n",
    "  \n",
    "- Step 2. Data Analysis\n",
    "  In this stage, we have several mission tasks to be processed and analyzed, they are:\n",
    "  1. Is the average spending the same between members and non-members?\n",
    "  2. Are expenses higher for members or non-members?\n",
    "  3. Distribution of the loyalty program\n",
    "  4. On which day do more customers come?\n",
    "  5. Are the customers who have stayed from the initial data to the last reduced/not?\n",
    "\n",
    "\n",
    "- Step 3. Formulate statical hypotheses\n",
    "  The hypothesis test consists of:\n",
    "  1. Is the average purchase between members and non-members the same\n",
    "  2. Whether total purchases between members and non-members are the same\n",
    "  \n",
    "  \n",
    "- Step 4. Data visualization\n",
    "  Here we are going to plot:\n",
    "  1. Count Plot:- to see if the dataset is balanced or not\n",
    "  2. Histograms:- to see if data is normally distributed or skewed\n",
    "  3. Box Plot:- to analyze the distribution and see the outliers\n",
    "  4. Scatter plots:- to understand the relationship between any two variables\n",
    "  5. Pair plot:- to create a scatter plot between all the variables\n",
    "  \n",
    "\n",
    "- Step. 5. Conclusion and Business Recommendation\n",
    "  1. Who needs the data results and from whom is the data obtained?\n",
    "  2. What benefits can be given to marketing programs?\n",
    "\n",
    "This last stage is to conclude the results of customer analysis in retail stores to the retailer's operations and provide recommendations to the marketing department on what needs to be improved and done to maintain or increase the level of customer loyalty in buying and selling transactions at retail stores."
   ]
  },
  {
   "cell_type": "markdown",
   "metadata": {},
   "source": [
    "# Step 1. Download data and prepare it for analysis"
   ]
  },
  {
   "cell_type": "markdown",
   "metadata": {},
   "source": [
    "## Create library"
   ]
  },
  {
   "cell_type": "code",
   "execution_count": 1,
   "metadata": {},
   "outputs": [
    {
     "data": {
      "text/html": [
       "        <script type=\"text/javascript\">\n",
       "        window.PlotlyConfig = {MathJaxConfig: 'local'};\n",
       "        if (window.MathJax) {MathJax.Hub.Config({SVG: {font: \"STIX-Web\"}});}\n",
       "        if (typeof require !== 'undefined') {\n",
       "        require.undef(\"plotly\");\n",
       "        requirejs.config({\n",
       "            paths: {\n",
       "                'plotly': ['https://cdn.plot.ly/plotly-2.6.3.min']\n",
       "            }\n",
       "        });\n",
       "        require(['plotly'], function(Plotly) {\n",
       "            window._Plotly = Plotly;\n",
       "        });\n",
       "        }\n",
       "        </script>\n",
       "        "
      ]
     },
     "metadata": {},
     "output_type": "display_data"
    }
   ],
   "source": [
    "#load library\n",
    "import pandas as pd\n",
    "import numpy as np\n",
    "import datetime as dt\n",
    "import matplotlib.pyplot as plt\n",
    "import math as mth\n",
    "import seaborn as sns\n",
    "from scipy import stats as st\n",
    "import plotly\n",
    "import scipy.stats as stats\n",
    "import plotly.express as px\n",
    "from plotly import graph_objs as go\n",
    "from __future__ import division\n",
    "import plotly.figure_factory as ff\n",
    "from plotly.offline import download_plotlyjs, init_notebook_mode, plot, iplot\n",
    "init_notebook_mode(connected=True)\n",
    "%matplotlib inline\n",
    "\n",
    "from scipy.stats import spearmanr\n",
    "\n",
    "from sklearn.model_selection import train_test_split\n",
    "from sklearn.preprocessing import StandardScaler\n",
    "\n",
    "from sklearn.linear_model import LogisticRegression\n",
    "from sklearn.ensemble import RandomForestClassifier\n",
    "\n",
    "from sklearn.cluster import KMeans\n",
    "from scipy.cluster.hierarchy import dendrogram, linkage\n",
    "from sklearn.metrics import accuracy_score, precision_score, recall_score\n",
    "\n",
    "import warnings\n",
    "warnings.filterwarnings('ignore')\n",
    "pd.set_option('display.precision', 15)\n",
    "pd.set_option('display.max_columns', 300)"
   ]
  },
  {
   "cell_type": "markdown",
   "metadata": {},
   "source": [
    "## Load the data\n",
    "\n",
    "In the following Data Overview, we'll open up the data using `head()`, `info()`, `describe()`, and `isnull().sum()` functions to further explore the dataset."
   ]
  },
  {
   "cell_type": "markdown",
   "metadata": {},
   "source": [
    "- **Retail**\n",
    "    \n",
    "    This `Retail` table contains the following columns:\n",
    "    - purchaseid - purchased id\n",
    "    - item_ID - items id\n",
    "    - Quantity - number of items purchased\n",
    "    - purchasedate - purchase date\n",
    "    - CustomerID - customers id\n",
    "    - loyalty_program - members / non-members\n",
    "    - ShopID - shop id"
   ]
  },
  {
   "cell_type": "code",
   "execution_count": 2,
   "metadata": {},
   "outputs": [
    {
     "data": {
      "text/html": [
       "<div>\n",
       "<style scoped>\n",
       "    .dataframe tbody tr th:only-of-type {\n",
       "        vertical-align: middle;\n",
       "    }\n",
       "\n",
       "    .dataframe tbody tr th {\n",
       "        vertical-align: top;\n",
       "    }\n",
       "\n",
       "    .dataframe thead th {\n",
       "        text-align: right;\n",
       "    }\n",
       "</style>\n",
       "<table border=\"1\" class=\"dataframe\">\n",
       "  <thead>\n",
       "    <tr style=\"text-align: right;\">\n",
       "      <th></th>\n",
       "      <th>purchaseid</th>\n",
       "      <th>item_ID</th>\n",
       "      <th>Quantity</th>\n",
       "      <th>purchasedate</th>\n",
       "      <th>CustomerID</th>\n",
       "      <th>loyalty_program</th>\n",
       "      <th>ShopID</th>\n",
       "    </tr>\n",
       "  </thead>\n",
       "  <tbody>\n",
       "    <tr>\n",
       "      <th>0</th>\n",
       "      <td>538280</td>\n",
       "      <td>21873</td>\n",
       "      <td>11</td>\n",
       "      <td>2016-12-10 12:50:00</td>\n",
       "      <td>18427.0</td>\n",
       "      <td>0</td>\n",
       "      <td>Shop 3</td>\n",
       "    </tr>\n",
       "    <tr>\n",
       "      <th>1</th>\n",
       "      <td>538862</td>\n",
       "      <td>22195</td>\n",
       "      <td>0</td>\n",
       "      <td>2016-12-14 14:11:00</td>\n",
       "      <td>22389.0</td>\n",
       "      <td>1</td>\n",
       "      <td>Shop 2</td>\n",
       "    </tr>\n",
       "    <tr>\n",
       "      <th>2</th>\n",
       "      <td>538855</td>\n",
       "      <td>21239</td>\n",
       "      <td>7</td>\n",
       "      <td>2016-12-14 13:50:00</td>\n",
       "      <td>22182.0</td>\n",
       "      <td>1</td>\n",
       "      <td>Shop 3</td>\n",
       "    </tr>\n",
       "    <tr>\n",
       "      <th>3</th>\n",
       "      <td>543543</td>\n",
       "      <td>22271</td>\n",
       "      <td>0</td>\n",
       "      <td>2017-02-09 15:33:00</td>\n",
       "      <td>23522.0</td>\n",
       "      <td>1</td>\n",
       "      <td>Shop 28</td>\n",
       "    </tr>\n",
       "    <tr>\n",
       "      <th>4</th>\n",
       "      <td>543812</td>\n",
       "      <td>79321</td>\n",
       "      <td>0</td>\n",
       "      <td>2017-02-13 14:40:00</td>\n",
       "      <td>23151.0</td>\n",
       "      <td>1</td>\n",
       "      <td>Shop 28</td>\n",
       "    </tr>\n",
       "  </tbody>\n",
       "</table>\n",
       "</div>"
      ],
      "text/plain": [
       "  purchaseid item_ID  Quantity         purchasedate  CustomerID  \\\n",
       "0     538280   21873        11  2016-12-10 12:50:00     18427.0   \n",
       "1     538862   22195         0  2016-12-14 14:11:00     22389.0   \n",
       "2     538855   21239         7  2016-12-14 13:50:00     22182.0   \n",
       "3     543543   22271         0  2017-02-09 15:33:00     23522.0   \n",
       "4     543812   79321         0  2017-02-13 14:40:00     23151.0   \n",
       "\n",
       "   loyalty_program   ShopID  \n",
       "0                0   Shop 3  \n",
       "1                1   Shop 2  \n",
       "2                1   Shop 3  \n",
       "3                1  Shop 28  \n",
       "4                1  Shop 28  "
      ]
     },
     "execution_count": 2,
     "metadata": {},
     "output_type": "execute_result"
    }
   ],
   "source": [
    "# reading dataset\n",
    "retail = pd.read_csv('/datasets/retail_dataset_us.csv')\n",
    "retail.head()"
   ]
  },
  {
   "cell_type": "code",
   "execution_count": 3,
   "metadata": {},
   "outputs": [
    {
     "name": "stdout",
     "output_type": "stream",
     "text": [
      "<class 'pandas.core.frame.DataFrame'>\n",
      "RangeIndex: 105335 entries, 0 to 105334\n",
      "Data columns (total 7 columns):\n",
      " #   Column           Non-Null Count   Dtype  \n",
      "---  ------           --------------   -----  \n",
      " 0   purchaseid       105335 non-null  object \n",
      " 1   item_ID          105335 non-null  object \n",
      " 2   Quantity         105335 non-null  int64  \n",
      " 3   purchasedate     105335 non-null  object \n",
      " 4   CustomerID       69125 non-null   float64\n",
      " 5   loyalty_program  105335 non-null  int64  \n",
      " 6   ShopID           105335 non-null  object \n",
      "dtypes: float64(1), int64(2), object(4)\n",
      "memory usage: 5.6+ MB\n"
     ]
    }
   ],
   "source": [
    "# getting dataset infromation\n",
    "retail.info()"
   ]
  },
  {
   "cell_type": "code",
   "execution_count": 4,
   "metadata": {},
   "outputs": [
    {
     "data": {
      "text/html": [
       "<div>\n",
       "<style scoped>\n",
       "    .dataframe tbody tr th:only-of-type {\n",
       "        vertical-align: middle;\n",
       "    }\n",
       "\n",
       "    .dataframe tbody tr th {\n",
       "        vertical-align: top;\n",
       "    }\n",
       "\n",
       "    .dataframe thead th {\n",
       "        text-align: right;\n",
       "    }\n",
       "</style>\n",
       "<table border=\"1\" class=\"dataframe\">\n",
       "  <thead>\n",
       "    <tr style=\"text-align: right;\">\n",
       "      <th></th>\n",
       "      <th>Quantity</th>\n",
       "      <th>CustomerID</th>\n",
       "      <th>loyalty_program</th>\n",
       "    </tr>\n",
       "  </thead>\n",
       "  <tbody>\n",
       "    <tr>\n",
       "      <th>count</th>\n",
       "      <td>105335.000000000000000</td>\n",
       "      <td>69125.000000000000000</td>\n",
       "      <td>105335.000000000000000</td>\n",
       "    </tr>\n",
       "    <tr>\n",
       "      <th>mean</th>\n",
       "      <td>7.821218018702235</td>\n",
       "      <td>21019.302047016273718</td>\n",
       "      <td>0.226344519865192</td>\n",
       "    </tr>\n",
       "    <tr>\n",
       "      <th>std</th>\n",
       "      <td>327.946694907624874</td>\n",
       "      <td>1765.444679266724734</td>\n",
       "      <td>0.418466654159923</td>\n",
       "    </tr>\n",
       "    <tr>\n",
       "      <th>min</th>\n",
       "      <td>-74216.000000000000000</td>\n",
       "      <td>18025.000000000000000</td>\n",
       "      <td>0.000000000000000</td>\n",
       "    </tr>\n",
       "    <tr>\n",
       "      <th>25%</th>\n",
       "      <td>0.000000000000000</td>\n",
       "      <td>19544.000000000000000</td>\n",
       "      <td>0.000000000000000</td>\n",
       "    </tr>\n",
       "    <tr>\n",
       "      <th>50%</th>\n",
       "      <td>2.000000000000000</td>\n",
       "      <td>20990.000000000000000</td>\n",
       "      <td>0.000000000000000</td>\n",
       "    </tr>\n",
       "    <tr>\n",
       "      <th>75%</th>\n",
       "      <td>7.000000000000000</td>\n",
       "      <td>22659.000000000000000</td>\n",
       "      <td>0.000000000000000</td>\n",
       "    </tr>\n",
       "    <tr>\n",
       "      <th>max</th>\n",
       "      <td>74214.000000000000000</td>\n",
       "      <td>23962.000000000000000</td>\n",
       "      <td>1.000000000000000</td>\n",
       "    </tr>\n",
       "  </tbody>\n",
       "</table>\n",
       "</div>"
      ],
      "text/plain": [
       "                     Quantity             CustomerID         loyalty_program\n",
       "count  105335.000000000000000  69125.000000000000000  105335.000000000000000\n",
       "mean        7.821218018702235  21019.302047016273718       0.226344519865192\n",
       "std       327.946694907624874   1765.444679266724734       0.418466654159923\n",
       "min    -74216.000000000000000  18025.000000000000000       0.000000000000000\n",
       "25%         0.000000000000000  19544.000000000000000       0.000000000000000\n",
       "50%         2.000000000000000  20990.000000000000000       0.000000000000000\n",
       "75%         7.000000000000000  22659.000000000000000       0.000000000000000\n",
       "max     74214.000000000000000  23962.000000000000000       1.000000000000000"
      ]
     },
     "execution_count": 4,
     "metadata": {},
     "output_type": "execute_result"
    }
   ],
   "source": [
    "# getting statical information about our dataset\n",
    "retail.describe()"
   ]
  },
  {
   "cell_type": "code",
   "execution_count": 5,
   "metadata": {},
   "outputs": [
    {
     "data": {
      "text/plain": [
       "purchaseid             0\n",
       "item_ID                0\n",
       "Quantity               0\n",
       "purchasedate           0\n",
       "CustomerID         36210\n",
       "loyalty_program        0\n",
       "ShopID                 0\n",
       "dtype: int64"
      ]
     },
     "execution_count": 5,
     "metadata": {},
     "output_type": "execute_result"
    }
   ],
   "source": [
    "# checking for missing value\n",
    "retail.isnull().sum()"
   ]
  },
  {
   "cell_type": "code",
   "execution_count": 6,
   "metadata": {},
   "outputs": [
    {
     "data": {
      "text/plain": [
       "1033"
      ]
     },
     "execution_count": 6,
     "metadata": {},
     "output_type": "execute_result"
    }
   ],
   "source": [
    "# checking dublicate rows in dataset\n",
    "retail.duplicated().sum()"
   ]
  },
  {
   "cell_type": "markdown",
   "metadata": {},
   "source": [
    "As can be seen, this retail dataset requires several improvements, such as:\n",
    "- Column name fixes\n",
    "- Fixed the data type in the `purchasedate` and `CustomerID` columns\n",
    "- Found a missing value of 36210 in `CustomerID`\n",
    "- Found duplicate rows of 1033"
   ]
  },
  {
   "cell_type": "markdown",
   "metadata": {},
   "source": [
    "- **Product**\n",
    "    \n",
    "    This `product` table contains the following columns:\n",
    "    - price_per_one- price per unit"
   ]
  },
  {
   "cell_type": "code",
   "execution_count": 7,
   "metadata": {},
   "outputs": [
    {
     "data": {
      "text/html": [
       "<div>\n",
       "<style scoped>\n",
       "    .dataframe tbody tr th:only-of-type {\n",
       "        vertical-align: middle;\n",
       "    }\n",
       "\n",
       "    .dataframe tbody tr th {\n",
       "        vertical-align: top;\n",
       "    }\n",
       "\n",
       "    .dataframe thead th {\n",
       "        text-align: right;\n",
       "    }\n",
       "</style>\n",
       "<table border=\"1\" class=\"dataframe\">\n",
       "  <thead>\n",
       "    <tr style=\"text-align: right;\">\n",
       "      <th></th>\n",
       "      <th>productID</th>\n",
       "      <th>price_per_one</th>\n",
       "    </tr>\n",
       "  </thead>\n",
       "  <tbody>\n",
       "    <tr>\n",
       "      <th>0</th>\n",
       "      <td>10002</td>\n",
       "      <td>0.85</td>\n",
       "    </tr>\n",
       "    <tr>\n",
       "      <th>1</th>\n",
       "      <td>10080</td>\n",
       "      <td>0.85</td>\n",
       "    </tr>\n",
       "    <tr>\n",
       "      <th>2</th>\n",
       "      <td>10120</td>\n",
       "      <td>0.21</td>\n",
       "    </tr>\n",
       "    <tr>\n",
       "      <th>3</th>\n",
       "      <td>10123C</td>\n",
       "      <td>0.65</td>\n",
       "    </tr>\n",
       "    <tr>\n",
       "      <th>4</th>\n",
       "      <td>10124A</td>\n",
       "      <td>0.42</td>\n",
       "    </tr>\n",
       "  </tbody>\n",
       "</table>\n",
       "</div>"
      ],
      "text/plain": [
       "  productID  price_per_one\n",
       "0     10002           0.85\n",
       "1     10080           0.85\n",
       "2     10120           0.21\n",
       "3    10123C           0.65\n",
       "4    10124A           0.42"
      ]
     },
     "execution_count": 7,
     "metadata": {},
     "output_type": "execute_result"
    }
   ],
   "source": [
    "# reading dataset\n",
    "product = pd.read_csv('/datasets/product_codes_us.csv', sep=';')\n",
    "product.head()"
   ]
  },
  {
   "cell_type": "code",
   "execution_count": 8,
   "metadata": {},
   "outputs": [
    {
     "name": "stdout",
     "output_type": "stream",
     "text": [
      "<class 'pandas.core.frame.DataFrame'>\n",
      "RangeIndex: 3159 entries, 0 to 3158\n",
      "Data columns (total 2 columns):\n",
      " #   Column         Non-Null Count  Dtype  \n",
      "---  ------         --------------  -----  \n",
      " 0   productID      3159 non-null   object \n",
      " 1   price_per_one  3159 non-null   float64\n",
      "dtypes: float64(1), object(1)\n",
      "memory usage: 49.5+ KB\n"
     ]
    }
   ],
   "source": [
    "# getting dataset infromation\n",
    "product.info()"
   ]
  },
  {
   "cell_type": "code",
   "execution_count": 9,
   "metadata": {},
   "outputs": [
    {
     "data": {
      "text/html": [
       "<div>\n",
       "<style scoped>\n",
       "    .dataframe tbody tr th:only-of-type {\n",
       "        vertical-align: middle;\n",
       "    }\n",
       "\n",
       "    .dataframe tbody tr th {\n",
       "        vertical-align: top;\n",
       "    }\n",
       "\n",
       "    .dataframe thead th {\n",
       "        text-align: right;\n",
       "    }\n",
       "</style>\n",
       "<table border=\"1\" class=\"dataframe\">\n",
       "  <thead>\n",
       "    <tr style=\"text-align: right;\">\n",
       "      <th></th>\n",
       "      <th>price_per_one</th>\n",
       "    </tr>\n",
       "  </thead>\n",
       "  <tbody>\n",
       "    <tr>\n",
       "      <th>count</th>\n",
       "      <td>3159.000000000000000</td>\n",
       "    </tr>\n",
       "    <tr>\n",
       "      <th>mean</th>\n",
       "      <td>2.954495093383982</td>\n",
       "    </tr>\n",
       "    <tr>\n",
       "      <th>std</th>\n",
       "      <td>7.213807949543177</td>\n",
       "    </tr>\n",
       "    <tr>\n",
       "      <th>min</th>\n",
       "      <td>0.000000000000000</td>\n",
       "    </tr>\n",
       "    <tr>\n",
       "      <th>25%</th>\n",
       "      <td>0.650000000000000</td>\n",
       "    </tr>\n",
       "    <tr>\n",
       "      <th>50%</th>\n",
       "      <td>1.450000000000000</td>\n",
       "    </tr>\n",
       "    <tr>\n",
       "      <th>75%</th>\n",
       "      <td>3.290000000000000</td>\n",
       "    </tr>\n",
       "    <tr>\n",
       "      <th>max</th>\n",
       "      <td>175.000000000000000</td>\n",
       "    </tr>\n",
       "  </tbody>\n",
       "</table>\n",
       "</div>"
      ],
      "text/plain": [
       "              price_per_one\n",
       "count  3159.000000000000000\n",
       "mean      2.954495093383982\n",
       "std       7.213807949543177\n",
       "min       0.000000000000000\n",
       "25%       0.650000000000000\n",
       "50%       1.450000000000000\n",
       "75%       3.290000000000000\n",
       "max     175.000000000000000"
      ]
     },
     "execution_count": 9,
     "metadata": {},
     "output_type": "execute_result"
    }
   ],
   "source": [
    "# getting statical information about our dataset\n",
    "product.describe()"
   ]
  },
  {
   "cell_type": "code",
   "execution_count": 10,
   "metadata": {},
   "outputs": [
    {
     "data": {
      "text/plain": [
       "productID        0\n",
       "price_per_one    0\n",
       "dtype: int64"
      ]
     },
     "execution_count": 10,
     "metadata": {},
     "output_type": "execute_result"
    }
   ],
   "source": [
    "# checking for missing value\n",
    "product.isnull().sum()"
   ]
  },
  {
   "cell_type": "code",
   "execution_count": 11,
   "metadata": {},
   "outputs": [
    {
     "data": {
      "text/plain": [
       "0"
      ]
     },
     "execution_count": 11,
     "metadata": {},
     "output_type": "execute_result"
    }
   ],
   "source": [
    "# checking dublicate rows in dataset\n",
    "product.duplicated().sum()"
   ]
  },
  {
   "cell_type": "markdown",
   "metadata": {},
   "source": [
    "The product dataset shows that there are no missing values found, however, there are 1033 duplicate rows found in the `retail` df and we need to fix the column name as well."
   ]
  },
  {
   "cell_type": "markdown",
   "metadata": {},
   "source": [
    "# Step 2. Data Exploratory"
   ]
  },
  {
   "cell_type": "markdown",
   "metadata": {},
   "source": [
    "## Fixing The Column Names\n",
    "\n",
    "Here we will change or improve the writing of several column names in both datasets (retail and product) by lowercase using .rename()."
   ]
  },
  {
   "cell_type": "markdown",
   "metadata": {},
   "source": [
    "### Retail dataset"
   ]
  },
  {
   "cell_type": "code",
   "execution_count": 12,
   "metadata": {},
   "outputs": [
    {
     "data": {
      "text/plain": [
       "Index(['purchaseid', 'item_ID', 'Quantity', 'purchasedate', 'CustomerID',\n",
       "       'loyalty_program', 'ShopID'],\n",
       "      dtype='object')"
      ]
     },
     "execution_count": 12,
     "metadata": {},
     "output_type": "execute_result"
    }
   ],
   "source": [
    "retail.columns"
   ]
  },
  {
   "cell_type": "code",
   "execution_count": 13,
   "metadata": {},
   "outputs": [
    {
     "data": {
      "text/plain": [
       "Index(['purchase_id', 'item_id', 'quantity', 'purchase_date', 'customer_id',\n",
       "       'loyalty_program', 'shop_id'],\n",
       "      dtype='object')"
      ]
     },
     "execution_count": 13,
     "metadata": {},
     "output_type": "execute_result"
    }
   ],
   "source": [
    "# Replace a new column name\n",
    "retail.rename(columns={\n",
    "    'purchaseid': 'purchase_id',\n",
    "    'item_ID': 'item_id',\n",
    "    'Quantity': 'quantity',\n",
    "    'purchasedate': 'purchase_date',\n",
    "    'CustomerID': 'customer_id',\n",
    "    'ShopID': 'shop_id',\n",
    "}, inplace=True)\n",
    "\n",
    "retail.columns"
   ]
  },
  {
   "cell_type": "code",
   "execution_count": 14,
   "metadata": {},
   "outputs": [
    {
     "data": {
      "text/html": [
       "<div>\n",
       "<style scoped>\n",
       "    .dataframe tbody tr th:only-of-type {\n",
       "        vertical-align: middle;\n",
       "    }\n",
       "\n",
       "    .dataframe tbody tr th {\n",
       "        vertical-align: top;\n",
       "    }\n",
       "\n",
       "    .dataframe thead th {\n",
       "        text-align: right;\n",
       "    }\n",
       "</style>\n",
       "<table border=\"1\" class=\"dataframe\">\n",
       "  <thead>\n",
       "    <tr style=\"text-align: right;\">\n",
       "      <th></th>\n",
       "      <th>purchase_id</th>\n",
       "      <th>item_id</th>\n",
       "      <th>quantity</th>\n",
       "      <th>purchase_date</th>\n",
       "      <th>customer_id</th>\n",
       "      <th>loyalty_program</th>\n",
       "      <th>shop_id</th>\n",
       "    </tr>\n",
       "  </thead>\n",
       "  <tbody>\n",
       "    <tr>\n",
       "      <th>0</th>\n",
       "      <td>538280</td>\n",
       "      <td>21873</td>\n",
       "      <td>11</td>\n",
       "      <td>2016-12-10 12:50:00</td>\n",
       "      <td>18427.0</td>\n",
       "      <td>0</td>\n",
       "      <td>Shop 3</td>\n",
       "    </tr>\n",
       "    <tr>\n",
       "      <th>1</th>\n",
       "      <td>538862</td>\n",
       "      <td>22195</td>\n",
       "      <td>0</td>\n",
       "      <td>2016-12-14 14:11:00</td>\n",
       "      <td>22389.0</td>\n",
       "      <td>1</td>\n",
       "      <td>Shop 2</td>\n",
       "    </tr>\n",
       "    <tr>\n",
       "      <th>2</th>\n",
       "      <td>538855</td>\n",
       "      <td>21239</td>\n",
       "      <td>7</td>\n",
       "      <td>2016-12-14 13:50:00</td>\n",
       "      <td>22182.0</td>\n",
       "      <td>1</td>\n",
       "      <td>Shop 3</td>\n",
       "    </tr>\n",
       "  </tbody>\n",
       "</table>\n",
       "</div>"
      ],
      "text/plain": [
       "  purchase_id item_id  quantity        purchase_date  customer_id  \\\n",
       "0      538280   21873        11  2016-12-10 12:50:00      18427.0   \n",
       "1      538862   22195         0  2016-12-14 14:11:00      22389.0   \n",
       "2      538855   21239         7  2016-12-14 13:50:00      22182.0   \n",
       "\n",
       "   loyalty_program shop_id  \n",
       "0                0  Shop 3  \n",
       "1                1  Shop 2  \n",
       "2                1  Shop 3  "
      ]
     },
     "execution_count": 14,
     "metadata": {},
     "output_type": "execute_result"
    }
   ],
   "source": [
    "retail.head(3)"
   ]
  },
  {
   "cell_type": "markdown",
   "metadata": {},
   "source": [
    "### Product dataset"
   ]
  },
  {
   "cell_type": "code",
   "execution_count": 15,
   "metadata": {},
   "outputs": [
    {
     "data": {
      "text/plain": [
       "Index(['productID', 'price_per_one'], dtype='object')"
      ]
     },
     "execution_count": 15,
     "metadata": {},
     "output_type": "execute_result"
    }
   ],
   "source": [
    "product.columns"
   ]
  },
  {
   "cell_type": "code",
   "execution_count": 16,
   "metadata": {},
   "outputs": [
    {
     "data": {
      "text/plain": [
       "Index(['product_id', 'price_per_one'], dtype='object')"
      ]
     },
     "execution_count": 16,
     "metadata": {},
     "output_type": "execute_result"
    }
   ],
   "source": [
    "# Replace a new column name\n",
    "product.rename(columns={'productID': 'product_id'}, inplace=True)\n",
    "product.columns"
   ]
  },
  {
   "cell_type": "code",
   "execution_count": 17,
   "metadata": {},
   "outputs": [
    {
     "data": {
      "text/html": [
       "<div>\n",
       "<style scoped>\n",
       "    .dataframe tbody tr th:only-of-type {\n",
       "        vertical-align: middle;\n",
       "    }\n",
       "\n",
       "    .dataframe tbody tr th {\n",
       "        vertical-align: top;\n",
       "    }\n",
       "\n",
       "    .dataframe thead th {\n",
       "        text-align: right;\n",
       "    }\n",
       "</style>\n",
       "<table border=\"1\" class=\"dataframe\">\n",
       "  <thead>\n",
       "    <tr style=\"text-align: right;\">\n",
       "      <th></th>\n",
       "      <th>product_id</th>\n",
       "      <th>price_per_one</th>\n",
       "    </tr>\n",
       "  </thead>\n",
       "  <tbody>\n",
       "    <tr>\n",
       "      <th>0</th>\n",
       "      <td>10002</td>\n",
       "      <td>0.85</td>\n",
       "    </tr>\n",
       "    <tr>\n",
       "      <th>1</th>\n",
       "      <td>10080</td>\n",
       "      <td>0.85</td>\n",
       "    </tr>\n",
       "    <tr>\n",
       "      <th>2</th>\n",
       "      <td>10120</td>\n",
       "      <td>0.21</td>\n",
       "    </tr>\n",
       "  </tbody>\n",
       "</table>\n",
       "</div>"
      ],
      "text/plain": [
       "  product_id  price_per_one\n",
       "0      10002           0.85\n",
       "1      10080           0.85\n",
       "2      10120           0.21"
      ]
     },
     "execution_count": 17,
     "metadata": {},
     "output_type": "execute_result"
    }
   ],
   "source": [
    "product.head(3)"
   ]
  },
  {
   "cell_type": "markdown",
   "metadata": {},
   "source": [
    "All clear! Column names in both datasets have been fixed. Let's move to the next step."
   ]
  },
  {
   "cell_type": "markdown",
   "metadata": {},
   "source": [
    "## Handling Missing Values"
   ]
  },
  {
   "cell_type": "markdown",
   "metadata": {},
   "source": [
    "- **Missing value in column `customer_id`**\n",
    "\n",
    "At this stage, before we decide to deal with missing values, we will first find out the cause of the missing values. Let's look at the stages as follows:\n"
   ]
  },
  {
   "cell_type": "code",
   "execution_count": 18,
   "metadata": {},
   "outputs": [
    {
     "data": {
      "text/plain": [
       "36210"
      ]
     },
     "execution_count": 18,
     "metadata": {},
     "output_type": "execute_result"
    }
   ],
   "source": [
    "#checking for missing value\n",
    "retail.customer_id.isnull().sum()"
   ]
  },
  {
   "cell_type": "code",
   "execution_count": 19,
   "metadata": {},
   "outputs": [
    {
     "data": {
      "text/html": [
       "<div>\n",
       "<style scoped>\n",
       "    .dataframe tbody tr th:only-of-type {\n",
       "        vertical-align: middle;\n",
       "    }\n",
       "\n",
       "    .dataframe tbody tr th {\n",
       "        vertical-align: top;\n",
       "    }\n",
       "\n",
       "    .dataframe thead th {\n",
       "        text-align: right;\n",
       "    }\n",
       "</style>\n",
       "<table border=\"1\" class=\"dataframe\">\n",
       "  <thead>\n",
       "    <tr style=\"text-align: right;\">\n",
       "      <th></th>\n",
       "      <th>purchase_id</th>\n",
       "      <th>item_id</th>\n",
       "      <th>quantity</th>\n",
       "      <th>purchase_date</th>\n",
       "      <th>customer_id</th>\n",
       "      <th>loyalty_program</th>\n",
       "      <th>shop_id</th>\n",
       "    </tr>\n",
       "  </thead>\n",
       "  <tbody>\n",
       "    <tr>\n",
       "      <th>6</th>\n",
       "      <td>540468</td>\n",
       "      <td>22189</td>\n",
       "      <td>0</td>\n",
       "      <td>2017-01-07 13:55:00</td>\n",
       "      <td>NaN</td>\n",
       "      <td>0</td>\n",
       "      <td>Shop 0</td>\n",
       "    </tr>\n",
       "    <tr>\n",
       "      <th>7</th>\n",
       "      <td>541424</td>\n",
       "      <td>79321</td>\n",
       "      <td>1</td>\n",
       "      <td>2017-01-17 17:57:00</td>\n",
       "      <td>NaN</td>\n",
       "      <td>0</td>\n",
       "      <td>Shop 0</td>\n",
       "    </tr>\n",
       "    <tr>\n",
       "      <th>8</th>\n",
       "      <td>538883</td>\n",
       "      <td>22891</td>\n",
       "      <td>0</td>\n",
       "      <td>2016-12-14 15:56:00</td>\n",
       "      <td>NaN</td>\n",
       "      <td>0</td>\n",
       "      <td>Shop 0</td>\n",
       "    </tr>\n",
       "    <tr>\n",
       "      <th>11</th>\n",
       "      <td>541696</td>\n",
       "      <td>22197</td>\n",
       "      <td>4</td>\n",
       "      <td>2017-01-20 18:08:00</td>\n",
       "      <td>NaN</td>\n",
       "      <td>0</td>\n",
       "      <td>Shop 0</td>\n",
       "    </tr>\n",
       "    <tr>\n",
       "      <th>16</th>\n",
       "      <td>539744</td>\n",
       "      <td>22300</td>\n",
       "      <td>5</td>\n",
       "      <td>2016-12-21 15:21:00</td>\n",
       "      <td>NaN</td>\n",
       "      <td>0</td>\n",
       "      <td>Shop 0</td>\n",
       "    </tr>\n",
       "    <tr>\n",
       "      <th>...</th>\n",
       "      <td>...</td>\n",
       "      <td>...</td>\n",
       "      <td>...</td>\n",
       "      <td>...</td>\n",
       "      <td>...</td>\n",
       "      <td>...</td>\n",
       "      <td>...</td>\n",
       "    </tr>\n",
       "    <tr>\n",
       "      <th>105325</th>\n",
       "      <td>536982</td>\n",
       "      <td>20719</td>\n",
       "      <td>69</td>\n",
       "      <td>2016-12-03 14:27:00</td>\n",
       "      <td>NaN</td>\n",
       "      <td>0</td>\n",
       "      <td>Shop 0</td>\n",
       "    </tr>\n",
       "    <tr>\n",
       "      <th>105326</th>\n",
       "      <td>540681</td>\n",
       "      <td>22227</td>\n",
       "      <td>1</td>\n",
       "      <td>2017-01-10 16:25:00</td>\n",
       "      <td>NaN</td>\n",
       "      <td>0</td>\n",
       "      <td>Shop 0</td>\n",
       "    </tr>\n",
       "    <tr>\n",
       "      <th>105327</th>\n",
       "      <td>538349</td>\n",
       "      <td>22625</td>\n",
       "      <td>0</td>\n",
       "      <td>2016-12-10 14:59:00</td>\n",
       "      <td>NaN</td>\n",
       "      <td>0</td>\n",
       "      <td>Shop 0</td>\n",
       "    </tr>\n",
       "    <tr>\n",
       "      <th>105329</th>\n",
       "      <td>540154</td>\n",
       "      <td>22134</td>\n",
       "      <td>3</td>\n",
       "      <td>2017-01-05 11:30:00</td>\n",
       "      <td>NaN</td>\n",
       "      <td>0</td>\n",
       "      <td>Shop 0</td>\n",
       "    </tr>\n",
       "    <tr>\n",
       "      <th>105330</th>\n",
       "      <td>538566</td>\n",
       "      <td>21826</td>\n",
       "      <td>1</td>\n",
       "      <td>2016-12-13 11:21:00</td>\n",
       "      <td>NaN</td>\n",
       "      <td>0</td>\n",
       "      <td>Shop 0</td>\n",
       "    </tr>\n",
       "  </tbody>\n",
       "</table>\n",
       "<p>36210 rows × 7 columns</p>\n",
       "</div>"
      ],
      "text/plain": [
       "       purchase_id item_id  quantity        purchase_date  customer_id  \\\n",
       "6           540468   22189         0  2017-01-07 13:55:00          NaN   \n",
       "7           541424   79321         1  2017-01-17 17:57:00          NaN   \n",
       "8           538883   22891         0  2016-12-14 15:56:00          NaN   \n",
       "11          541696   22197         4  2017-01-20 18:08:00          NaN   \n",
       "16          539744   22300         5  2016-12-21 15:21:00          NaN   \n",
       "...            ...     ...       ...                  ...          ...   \n",
       "105325      536982   20719        69  2016-12-03 14:27:00          NaN   \n",
       "105326      540681   22227         1  2017-01-10 16:25:00          NaN   \n",
       "105327      538349   22625         0  2016-12-10 14:59:00          NaN   \n",
       "105329      540154   22134         3  2017-01-05 11:30:00          NaN   \n",
       "105330      538566   21826         1  2016-12-13 11:21:00          NaN   \n",
       "\n",
       "        loyalty_program shop_id  \n",
       "6                     0  Shop 0  \n",
       "7                     0  Shop 0  \n",
       "8                     0  Shop 0  \n",
       "11                    0  Shop 0  \n",
       "16                    0  Shop 0  \n",
       "...                 ...     ...  \n",
       "105325                0  Shop 0  \n",
       "105326                0  Shop 0  \n",
       "105327                0  Shop 0  \n",
       "105329                0  Shop 0  \n",
       "105330                0  Shop 0  \n",
       "\n",
       "[36210 rows x 7 columns]"
      ]
     },
     "execution_count": 19,
     "metadata": {},
     "output_type": "execute_result"
    }
   ],
   "source": [
    "retail[retail['customer_id'].isna()]"
   ]
  },
  {
   "cell_type": "code",
   "execution_count": 20,
   "metadata": {
    "scrolled": true
   },
   "outputs": [
    {
     "data": {
      "text/html": [
       "<div>\n",
       "<style scoped>\n",
       "    .dataframe tbody tr th:only-of-type {\n",
       "        vertical-align: middle;\n",
       "    }\n",
       "\n",
       "    .dataframe tbody tr th {\n",
       "        vertical-align: top;\n",
       "    }\n",
       "\n",
       "    .dataframe thead th {\n",
       "        text-align: right;\n",
       "    }\n",
       "</style>\n",
       "<table border=\"1\" class=\"dataframe\">\n",
       "  <thead>\n",
       "    <tr style=\"text-align: right;\">\n",
       "      <th></th>\n",
       "      <th>purchase_id</th>\n",
       "      <th>item_id</th>\n",
       "      <th>quantity</th>\n",
       "      <th>purchase_date</th>\n",
       "      <th>customer_id</th>\n",
       "      <th>loyalty_program</th>\n",
       "      <th>shop_id</th>\n",
       "    </tr>\n",
       "  </thead>\n",
       "  <tbody>\n",
       "    <tr>\n",
       "      <th>105325</th>\n",
       "      <td>536982</td>\n",
       "      <td>20719</td>\n",
       "      <td>69</td>\n",
       "      <td>2016-12-03 14:27:00</td>\n",
       "      <td>0.0</td>\n",
       "      <td>0</td>\n",
       "      <td>Shop 0</td>\n",
       "    </tr>\n",
       "    <tr>\n",
       "      <th>105326</th>\n",
       "      <td>540681</td>\n",
       "      <td>22227</td>\n",
       "      <td>1</td>\n",
       "      <td>2017-01-10 16:25:00</td>\n",
       "      <td>0.0</td>\n",
       "      <td>0</td>\n",
       "      <td>Shop 0</td>\n",
       "    </tr>\n",
       "    <tr>\n",
       "      <th>105327</th>\n",
       "      <td>538349</td>\n",
       "      <td>22625</td>\n",
       "      <td>0</td>\n",
       "      <td>2016-12-10 14:59:00</td>\n",
       "      <td>0.0</td>\n",
       "      <td>0</td>\n",
       "      <td>Shop 0</td>\n",
       "    </tr>\n",
       "    <tr>\n",
       "      <th>105328</th>\n",
       "      <td>537886</td>\n",
       "      <td>22158</td>\n",
       "      <td>7</td>\n",
       "      <td>2016-12-09 09:49:00</td>\n",
       "      <td>21339.0</td>\n",
       "      <td>0</td>\n",
       "      <td>Shop 13</td>\n",
       "    </tr>\n",
       "    <tr>\n",
       "      <th>105329</th>\n",
       "      <td>540154</td>\n",
       "      <td>22134</td>\n",
       "      <td>3</td>\n",
       "      <td>2017-01-05 11:30:00</td>\n",
       "      <td>0.0</td>\n",
       "      <td>0</td>\n",
       "      <td>Shop 0</td>\n",
       "    </tr>\n",
       "    <tr>\n",
       "      <th>105330</th>\n",
       "      <td>538566</td>\n",
       "      <td>21826</td>\n",
       "      <td>1</td>\n",
       "      <td>2016-12-13 11:21:00</td>\n",
       "      <td>0.0</td>\n",
       "      <td>0</td>\n",
       "      <td>Shop 0</td>\n",
       "    </tr>\n",
       "    <tr>\n",
       "      <th>105331</th>\n",
       "      <td>540247</td>\n",
       "      <td>21742</td>\n",
       "      <td>0</td>\n",
       "      <td>2017-01-05 15:56:00</td>\n",
       "      <td>21143.0</td>\n",
       "      <td>0</td>\n",
       "      <td>Shop 24</td>\n",
       "    </tr>\n",
       "    <tr>\n",
       "      <th>105332</th>\n",
       "      <td>538068</td>\n",
       "      <td>85048</td>\n",
       "      <td>1</td>\n",
       "      <td>2016-12-09 14:05:00</td>\n",
       "      <td>23657.0</td>\n",
       "      <td>1</td>\n",
       "      <td>Shop 16</td>\n",
       "    </tr>\n",
       "    <tr>\n",
       "      <th>105333</th>\n",
       "      <td>538207</td>\n",
       "      <td>22818</td>\n",
       "      <td>11</td>\n",
       "      <td>2016-12-10 11:33:00</td>\n",
       "      <td>18427.0</td>\n",
       "      <td>0</td>\n",
       "      <td>Shop 29</td>\n",
       "    </tr>\n",
       "    <tr>\n",
       "      <th>105334</th>\n",
       "      <td>543977</td>\n",
       "      <td>22384</td>\n",
       "      <td>9</td>\n",
       "      <td>2017-02-14 15:35:00</td>\n",
       "      <td>21294.0</td>\n",
       "      <td>0</td>\n",
       "      <td>Shop 19</td>\n",
       "    </tr>\n",
       "  </tbody>\n",
       "</table>\n",
       "</div>"
      ],
      "text/plain": [
       "       purchase_id item_id  quantity        purchase_date  customer_id  \\\n",
       "105325      536982   20719        69  2016-12-03 14:27:00          0.0   \n",
       "105326      540681   22227         1  2017-01-10 16:25:00          0.0   \n",
       "105327      538349   22625         0  2016-12-10 14:59:00          0.0   \n",
       "105328      537886   22158         7  2016-12-09 09:49:00      21339.0   \n",
       "105329      540154   22134         3  2017-01-05 11:30:00          0.0   \n",
       "105330      538566   21826         1  2016-12-13 11:21:00          0.0   \n",
       "105331      540247   21742         0  2017-01-05 15:56:00      21143.0   \n",
       "105332      538068   85048         1  2016-12-09 14:05:00      23657.0   \n",
       "105333      538207   22818        11  2016-12-10 11:33:00      18427.0   \n",
       "105334      543977   22384         9  2017-02-14 15:35:00      21294.0   \n",
       "\n",
       "        loyalty_program  shop_id  \n",
       "105325                0   Shop 0  \n",
       "105326                0   Shop 0  \n",
       "105327                0   Shop 0  \n",
       "105328                0  Shop 13  \n",
       "105329                0   Shop 0  \n",
       "105330                0   Shop 0  \n",
       "105331                0  Shop 24  \n",
       "105332                1  Shop 16  \n",
       "105333                0  Shop 29  \n",
       "105334                0  Shop 19  "
      ]
     },
     "execution_count": 20,
     "metadata": {},
     "output_type": "execute_result"
    }
   ],
   "source": [
    "# Fill missing values in column 'customer_id' with a specific value\n",
    "retail['customer_id'] = retail['customer_id'].fillna(0)\n",
    "retail.tail(10)"
   ]
  },
  {
   "cell_type": "markdown",
   "metadata": {},
   "source": [
    "## Handling Duplicate Data\n"
   ]
  },
  {
   "cell_type": "code",
   "execution_count": 21,
   "metadata": {},
   "outputs": [
    {
     "data": {
      "text/plain": [
       "1033"
      ]
     },
     "execution_count": 21,
     "metadata": {},
     "output_type": "execute_result"
    }
   ],
   "source": [
    "# checking dublicate rows in dataset\n",
    "retail.duplicated().sum()"
   ]
  },
  {
   "cell_type": "code",
   "execution_count": 22,
   "metadata": {},
   "outputs": [
    {
     "data": {
      "text/plain": [
       "0"
      ]
     },
     "execution_count": 22,
     "metadata": {},
     "output_type": "execute_result"
    }
   ],
   "source": [
    "retail = retail.drop_duplicates()\n",
    "retail.duplicated().sum()"
   ]
  },
  {
   "cell_type": "markdown",
   "metadata": {},
   "source": [
    "## Converting Data Dypes\n",
    "\n",
    "The process of changing this data type is carried out, if there is a data type that does not match as it should, for example a column with a date should have a datetime data type."
   ]
  },
  {
   "cell_type": "code",
   "execution_count": 23,
   "metadata": {},
   "outputs": [
    {
     "data": {
      "text/plain": [
       "purchase_id         object\n",
       "item_id             object\n",
       "quantity             int64\n",
       "purchase_date       object\n",
       "customer_id        float64\n",
       "loyalty_program      int64\n",
       "shop_id             object\n",
       "dtype: object"
      ]
     },
     "execution_count": 23,
     "metadata": {},
     "output_type": "execute_result"
    }
   ],
   "source": [
    "retail.dtypes"
   ]
  },
  {
   "cell_type": "code",
   "execution_count": 24,
   "metadata": {},
   "outputs": [
    {
     "data": {
      "text/plain": [
       "purchase_id                object\n",
       "item_id                    object\n",
       "quantity                    int64\n",
       "purchase_date      datetime64[ns]\n",
       "customer_id               float64\n",
       "loyalty_program             int64\n",
       "shop_id                    object\n",
       "dtype: object"
      ]
     },
     "execution_count": 24,
     "metadata": {},
     "output_type": "execute_result"
    }
   ],
   "source": [
    "# convert data type to datetime\n",
    "retail['purchase_date'] = pd.to_datetime(retail['purchase_date'])\n",
    "retail.dtypes"
   ]
  },
  {
   "cell_type": "code",
   "execution_count": 25,
   "metadata": {},
   "outputs": [
    {
     "data": {
      "text/plain": [
       "purchase_id                object\n",
       "item_id                    object\n",
       "quantity                    int64\n",
       "purchase_date      datetime64[ns]\n",
       "customer_id                 int64\n",
       "loyalty_program             int64\n",
       "shop_id                    object\n",
       "dtype: object"
      ]
     },
     "execution_count": 25,
     "metadata": {},
     "output_type": "execute_result"
    }
   ],
   "source": [
    "# Convert data type to integer\n",
    "retail['customer_id'] = retail['customer_id'].astype(int)\n",
    "retail.dtypes"
   ]
  },
  {
   "cell_type": "markdown",
   "metadata": {},
   "source": [
    "# Step 3. Explorative Data Analysis"
   ]
  },
  {
   "cell_type": "markdown",
   "metadata": {},
   "source": [
    "## The average purchases by loyalty program (membership / non membership)\n",
    "\n",
    "Here we will see the average purchases from the loyalty program (members and non-members), from there we can see where retail stores get more income. Let's follow the steps below."
   ]
  },
  {
   "cell_type": "code",
   "execution_count": 26,
   "metadata": {},
   "outputs": [
    {
     "data": {
      "text/html": [
       "<div>\n",
       "<style scoped>\n",
       "    .dataframe tbody tr th:only-of-type {\n",
       "        vertical-align: middle;\n",
       "    }\n",
       "\n",
       "    .dataframe tbody tr th {\n",
       "        vertical-align: top;\n",
       "    }\n",
       "\n",
       "    .dataframe thead th {\n",
       "        text-align: right;\n",
       "    }\n",
       "</style>\n",
       "<table border=\"1\" class=\"dataframe\">\n",
       "  <thead>\n",
       "    <tr style=\"text-align: right;\">\n",
       "      <th></th>\n",
       "      <th>purchase_id</th>\n",
       "      <th>item_id</th>\n",
       "      <th>quantity</th>\n",
       "      <th>purchase_date</th>\n",
       "      <th>customer_id</th>\n",
       "      <th>loyalty_program</th>\n",
       "      <th>shop_id</th>\n",
       "    </tr>\n",
       "  </thead>\n",
       "  <tbody>\n",
       "    <tr>\n",
       "      <th>0</th>\n",
       "      <td>538280</td>\n",
       "      <td>21873</td>\n",
       "      <td>11</td>\n",
       "      <td>2016-12-10 12:50:00</td>\n",
       "      <td>18427</td>\n",
       "      <td>0</td>\n",
       "      <td>Shop 3</td>\n",
       "    </tr>\n",
       "    <tr>\n",
       "      <th>1</th>\n",
       "      <td>538862</td>\n",
       "      <td>22195</td>\n",
       "      <td>0</td>\n",
       "      <td>2016-12-14 14:11:00</td>\n",
       "      <td>22389</td>\n",
       "      <td>1</td>\n",
       "      <td>Shop 2</td>\n",
       "    </tr>\n",
       "    <tr>\n",
       "      <th>2</th>\n",
       "      <td>538855</td>\n",
       "      <td>21239</td>\n",
       "      <td>7</td>\n",
       "      <td>2016-12-14 13:50:00</td>\n",
       "      <td>22182</td>\n",
       "      <td>1</td>\n",
       "      <td>Shop 3</td>\n",
       "    </tr>\n",
       "    <tr>\n",
       "      <th>3</th>\n",
       "      <td>543543</td>\n",
       "      <td>22271</td>\n",
       "      <td>0</td>\n",
       "      <td>2017-02-09 15:33:00</td>\n",
       "      <td>23522</td>\n",
       "      <td>1</td>\n",
       "      <td>Shop 28</td>\n",
       "    </tr>\n",
       "    <tr>\n",
       "      <th>4</th>\n",
       "      <td>543812</td>\n",
       "      <td>79321</td>\n",
       "      <td>0</td>\n",
       "      <td>2017-02-13 14:40:00</td>\n",
       "      <td>23151</td>\n",
       "      <td>1</td>\n",
       "      <td>Shop 28</td>\n",
       "    </tr>\n",
       "  </tbody>\n",
       "</table>\n",
       "</div>"
      ],
      "text/plain": [
       "  purchase_id item_id  quantity       purchase_date  customer_id  \\\n",
       "0      538280   21873        11 2016-12-10 12:50:00        18427   \n",
       "1      538862   22195         0 2016-12-14 14:11:00        22389   \n",
       "2      538855   21239         7 2016-12-14 13:50:00        22182   \n",
       "3      543543   22271         0 2017-02-09 15:33:00        23522   \n",
       "4      543812   79321         0 2017-02-13 14:40:00        23151   \n",
       "\n",
       "   loyalty_program  shop_id  \n",
       "0                0   Shop 3  \n",
       "1                1   Shop 2  \n",
       "2                1   Shop 3  \n",
       "3                1  Shop 28  \n",
       "4                1  Shop 28  "
      ]
     },
     "execution_count": 26,
     "metadata": {},
     "output_type": "execute_result"
    }
   ],
   "source": [
    "retail.head()"
   ]
  },
  {
   "cell_type": "code",
   "execution_count": 27,
   "metadata": {},
   "outputs": [
    {
     "data": {
      "text/html": [
       "<div>\n",
       "<style scoped>\n",
       "    .dataframe tbody tr th:only-of-type {\n",
       "        vertical-align: middle;\n",
       "    }\n",
       "\n",
       "    .dataframe tbody tr th {\n",
       "        vertical-align: top;\n",
       "    }\n",
       "\n",
       "    .dataframe thead th {\n",
       "        text-align: right;\n",
       "    }\n",
       "</style>\n",
       "<table border=\"1\" class=\"dataframe\">\n",
       "  <thead>\n",
       "    <tr style=\"text-align: right;\">\n",
       "      <th></th>\n",
       "      <th>product_id</th>\n",
       "      <th>price_per_one</th>\n",
       "    </tr>\n",
       "  </thead>\n",
       "  <tbody>\n",
       "    <tr>\n",
       "      <th>0</th>\n",
       "      <td>10002</td>\n",
       "      <td>0.85</td>\n",
       "    </tr>\n",
       "    <tr>\n",
       "      <th>1</th>\n",
       "      <td>10080</td>\n",
       "      <td>0.85</td>\n",
       "    </tr>\n",
       "    <tr>\n",
       "      <th>2</th>\n",
       "      <td>10120</td>\n",
       "      <td>0.21</td>\n",
       "    </tr>\n",
       "    <tr>\n",
       "      <th>3</th>\n",
       "      <td>10123C</td>\n",
       "      <td>0.65</td>\n",
       "    </tr>\n",
       "    <tr>\n",
       "      <th>4</th>\n",
       "      <td>10124A</td>\n",
       "      <td>0.42</td>\n",
       "    </tr>\n",
       "  </tbody>\n",
       "</table>\n",
       "</div>"
      ],
      "text/plain": [
       "  product_id  price_per_one\n",
       "0      10002           0.85\n",
       "1      10080           0.85\n",
       "2      10120           0.21\n",
       "3     10123C           0.65\n",
       "4     10124A           0.42"
      ]
     },
     "execution_count": 27,
     "metadata": {},
     "output_type": "execute_result"
    }
   ],
   "source": [
    "product.head()"
   ]
  },
  {
   "cell_type": "code",
   "execution_count": 28,
   "metadata": {},
   "outputs": [
    {
     "data": {
      "text/html": [
       "<div>\n",
       "<style scoped>\n",
       "    .dataframe tbody tr th:only-of-type {\n",
       "        vertical-align: middle;\n",
       "    }\n",
       "\n",
       "    .dataframe tbody tr th {\n",
       "        vertical-align: top;\n",
       "    }\n",
       "\n",
       "    .dataframe thead th {\n",
       "        text-align: right;\n",
       "    }\n",
       "</style>\n",
       "<table border=\"1\" class=\"dataframe\">\n",
       "  <thead>\n",
       "    <tr style=\"text-align: right;\">\n",
       "      <th></th>\n",
       "      <th>purchase_id</th>\n",
       "      <th>item_id</th>\n",
       "      <th>quantity</th>\n",
       "      <th>purchase_date</th>\n",
       "      <th>customer_id</th>\n",
       "      <th>loyalty_program</th>\n",
       "      <th>shop_id</th>\n",
       "      <th>product_id</th>\n",
       "      <th>price_per_one</th>\n",
       "    </tr>\n",
       "  </thead>\n",
       "  <tbody>\n",
       "    <tr>\n",
       "      <th>0</th>\n",
       "      <td>538280</td>\n",
       "      <td>21873</td>\n",
       "      <td>11</td>\n",
       "      <td>2016-12-10 12:50:00</td>\n",
       "      <td>18427</td>\n",
       "      <td>0</td>\n",
       "      <td>Shop 3</td>\n",
       "      <td>21873</td>\n",
       "      <td>0.42</td>\n",
       "    </tr>\n",
       "    <tr>\n",
       "      <th>1</th>\n",
       "      <td>541104</td>\n",
       "      <td>21873</td>\n",
       "      <td>0</td>\n",
       "      <td>2017-01-13 14:29:00</td>\n",
       "      <td>0</td>\n",
       "      <td>0</td>\n",
       "      <td>Shop 0</td>\n",
       "      <td>21873</td>\n",
       "      <td>0.42</td>\n",
       "    </tr>\n",
       "    <tr>\n",
       "      <th>2</th>\n",
       "      <td>540418</td>\n",
       "      <td>21873</td>\n",
       "      <td>1</td>\n",
       "      <td>2017-01-07 11:04:00</td>\n",
       "      <td>0</td>\n",
       "      <td>0</td>\n",
       "      <td>Shop 0</td>\n",
       "      <td>21873</td>\n",
       "      <td>0.42</td>\n",
       "    </tr>\n",
       "    <tr>\n",
       "      <th>3</th>\n",
       "      <td>541516</td>\n",
       "      <td>21873</td>\n",
       "      <td>2</td>\n",
       "      <td>2017-01-18 17:34:00</td>\n",
       "      <td>0</td>\n",
       "      <td>0</td>\n",
       "      <td>Shop 0</td>\n",
       "      <td>21873</td>\n",
       "      <td>0.42</td>\n",
       "    </tr>\n",
       "    <tr>\n",
       "      <th>4</th>\n",
       "      <td>541566</td>\n",
       "      <td>21873</td>\n",
       "      <td>35</td>\n",
       "      <td>2017-01-19 11:50:00</td>\n",
       "      <td>23401</td>\n",
       "      <td>1</td>\n",
       "      <td>Shop 22</td>\n",
       "      <td>21873</td>\n",
       "      <td>0.42</td>\n",
       "    </tr>\n",
       "    <tr>\n",
       "      <th>5</th>\n",
       "      <td>538843</td>\n",
       "      <td>21873</td>\n",
       "      <td>1</td>\n",
       "      <td>2016-12-14 13:18:00</td>\n",
       "      <td>21712</td>\n",
       "      <td>0</td>\n",
       "      <td>Shop 9</td>\n",
       "      <td>21873</td>\n",
       "      <td>0.42</td>\n",
       "    </tr>\n",
       "    <tr>\n",
       "      <th>6</th>\n",
       "      <td>540838</td>\n",
       "      <td>21873</td>\n",
       "      <td>11</td>\n",
       "      <td>2017-01-11 15:13:00</td>\n",
       "      <td>19541</td>\n",
       "      <td>0</td>\n",
       "      <td>Shop 4</td>\n",
       "      <td>21873</td>\n",
       "      <td>0.42</td>\n",
       "    </tr>\n",
       "    <tr>\n",
       "      <th>7</th>\n",
       "      <td>543592</td>\n",
       "      <td>21873</td>\n",
       "      <td>5</td>\n",
       "      <td>2017-02-10 11:57:00</td>\n",
       "      <td>22922</td>\n",
       "      <td>1</td>\n",
       "      <td>Shop 15</td>\n",
       "      <td>21873</td>\n",
       "      <td>0.42</td>\n",
       "    </tr>\n",
       "    <tr>\n",
       "      <th>8</th>\n",
       "      <td>544651</td>\n",
       "      <td>21873</td>\n",
       "      <td>71</td>\n",
       "      <td>2017-02-22 12:51:00</td>\n",
       "      <td>19373</td>\n",
       "      <td>0</td>\n",
       "      <td>Shop 17</td>\n",
       "      <td>21873</td>\n",
       "      <td>0.42</td>\n",
       "    </tr>\n",
       "    <tr>\n",
       "      <th>9</th>\n",
       "      <td>545062</td>\n",
       "      <td>21873</td>\n",
       "      <td>0</td>\n",
       "      <td>2017-02-27 14:07:00</td>\n",
       "      <td>18427</td>\n",
       "      <td>0</td>\n",
       "      <td>Shop 18</td>\n",
       "      <td>21873</td>\n",
       "      <td>0.42</td>\n",
       "    </tr>\n",
       "  </tbody>\n",
       "</table>\n",
       "</div>"
      ],
      "text/plain": [
       "  purchase_id item_id  quantity       purchase_date  customer_id  \\\n",
       "0      538280   21873        11 2016-12-10 12:50:00        18427   \n",
       "1      541104   21873         0 2017-01-13 14:29:00            0   \n",
       "2      540418   21873         1 2017-01-07 11:04:00            0   \n",
       "3      541516   21873         2 2017-01-18 17:34:00            0   \n",
       "4      541566   21873        35 2017-01-19 11:50:00        23401   \n",
       "5      538843   21873         1 2016-12-14 13:18:00        21712   \n",
       "6      540838   21873        11 2017-01-11 15:13:00        19541   \n",
       "7      543592   21873         5 2017-02-10 11:57:00        22922   \n",
       "8      544651   21873        71 2017-02-22 12:51:00        19373   \n",
       "9      545062   21873         0 2017-02-27 14:07:00        18427   \n",
       "\n",
       "   loyalty_program  shop_id product_id  price_per_one  \n",
       "0                0   Shop 3      21873           0.42  \n",
       "1                0   Shop 0      21873           0.42  \n",
       "2                0   Shop 0      21873           0.42  \n",
       "3                0   Shop 0      21873           0.42  \n",
       "4                1  Shop 22      21873           0.42  \n",
       "5                0   Shop 9      21873           0.42  \n",
       "6                0   Shop 4      21873           0.42  \n",
       "7                1  Shop 15      21873           0.42  \n",
       "8                0  Shop 17      21873           0.42  \n",
       "9                0  Shop 18      21873           0.42  "
      ]
     },
     "execution_count": 28,
     "metadata": {},
     "output_type": "execute_result"
    }
   ],
   "source": [
    "retails = retail.merge(product, left_on=['item_id'], right_on=['product_id'])\n",
    "retails.head(10)"
   ]
  },
  {
   "cell_type": "code",
   "execution_count": 29,
   "metadata": {},
   "outputs": [
    {
     "data": {
      "text/html": [
       "<div>\n",
       "<style scoped>\n",
       "    .dataframe tbody tr th:only-of-type {\n",
       "        vertical-align: middle;\n",
       "    }\n",
       "\n",
       "    .dataframe tbody tr th {\n",
       "        vertical-align: top;\n",
       "    }\n",
       "\n",
       "    .dataframe thead th {\n",
       "        text-align: right;\n",
       "    }\n",
       "</style>\n",
       "<table border=\"1\" class=\"dataframe\">\n",
       "  <thead>\n",
       "    <tr style=\"text-align: right;\">\n",
       "      <th></th>\n",
       "      <th>purchase_id</th>\n",
       "      <th>item_id</th>\n",
       "      <th>quantity</th>\n",
       "      <th>purchase_date</th>\n",
       "      <th>customer_id</th>\n",
       "      <th>loyalty_program</th>\n",
       "      <th>shop_id</th>\n",
       "      <th>product_id</th>\n",
       "      <th>price_per_one</th>\n",
       "      <th>total_price</th>\n",
       "    </tr>\n",
       "  </thead>\n",
       "  <tbody>\n",
       "    <tr>\n",
       "      <th>0</th>\n",
       "      <td>538280</td>\n",
       "      <td>21873</td>\n",
       "      <td>11</td>\n",
       "      <td>2016-12-10 12:50:00</td>\n",
       "      <td>18427</td>\n",
       "      <td>0</td>\n",
       "      <td>Shop 3</td>\n",
       "      <td>21873</td>\n",
       "      <td>0.42</td>\n",
       "      <td>4.620000000000000</td>\n",
       "    </tr>\n",
       "    <tr>\n",
       "      <th>1</th>\n",
       "      <td>541104</td>\n",
       "      <td>21873</td>\n",
       "      <td>0</td>\n",
       "      <td>2017-01-13 14:29:00</td>\n",
       "      <td>0</td>\n",
       "      <td>0</td>\n",
       "      <td>Shop 0</td>\n",
       "      <td>21873</td>\n",
       "      <td>0.42</td>\n",
       "      <td>0.000000000000000</td>\n",
       "    </tr>\n",
       "    <tr>\n",
       "      <th>2</th>\n",
       "      <td>540418</td>\n",
       "      <td>21873</td>\n",
       "      <td>1</td>\n",
       "      <td>2017-01-07 11:04:00</td>\n",
       "      <td>0</td>\n",
       "      <td>0</td>\n",
       "      <td>Shop 0</td>\n",
       "      <td>21873</td>\n",
       "      <td>0.42</td>\n",
       "      <td>0.420000000000000</td>\n",
       "    </tr>\n",
       "    <tr>\n",
       "      <th>3</th>\n",
       "      <td>541516</td>\n",
       "      <td>21873</td>\n",
       "      <td>2</td>\n",
       "      <td>2017-01-18 17:34:00</td>\n",
       "      <td>0</td>\n",
       "      <td>0</td>\n",
       "      <td>Shop 0</td>\n",
       "      <td>21873</td>\n",
       "      <td>0.42</td>\n",
       "      <td>0.840000000000000</td>\n",
       "    </tr>\n",
       "    <tr>\n",
       "      <th>4</th>\n",
       "      <td>541566</td>\n",
       "      <td>21873</td>\n",
       "      <td>35</td>\n",
       "      <td>2017-01-19 11:50:00</td>\n",
       "      <td>23401</td>\n",
       "      <td>1</td>\n",
       "      <td>Shop 22</td>\n",
       "      <td>21873</td>\n",
       "      <td>0.42</td>\n",
       "      <td>14.699999999999999</td>\n",
       "    </tr>\n",
       "  </tbody>\n",
       "</table>\n",
       "</div>"
      ],
      "text/plain": [
       "  purchase_id item_id  quantity       purchase_date  customer_id  \\\n",
       "0      538280   21873        11 2016-12-10 12:50:00        18427   \n",
       "1      541104   21873         0 2017-01-13 14:29:00            0   \n",
       "2      540418   21873         1 2017-01-07 11:04:00            0   \n",
       "3      541516   21873         2 2017-01-18 17:34:00            0   \n",
       "4      541566   21873        35 2017-01-19 11:50:00        23401   \n",
       "\n",
       "   loyalty_program  shop_id product_id  price_per_one         total_price  \n",
       "0                0   Shop 3      21873           0.42   4.620000000000000  \n",
       "1                0   Shop 0      21873           0.42   0.000000000000000  \n",
       "2                0   Shop 0      21873           0.42   0.420000000000000  \n",
       "3                0   Shop 0      21873           0.42   0.840000000000000  \n",
       "4                1  Shop 22      21873           0.42  14.699999999999999  "
      ]
     },
     "execution_count": 29,
     "metadata": {},
     "output_type": "execute_result"
    }
   ],
   "source": [
    "retails['total_price'] = retails['quantity'] * retails['price_per_one']\n",
    "retails.head()"
   ]
  },
  {
   "cell_type": "code",
   "execution_count": 30,
   "metadata": {},
   "outputs": [],
   "source": [
    "average_purchase_members = retails[retails['loyalty_program'] == 1]['total_price'].mean()\n",
    "average_purchase_non_members = retails[retails['loyalty_program'] == 0]['total_price'].mean()"
   ]
  },
  {
   "cell_type": "code",
   "execution_count": 31,
   "metadata": {},
   "outputs": [
    {
     "name": "stdout",
     "output_type": "stream",
     "text": [
      "Average purchase for members: 11.171\n",
      "Average purchase for non-members: 8.826\n"
     ]
    }
   ],
   "source": [
    "# Remove trailing zeros using string formatting\n",
    "average_purchase_members_formatted = '{:.3f}'.format(average_purchase_members).rstrip('0').rstrip('.')\n",
    "average_purchase_non_members_formatted = '{:.3f}'.format(average_purchase_non_members).rstrip('0').rstrip('.')\n",
    "\n",
    "print(\"Average purchase for members:\", average_purchase_members_formatted)\n",
    "print(\"Average purchase for non-members:\", average_purchase_non_members_formatted)"
   ]
  },
  {
   "cell_type": "code",
   "execution_count": 32,
   "metadata": {},
   "outputs": [
    {
     "data": {
      "image/png": "[encoded data removed]",
      "text/plain": [
       "<Figure size 432x288 with 1 Axes>"
      ]
     },
     "metadata": {
      "needs_background": "light"
     },
     "output_type": "display_data"
    }
   ],
   "source": [
    "# Create a bar plot\n",
    "labels = ['Members (1)', 'Non-Members (0)']\n",
    "average_purchase = [average_purchase_members, average_purchase_non_members]\n",
    "\n",
    "plt.bar(labels, average_purchase)\n",
    "plt.xlabel('Loyalty Program')\n",
    "plt.ylabel('Average Purchase')\n",
    "plt.title('Average Purchase Comparison: Members vs. Non-Members')\n",
    "plt.show()"
   ]
  },
  {
   "cell_type": "markdown",
   "metadata": {},
   "source": [
    "It can be seen from the results that the average purchase between members and non-members of the loyalty_program is almost 27% higher than the non-members, maybe that's already a bit number in retail. With an average purchase for members of 11.171 and an average purchase for non-members of 8.826."
   ]
  },
  {
   "cell_type": "markdown",
   "metadata": {},
   "source": [
    "## Are expenses higher for members or non-members?"
   ]
  },
  {
   "cell_type": "code",
   "execution_count": 33,
   "metadata": {},
   "outputs": [],
   "source": [
    "# Calculate total purchases for members and non-members\n",
    "purchases_members = retails[retails['loyalty_program'] == 1]['total_price'].sum()\n",
    "purchases_non_members = retails[retails['loyalty_program'] == 0]['total_price'].sum()"
   ]
  },
  {
   "cell_type": "code",
   "execution_count": 34,
   "metadata": {},
   "outputs": [
    {
     "name": "stdout",
     "output_type": "stream",
     "text": [
      "Purchase count for members: 261525.61\n",
      "Purchase count for non-members: 713920.4500000001\n",
      "The group with higher purchases: non-members\n"
     ]
    }
   ],
   "source": [
    "# Compare the purchase counts\n",
    "if purchases_members > purchases_non_members:\n",
    "    higher_purchases_group = 'members'\n",
    "elif purchases_members < purchases_non_members:\n",
    "    higher_purchases_group = 'non-members'\n",
    "else:\n",
    "    higher_purchases_group = 'equal'\n",
    "\n",
    "print(\"Purchase count for members:\", purchases_members)\n",
    "print(\"Purchase count for non-members:\", purchases_non_members)\n",
    "print(\"The group with higher purchases:\", higher_purchases_group)"
   ]
  },
  {
   "cell_type": "code",
   "execution_count": 35,
   "metadata": {},
   "outputs": [
    {
     "data": {
      "image/png": "[encoded data removed]",
      "text/plain": [
       "<Figure size 432x288 with 1 Axes>"
      ]
     },
     "metadata": {
      "needs_background": "light"
     },
     "output_type": "display_data"
    }
   ],
   "source": [
    "# Create a bar plot\n",
    "labels = ['Members (1)', 'Non-Members(0)']\n",
    "purchases = [purchases_members, purchases_non_members]\n",
    "\n",
    "plt.bar(labels, purchases)\n",
    "plt.xlabel('Loyalty Program')\n",
    "plt.ylabel('Total Purchases')\n",
    "plt.title('Total Purchases Comparison: Members vs. Non-Members')\n",
    "plt.show()"
   ]
  },
  {
   "cell_type": "code",
   "execution_count": 36,
   "metadata": {},
   "outputs": [
    {
     "data": {
      "text/html": [
       "<div>\n",
       "<style scoped>\n",
       "    .dataframe tbody tr th:only-of-type {\n",
       "        vertical-align: middle;\n",
       "    }\n",
       "\n",
       "    .dataframe tbody tr th {\n",
       "        vertical-align: top;\n",
       "    }\n",
       "\n",
       "    .dataframe thead th {\n",
       "        text-align: right;\n",
       "    }\n",
       "</style>\n",
       "<table border=\"1\" class=\"dataframe\">\n",
       "  <thead>\n",
       "    <tr style=\"text-align: right;\">\n",
       "      <th></th>\n",
       "      <th>mean</th>\n",
       "      <th>sum</th>\n",
       "    </tr>\n",
       "    <tr>\n",
       "      <th>loyalty_program</th>\n",
       "      <th></th>\n",
       "      <th></th>\n",
       "    </tr>\n",
       "  </thead>\n",
       "  <tbody>\n",
       "    <tr>\n",
       "      <th>1</th>\n",
       "      <td>11.170579617290576</td>\n",
       "      <td>261525.610000006970949</td>\n",
       "    </tr>\n",
       "    <tr>\n",
       "      <th>0</th>\n",
       "      <td>8.825818395351499</td>\n",
       "      <td>713920.449999982723966</td>\n",
       "    </tr>\n",
       "  </tbody>\n",
       "</table>\n",
       "</div>"
      ],
      "text/plain": [
       "                               mean                     sum\n",
       "loyalty_program                                            \n",
       "1                11.170579617290576  261525.610000006970949\n",
       "0                 8.825818395351499  713920.449999982723966"
      ]
     },
     "execution_count": 36,
     "metadata": {},
     "output_type": "execute_result"
    }
   ],
   "source": [
    "retails.groupby('loyalty_program')['total_price'].agg(['mean','sum']).sort_values(by='mean',ascending=False)"
   ]
  },
  {
   "cell_type": "markdown",
   "metadata": {},
   "source": [
    "However, when seen from the results of a comparison between the total expenditure from the loyalty_program, non_members have the largest total purchases of 713920.449 compared to the total purchases of members which are 3 times less, namely 261525.61 which can happen due to the large number of different customers who make purchases for themselves, while for fewer members the biggest possibility is customers who have large projects that will continue to repeat and continue.\n"
   ]
  },
  {
   "cell_type": "markdown",
   "metadata": {},
   "source": [
    "## The number of items in the cart is based on the loyalty program"
   ]
  },
  {
   "cell_type": "code",
   "execution_count": 37,
   "metadata": {},
   "outputs": [
    {
     "data": {
      "text/plain": [
       "loyalty_program\n",
       "0    593520\n",
       "1    228693\n",
       "Name: quantity, dtype: int64"
      ]
     },
     "execution_count": 37,
     "metadata": {},
     "output_type": "execute_result"
    }
   ],
   "source": [
    "items_in_cart = retails.groupby('loyalty_program')['quantity'].sum()\n",
    "\n",
    "items_in_cart"
   ]
  },
  {
   "cell_type": "code",
   "execution_count": 38,
   "metadata": {},
   "outputs": [
    {
     "data": {
      "image/png": "[encoded data removed]",
      "text/plain": [
       "<Figure size 576x432 with 1 Axes>"
      ]
     },
     "metadata": {
      "needs_background": "light"
     },
     "output_type": "display_data"
    }
   ],
   "source": [
    "# Create the bar plot\n",
    "plt.figure(figsize=(8, 6))\n",
    "items_in_cart.plot(kind='bar', color=['red', 'green'])\n",
    "plt.title('Number of Items in Cart by Loyalty Program')\n",
    "plt.xlabel('Loyalty Program')\n",
    "plt.ylabel('Number of Items')\n",
    "plt.xticks(rotation=0)\n",
    "plt.show()"
   ]
  },
  {
   "cell_type": "markdown",
   "metadata": {},
   "source": [
    "From the results obtained, the number of items in baskets is dominated by customers who do not participate in the loyalty program with a total of 593520 items and for loyalty program members as many as 228693 items (which is less than half of non-member items)."
   ]
  },
  {
   "cell_type": "markdown",
   "metadata": {},
   "source": [
    "## Distribution of the loyalty program"
   ]
  },
  {
   "cell_type": "code",
   "execution_count": 39,
   "metadata": {},
   "outputs": [],
   "source": [
    "# Calculate the distribution of members and non-members\n",
    "member_count = retails[retails['loyalty_program'] == 1].shape[0]\n",
    "non_member_count = retails[retails['loyalty_program'] == 0].shape[0]\n",
    "total_count = member_count + non_member_count\n",
    "\n",
    "member_distribution = member_count / total_count\n",
    "non_member_distribution = non_member_count / total_count"
   ]
  },
  {
   "cell_type": "code",
   "execution_count": 40,
   "metadata": {},
   "outputs": [
    {
     "data": {
      "image/png": "[encoded data removed]",
      "text/plain": [
       "<Figure size 576x576 with 1 Axes>"
      ]
     },
     "metadata": {},
     "output_type": "display_data"
    }
   ],
   "source": [
    "# Create a pie chart\n",
    "labels = ['Members', 'Non-Members']\n",
    "distributions = [member_distribution, non_member_distribution]\n",
    "\n",
    "fig, ax = plt.subplots(figsize=(8, 8))\n",
    "plt.pie(distributions, labels=labels, autopct='%1.1f%%')\n",
    "plt.title('Distribution of loyalty program')\n",
    "plt.show()"
   ]
  },
  {
   "cell_type": "code",
   "execution_count": 41,
   "metadata": {},
   "outputs": [
    {
     "data": {
      "text/plain": [
       "0    80890\n",
       "1    23412\n",
       "Name: loyalty_program, dtype: int64"
      ]
     },
     "execution_count": 41,
     "metadata": {},
     "output_type": "execute_result"
    }
   ],
   "source": [
    "# Calculate the count of members and non-members\n",
    "loyalty_program_counts = retails['loyalty_program'].value_counts()\n",
    "loyalty_program_counts"
   ]
  },
  {
   "cell_type": "markdown",
   "metadata": {},
   "source": [
    "As we can see, the distribution of customer distribution from the loyalty program is:\n",
    "- Members as much as 22.4%\n",
    "- Non-members as much as 77.6%"
   ]
  },
  {
   "cell_type": "markdown",
   "metadata": {},
   "source": [
    "## On which day do more customers come?"
   ]
  },
  {
   "cell_type": "code",
   "execution_count": 42,
   "metadata": {},
   "outputs": [],
   "source": [
    "# Convert 'purchase_date' column to datetime type\n",
    "retails['purchase_date'] = pd.to_datetime(retails['purchase_date'])"
   ]
  },
  {
   "cell_type": "code",
   "execution_count": 43,
   "metadata": {},
   "outputs": [
    {
     "data": {
      "text/plain": [
       "purchase_date\n",
       "2016-12-01     99\n",
       "2016-12-02    118\n",
       "2016-12-03     56\n",
       "2016-12-05     77\n",
       "2016-12-06     91\n",
       "             ... \n",
       "2017-02-23     54\n",
       "2017-02-24     58\n",
       "2017-02-25     45\n",
       "2017-02-27     31\n",
       "2017-02-28     50\n",
       "Name: customer_id, Length: 68, dtype: int64"
      ]
     },
     "execution_count": 43,
     "metadata": {},
     "output_type": "execute_result"
    }
   ],
   "source": [
    "# Group by 'purchase_date' and count the unique 'customer_id' for each day\n",
    "customer_count_by_day = retails.groupby(retails['purchase_date'].dt.date)['customer_id'].nunique()\n",
    "customer_count_by_day"
   ]
  },
  {
   "cell_type": "code",
   "execution_count": 44,
   "metadata": {},
   "outputs": [
    {
     "data": {
      "image/png": "[encoded data removed]",
      "text/plain": [
       "<Figure size 432x288 with 1 Axes>"
      ]
     },
     "metadata": {
      "needs_background": "light"
     },
     "output_type": "display_data"
    }
   ],
   "source": [
    "# Create a line plot\n",
    "plt.plot(customer_count_by_day.index, customer_count_by_day.values)\n",
    "plt.xlabel('Date')\n",
    "plt.ylabel('Customer Count')\n",
    "plt.title('Customer Count by Day')\n",
    "plt.xticks(rotation=45)\n",
    "plt.show()"
   ]
  },
  {
   "cell_type": "code",
   "execution_count": 45,
   "metadata": {},
   "outputs": [
    {
     "name": "stdout",
     "output_type": "stream",
     "text": [
      "Day with the most customers: 2016-12-09\n"
     ]
    }
   ],
   "source": [
    "# Find the day with the highest customer count\n",
    "day_with_most_customers = customer_count_by_day.idxmax()\n",
    "\n",
    "print(\"Day with the most customers:\", day_with_most_customers)"
   ]
  },
  {
   "cell_type": "markdown",
   "metadata": {},
   "source": [
    "As we can see from the line plot above, many visitors tend to come on Friday, more precisely on 2016-12-09."
   ]
  },
  {
   "cell_type": "markdown",
   "metadata": {},
   "source": [
    "## Distribution of Purchase Loyalty Program by Shop ID"
   ]
  },
  {
   "cell_type": "code",
   "execution_count": 46,
   "metadata": {},
   "outputs": [
    {
     "data": {
      "image/png": "[encoded data removed]",
      "text/plain": [
       "<Figure size 432x288 with 1 Axes>"
      ]
     },
     "metadata": {
      "needs_background": "light"
     },
     "output_type": "display_data"
    }
   ],
   "source": [
    "# Group by 'shop_id' and 'loyalty_program' and count the occurrences\n",
    "loyalty_program_distribution = retails.groupby(['shop_id', 'loyalty_program']).size().unstack()\n",
    "\n",
    "# Create a stacked bar plot\n",
    "loyalty_program_distribution.plot(kind='bar', stacked=True)\n",
    "\n",
    "plt.xlabel('Shop ID')\n",
    "plt.ylabel('Count')\n",
    "plt.title('Distribution of Purchase Loyalty Program by Shop ID')\n",
    "plt.legend(title='Loyalty Program')\n",
    "\n",
    "plt.show()\n",
    "# SUSU: if you plot the different shops like this, would be nice if you could sort them, so that the x-axis starts with shop 0 and ends with the highest shop number"
   ]
  },
  {
   "cell_type": "code",
   "execution_count": 47,
   "metadata": {},
   "outputs": [
    {
     "data": {
      "text/html": [
       "<div>\n",
       "<style scoped>\n",
       "    .dataframe tbody tr th:only-of-type {\n",
       "        vertical-align: middle;\n",
       "    }\n",
       "\n",
       "    .dataframe tbody tr th {\n",
       "        vertical-align: top;\n",
       "    }\n",
       "\n",
       "    .dataframe thead tr th {\n",
       "        text-align: left;\n",
       "    }\n",
       "\n",
       "    .dataframe thead tr:last-of-type th {\n",
       "        text-align: right;\n",
       "    }\n",
       "</style>\n",
       "<table border=\"1\" class=\"dataframe\">\n",
       "  <thead>\n",
       "    <tr>\n",
       "      <th></th>\n",
       "      <th colspan=\"31\" halign=\"left\">count</th>\n",
       "    </tr>\n",
       "    <tr>\n",
       "      <th>shop_id</th>\n",
       "      <th>Shop 0</th>\n",
       "      <th>Shop 1</th>\n",
       "      <th>Shop 10</th>\n",
       "      <th>Shop 11</th>\n",
       "      <th>Shop 12</th>\n",
       "      <th>Shop 13</th>\n",
       "      <th>Shop 14</th>\n",
       "      <th>Shop 15</th>\n",
       "      <th>Shop 16</th>\n",
       "      <th>Shop 17</th>\n",
       "      <th>Shop 18</th>\n",
       "      <th>Shop 19</th>\n",
       "      <th>Shop 2</th>\n",
       "      <th>Shop 20</th>\n",
       "      <th>Shop 21</th>\n",
       "      <th>Shop 22</th>\n",
       "      <th>Shop 23</th>\n",
       "      <th>Shop 24</th>\n",
       "      <th>Shop 25</th>\n",
       "      <th>Shop 26</th>\n",
       "      <th>Shop 27</th>\n",
       "      <th>Shop 28</th>\n",
       "      <th>Shop 29</th>\n",
       "      <th>Shop 3</th>\n",
       "      <th>Shop 30</th>\n",
       "      <th>Shop 4</th>\n",
       "      <th>Shop 5</th>\n",
       "      <th>Shop 6</th>\n",
       "      <th>Shop 7</th>\n",
       "      <th>Shop 8</th>\n",
       "      <th>Shop 9</th>\n",
       "    </tr>\n",
       "    <tr>\n",
       "      <th>loyalty_program</th>\n",
       "      <th></th>\n",
       "      <th></th>\n",
       "      <th></th>\n",
       "      <th></th>\n",
       "      <th></th>\n",
       "      <th></th>\n",
       "      <th></th>\n",
       "      <th></th>\n",
       "      <th></th>\n",
       "      <th></th>\n",
       "      <th></th>\n",
       "      <th></th>\n",
       "      <th></th>\n",
       "      <th></th>\n",
       "      <th></th>\n",
       "      <th></th>\n",
       "      <th></th>\n",
       "      <th></th>\n",
       "      <th></th>\n",
       "      <th></th>\n",
       "      <th></th>\n",
       "      <th></th>\n",
       "      <th></th>\n",
       "      <th></th>\n",
       "      <th></th>\n",
       "      <th></th>\n",
       "      <th></th>\n",
       "      <th></th>\n",
       "      <th></th>\n",
       "      <th></th>\n",
       "      <th></th>\n",
       "    </tr>\n",
       "  </thead>\n",
       "  <tbody>\n",
       "    <tr>\n",
       "      <th>0</th>\n",
       "      <td>37466</td>\n",
       "      <td>1737</td>\n",
       "      <td>1521</td>\n",
       "      <td>1354</td>\n",
       "      <td>1178</td>\n",
       "      <td>1384</td>\n",
       "      <td>1638</td>\n",
       "      <td>1854</td>\n",
       "      <td>1191</td>\n",
       "      <td>1430</td>\n",
       "      <td>1259</td>\n",
       "      <td>1549</td>\n",
       "      <td>1225</td>\n",
       "      <td>1642</td>\n",
       "      <td>981</td>\n",
       "      <td>1640</td>\n",
       "      <td>1328</td>\n",
       "      <td>1658</td>\n",
       "      <td>1228</td>\n",
       "      <td>1419</td>\n",
       "      <td>1648</td>\n",
       "      <td>1682</td>\n",
       "      <td>1469</td>\n",
       "      <td>1020</td>\n",
       "      <td>1670</td>\n",
       "      <td>1454</td>\n",
       "      <td>1694</td>\n",
       "      <td>1148</td>\n",
       "      <td>1540</td>\n",
       "      <td>1263</td>\n",
       "      <td>1620</td>\n",
       "    </tr>\n",
       "    <tr>\n",
       "      <th>1</th>\n",
       "      <td>837</td>\n",
       "      <td>952</td>\n",
       "      <td>660</td>\n",
       "      <td>920</td>\n",
       "      <td>580</td>\n",
       "      <td>1027</td>\n",
       "      <td>728</td>\n",
       "      <td>825</td>\n",
       "      <td>729</td>\n",
       "      <td>734</td>\n",
       "      <td>736</td>\n",
       "      <td>660</td>\n",
       "      <td>999</td>\n",
       "      <td>760</td>\n",
       "      <td>670</td>\n",
       "      <td>898</td>\n",
       "      <td>713</td>\n",
       "      <td>966</td>\n",
       "      <td>674</td>\n",
       "      <td>880</td>\n",
       "      <td>648</td>\n",
       "      <td>624</td>\n",
       "      <td>712</td>\n",
       "      <td>683</td>\n",
       "      <td>689</td>\n",
       "      <td>510</td>\n",
       "      <td>775</td>\n",
       "      <td>525</td>\n",
       "      <td>771</td>\n",
       "      <td>700</td>\n",
       "      <td>827</td>\n",
       "    </tr>\n",
       "  </tbody>\n",
       "</table>\n",
       "</div>"
      ],
      "text/plain": [
       "                 count                                                         \\\n",
       "shop_id         Shop 0 Shop 1 Shop 10 Shop 11 Shop 12 Shop 13 Shop 14 Shop 15   \n",
       "loyalty_program                                                                 \n",
       "0                37466   1737    1521    1354    1178    1384    1638    1854   \n",
       "1                  837    952     660     920     580    1027     728     825   \n",
       "\n",
       "                                                                        \\\n",
       "shop_id         Shop 16 Shop 17 Shop 18 Shop 19 Shop 2 Shop 20 Shop 21   \n",
       "loyalty_program                                                          \n",
       "0                  1191    1430    1259    1549   1225    1642     981   \n",
       "1                   729     734     736     660    999     760     670   \n",
       "\n",
       "                                                                         \\\n",
       "shop_id         Shop 22 Shop 23 Shop 24 Shop 25 Shop 26 Shop 27 Shop 28   \n",
       "loyalty_program                                                           \n",
       "0                  1640    1328    1658    1228    1419    1648    1682   \n",
       "1                   898     713     966     674     880     648     624   \n",
       "\n",
       "                                                                           \\\n",
       "shop_id         Shop 29 Shop 3 Shop 30 Shop 4 Shop 5 Shop 6 Shop 7 Shop 8   \n",
       "loyalty_program                                                             \n",
       "0                  1469   1020    1670   1454   1694   1148   1540   1263   \n",
       "1                   712    683     689    510    775    525    771    700   \n",
       "\n",
       "                        \n",
       "shop_id         Shop 9  \n",
       "loyalty_program         \n",
       "0                 1620  \n",
       "1                  827  "
      ]
     },
     "execution_count": 47,
     "metadata": {},
     "output_type": "execute_result"
    }
   ],
   "source": [
    "retails.pivot_table(index='loyalty_program',columns='shop_id',values='total_price', aggfunc=(['count']))"
   ]
  },
  {
   "cell_type": "markdown",
   "metadata": {},
   "source": [
    "Here we can see a comparison between the number or number of members and non-members shopping at several stores. It can be seen, non-members tend to make purchases at store 0 with a total of 37,466 customers. However, customers who are members make more purchases at store 13 with a total of 1027. This can happen with the possibility, that in Store 0 the items offered more complete for non-members."
   ]
  },
  {
   "cell_type": "markdown",
   "metadata": {},
   "source": [
    "## Are the customers who have stayed from the initial data to the last reduced/not?"
   ]
  },
  {
   "cell_type": "markdown",
   "metadata": {},
   "source": [
    "**Make Cohort Analysis**\n",
    "\n",
    "Cohort analysis is generally used to show behavious of users, or in our case, customers, over time. It is an incredibly useful instrument to find some insights about customer experiences, and to understand how to improve that.\n",
    "And I will use cohort analysis to investigate retention rate and to understand how many of the all customers are still active.Retention gives you the percentage of active customers compared to the total number of customers.\n",
    "\n"
   ]
  },
  {
   "cell_type": "code",
   "execution_count": 48,
   "metadata": {},
   "outputs": [],
   "source": [
    "# Convert 'purchase_date' column to datetime type\n",
    "retails['purchase_date'] = pd.to_datetime(retails['purchase_date'])"
   ]
  },
  {
   "cell_type": "code",
   "execution_count": 49,
   "metadata": {},
   "outputs": [
    {
     "data": {
      "text/plain": [
       "3"
      ]
     },
     "execution_count": 49,
     "metadata": {},
     "output_type": "execute_result"
    }
   ],
   "source": [
    "# Calculate the number of months in purchase_date\n",
    "num_months = (retails['purchase_date'].max().to_period('M') - retails['purchase_date'].min().to_period('M')).n + 1\n",
    "num_months"
   ]
  },
  {
   "cell_type": "markdown",
   "metadata": {},
   "source": [
    "### Monthly Cohort"
   ]
  },
  {
   "cell_type": "code",
   "execution_count": 50,
   "metadata": {},
   "outputs": [
    {
     "data": {
      "text/html": [
       "<div>\n",
       "<style scoped>\n",
       "    .dataframe tbody tr th:only-of-type {\n",
       "        vertical-align: middle;\n",
       "    }\n",
       "\n",
       "    .dataframe tbody tr th {\n",
       "        vertical-align: top;\n",
       "    }\n",
       "\n",
       "    .dataframe thead th {\n",
       "        text-align: right;\n",
       "    }\n",
       "</style>\n",
       "<table border=\"1\" class=\"dataframe\">\n",
       "  <thead>\n",
       "    <tr style=\"text-align: right;\">\n",
       "      <th></th>\n",
       "      <th>purchase_id</th>\n",
       "      <th>item_id</th>\n",
       "      <th>quantity</th>\n",
       "      <th>purchase_date</th>\n",
       "      <th>customer_id</th>\n",
       "      <th>loyalty_program</th>\n",
       "      <th>shop_id</th>\n",
       "      <th>product_id</th>\n",
       "      <th>price_per_one</th>\n",
       "      <th>total_price</th>\n",
       "      <th>purchase_month</th>\n",
       "    </tr>\n",
       "  </thead>\n",
       "  <tbody>\n",
       "    <tr>\n",
       "      <th>0</th>\n",
       "      <td>538280</td>\n",
       "      <td>21873</td>\n",
       "      <td>11</td>\n",
       "      <td>2016-12-10 12:50:00</td>\n",
       "      <td>18427</td>\n",
       "      <td>0</td>\n",
       "      <td>Shop 3</td>\n",
       "      <td>21873</td>\n",
       "      <td>0.42</td>\n",
       "      <td>4.620000000000000</td>\n",
       "      <td>2016-12-01</td>\n",
       "    </tr>\n",
       "    <tr>\n",
       "      <th>1</th>\n",
       "      <td>541104</td>\n",
       "      <td>21873</td>\n",
       "      <td>0</td>\n",
       "      <td>2017-01-13 14:29:00</td>\n",
       "      <td>0</td>\n",
       "      <td>0</td>\n",
       "      <td>Shop 0</td>\n",
       "      <td>21873</td>\n",
       "      <td>0.42</td>\n",
       "      <td>0.000000000000000</td>\n",
       "      <td>2016-12-01</td>\n",
       "    </tr>\n",
       "    <tr>\n",
       "      <th>2</th>\n",
       "      <td>540418</td>\n",
       "      <td>21873</td>\n",
       "      <td>1</td>\n",
       "      <td>2017-01-07 11:04:00</td>\n",
       "      <td>0</td>\n",
       "      <td>0</td>\n",
       "      <td>Shop 0</td>\n",
       "      <td>21873</td>\n",
       "      <td>0.42</td>\n",
       "      <td>0.420000000000000</td>\n",
       "      <td>2016-12-01</td>\n",
       "    </tr>\n",
       "    <tr>\n",
       "      <th>3</th>\n",
       "      <td>541516</td>\n",
       "      <td>21873</td>\n",
       "      <td>2</td>\n",
       "      <td>2017-01-18 17:34:00</td>\n",
       "      <td>0</td>\n",
       "      <td>0</td>\n",
       "      <td>Shop 0</td>\n",
       "      <td>21873</td>\n",
       "      <td>0.42</td>\n",
       "      <td>0.840000000000000</td>\n",
       "      <td>2017-02-01</td>\n",
       "    </tr>\n",
       "    <tr>\n",
       "      <th>4</th>\n",
       "      <td>541566</td>\n",
       "      <td>21873</td>\n",
       "      <td>35</td>\n",
       "      <td>2017-01-19 11:50:00</td>\n",
       "      <td>23401</td>\n",
       "      <td>1</td>\n",
       "      <td>Shop 22</td>\n",
       "      <td>21873</td>\n",
       "      <td>0.42</td>\n",
       "      <td>14.699999999999999</td>\n",
       "      <td>2017-02-01</td>\n",
       "    </tr>\n",
       "  </tbody>\n",
       "</table>\n",
       "</div>"
      ],
      "text/plain": [
       "  purchase_id item_id  quantity       purchase_date  customer_id  \\\n",
       "0      538280   21873        11 2016-12-10 12:50:00        18427   \n",
       "1      541104   21873         0 2017-01-13 14:29:00            0   \n",
       "2      540418   21873         1 2017-01-07 11:04:00            0   \n",
       "3      541516   21873         2 2017-01-18 17:34:00            0   \n",
       "4      541566   21873        35 2017-01-19 11:50:00        23401   \n",
       "\n",
       "   loyalty_program  shop_id product_id  price_per_one         total_price  \\\n",
       "0                0   Shop 3      21873           0.42   4.620000000000000   \n",
       "1                0   Shop 0      21873           0.42   0.000000000000000   \n",
       "2                0   Shop 0      21873           0.42   0.420000000000000   \n",
       "3                0   Shop 0      21873           0.42   0.840000000000000   \n",
       "4                1  Shop 22      21873           0.42  14.699999999999999   \n",
       "\n",
       "  purchase_month  \n",
       "0     2016-12-01  \n",
       "1     2016-12-01  \n",
       "2     2016-12-01  \n",
       "3     2017-02-01  \n",
       "4     2017-02-01  "
      ]
     },
     "execution_count": 50,
     "metadata": {},
     "output_type": "execute_result"
    }
   ],
   "source": [
    "#creating purchase month column to see first month when customer purchased \n",
    "retails['purchase_month'] = retail['purchase_date'].apply(lambda x: dt.datetime(x.year, x.month, 1))\n",
    "retails.head()"
   ]
  },
  {
   "cell_type": "code",
   "execution_count": 51,
   "metadata": {},
   "outputs": [
    {
     "data": {
      "text/html": [
       "<div>\n",
       "<style scoped>\n",
       "    .dataframe tbody tr th:only-of-type {\n",
       "        vertical-align: middle;\n",
       "    }\n",
       "\n",
       "    .dataframe tbody tr th {\n",
       "        vertical-align: top;\n",
       "    }\n",
       "\n",
       "    .dataframe thead th {\n",
       "        text-align: right;\n",
       "    }\n",
       "</style>\n",
       "<table border=\"1\" class=\"dataframe\">\n",
       "  <thead>\n",
       "    <tr style=\"text-align: right;\">\n",
       "      <th></th>\n",
       "      <th>purchase_id</th>\n",
       "      <th>item_id</th>\n",
       "      <th>quantity</th>\n",
       "      <th>purchase_date</th>\n",
       "      <th>customer_id</th>\n",
       "      <th>loyalty_program</th>\n",
       "      <th>shop_id</th>\n",
       "      <th>product_id</th>\n",
       "      <th>price_per_one</th>\n",
       "      <th>total_price</th>\n",
       "      <th>purchase_month</th>\n",
       "      <th>cohort_month</th>\n",
       "    </tr>\n",
       "  </thead>\n",
       "  <tbody>\n",
       "    <tr>\n",
       "      <th>0</th>\n",
       "      <td>538280</td>\n",
       "      <td>21873</td>\n",
       "      <td>11</td>\n",
       "      <td>2016-12-10 12:50:00</td>\n",
       "      <td>18427</td>\n",
       "      <td>0</td>\n",
       "      <td>Shop 3</td>\n",
       "      <td>21873</td>\n",
       "      <td>0.42</td>\n",
       "      <td>4.620000000000000</td>\n",
       "      <td>2016-12-01</td>\n",
       "      <td>2016-12-01</td>\n",
       "    </tr>\n",
       "    <tr>\n",
       "      <th>1</th>\n",
       "      <td>541104</td>\n",
       "      <td>21873</td>\n",
       "      <td>0</td>\n",
       "      <td>2017-01-13 14:29:00</td>\n",
       "      <td>0</td>\n",
       "      <td>0</td>\n",
       "      <td>Shop 0</td>\n",
       "      <td>21873</td>\n",
       "      <td>0.42</td>\n",
       "      <td>0.000000000000000</td>\n",
       "      <td>2016-12-01</td>\n",
       "      <td>2016-12-01</td>\n",
       "    </tr>\n",
       "    <tr>\n",
       "      <th>2</th>\n",
       "      <td>540418</td>\n",
       "      <td>21873</td>\n",
       "      <td>1</td>\n",
       "      <td>2017-01-07 11:04:00</td>\n",
       "      <td>0</td>\n",
       "      <td>0</td>\n",
       "      <td>Shop 0</td>\n",
       "      <td>21873</td>\n",
       "      <td>0.42</td>\n",
       "      <td>0.420000000000000</td>\n",
       "      <td>2016-12-01</td>\n",
       "      <td>2016-12-01</td>\n",
       "    </tr>\n",
       "    <tr>\n",
       "      <th>3</th>\n",
       "      <td>541516</td>\n",
       "      <td>21873</td>\n",
       "      <td>2</td>\n",
       "      <td>2017-01-18 17:34:00</td>\n",
       "      <td>0</td>\n",
       "      <td>0</td>\n",
       "      <td>Shop 0</td>\n",
       "      <td>21873</td>\n",
       "      <td>0.42</td>\n",
       "      <td>0.840000000000000</td>\n",
       "      <td>2017-02-01</td>\n",
       "      <td>2016-12-01</td>\n",
       "    </tr>\n",
       "    <tr>\n",
       "      <th>4</th>\n",
       "      <td>541566</td>\n",
       "      <td>21873</td>\n",
       "      <td>35</td>\n",
       "      <td>2017-01-19 11:50:00</td>\n",
       "      <td>23401</td>\n",
       "      <td>1</td>\n",
       "      <td>Shop 22</td>\n",
       "      <td>21873</td>\n",
       "      <td>0.42</td>\n",
       "      <td>14.699999999999999</td>\n",
       "      <td>2017-02-01</td>\n",
       "      <td>2016-12-01</td>\n",
       "    </tr>\n",
       "  </tbody>\n",
       "</table>\n",
       "</div>"
      ],
      "text/plain": [
       "  purchase_id item_id  quantity       purchase_date  customer_id  \\\n",
       "0      538280   21873        11 2016-12-10 12:50:00        18427   \n",
       "1      541104   21873         0 2017-01-13 14:29:00            0   \n",
       "2      540418   21873         1 2017-01-07 11:04:00            0   \n",
       "3      541516   21873         2 2017-01-18 17:34:00            0   \n",
       "4      541566   21873        35 2017-01-19 11:50:00        23401   \n",
       "\n",
       "   loyalty_program  shop_id product_id  price_per_one         total_price  \\\n",
       "0                0   Shop 3      21873           0.42   4.620000000000000   \n",
       "1                0   Shop 0      21873           0.42   0.000000000000000   \n",
       "2                0   Shop 0      21873           0.42   0.420000000000000   \n",
       "3                0   Shop 0      21873           0.42   0.840000000000000   \n",
       "4                1  Shop 22      21873           0.42  14.699999999999999   \n",
       "\n",
       "  purchase_month cohort_month  \n",
       "0     2016-12-01   2016-12-01  \n",
       "1     2016-12-01   2016-12-01  \n",
       "2     2016-12-01   2016-12-01  \n",
       "3     2017-02-01   2016-12-01  \n",
       "4     2017-02-01   2016-12-01  "
      ]
     },
     "execution_count": 51,
     "metadata": {},
     "output_type": "execute_result"
    }
   ],
   "source": [
    "grouping = retails.groupby('customer_id')['purchase_month']\n",
    "#assign smallest invoice value to each customer\n",
    "retails['cohort_month'] = grouping.transform('min')\n",
    "retails.head()"
   ]
  },
  {
   "cell_type": "code",
   "execution_count": 52,
   "metadata": {},
   "outputs": [],
   "source": [
    "#function to extract year, month, day as integers\n",
    "def get_date_int(df, column):\n",
    "    year = df[column].dt.year\n",
    "    month = df[column].dt.month\n",
    "    day = df[column].dt.day\n",
    "    return year, month, day"
   ]
  },
  {
   "cell_type": "code",
   "execution_count": 53,
   "metadata": {},
   "outputs": [],
   "source": [
    "#extract month\n",
    "purcahse_year, purcahse_month, _ = get_date_int(retails, 'purchase_month')\n",
    "cohort_year, cohort_month, _ = get_date_int(retails, 'cohort_month')"
   ]
  },
  {
   "cell_type": "code",
   "execution_count": 54,
   "metadata": {},
   "outputs": [],
   "source": [
    "years_diff = purcahse_year - cohort_year\n",
    "months_diff = purcahse_month - cohort_month"
   ]
  },
  {
   "cell_type": "code",
   "execution_count": 55,
   "metadata": {},
   "outputs": [
    {
     "data": {
      "text/html": [
       "<div>\n",
       "<style scoped>\n",
       "    .dataframe tbody tr th:only-of-type {\n",
       "        vertical-align: middle;\n",
       "    }\n",
       "\n",
       "    .dataframe tbody tr th {\n",
       "        vertical-align: top;\n",
       "    }\n",
       "\n",
       "    .dataframe thead th {\n",
       "        text-align: right;\n",
       "    }\n",
       "</style>\n",
       "<table border=\"1\" class=\"dataframe\">\n",
       "  <thead>\n",
       "    <tr style=\"text-align: right;\">\n",
       "      <th></th>\n",
       "      <th>purchase_id</th>\n",
       "      <th>item_id</th>\n",
       "      <th>quantity</th>\n",
       "      <th>purchase_date</th>\n",
       "      <th>customer_id</th>\n",
       "      <th>loyalty_program</th>\n",
       "      <th>shop_id</th>\n",
       "      <th>product_id</th>\n",
       "      <th>price_per_one</th>\n",
       "      <th>total_price</th>\n",
       "      <th>purchase_month</th>\n",
       "      <th>cohort_month</th>\n",
       "      <th>cohort_index</th>\n",
       "    </tr>\n",
       "  </thead>\n",
       "  <tbody>\n",
       "    <tr>\n",
       "      <th>0</th>\n",
       "      <td>538280</td>\n",
       "      <td>21873</td>\n",
       "      <td>11</td>\n",
       "      <td>2016-12-10 12:50:00</td>\n",
       "      <td>18427</td>\n",
       "      <td>0</td>\n",
       "      <td>Shop 3</td>\n",
       "      <td>21873</td>\n",
       "      <td>0.42</td>\n",
       "      <td>4.620000000000000</td>\n",
       "      <td>2016-12-01</td>\n",
       "      <td>2016-12-01</td>\n",
       "      <td>1.0</td>\n",
       "    </tr>\n",
       "    <tr>\n",
       "      <th>1</th>\n",
       "      <td>541104</td>\n",
       "      <td>21873</td>\n",
       "      <td>0</td>\n",
       "      <td>2017-01-13 14:29:00</td>\n",
       "      <td>0</td>\n",
       "      <td>0</td>\n",
       "      <td>Shop 0</td>\n",
       "      <td>21873</td>\n",
       "      <td>0.42</td>\n",
       "      <td>0.000000000000000</td>\n",
       "      <td>2016-12-01</td>\n",
       "      <td>2016-12-01</td>\n",
       "      <td>1.0</td>\n",
       "    </tr>\n",
       "    <tr>\n",
       "      <th>2</th>\n",
       "      <td>540418</td>\n",
       "      <td>21873</td>\n",
       "      <td>1</td>\n",
       "      <td>2017-01-07 11:04:00</td>\n",
       "      <td>0</td>\n",
       "      <td>0</td>\n",
       "      <td>Shop 0</td>\n",
       "      <td>21873</td>\n",
       "      <td>0.42</td>\n",
       "      <td>0.420000000000000</td>\n",
       "      <td>2016-12-01</td>\n",
       "      <td>2016-12-01</td>\n",
       "      <td>1.0</td>\n",
       "    </tr>\n",
       "    <tr>\n",
       "      <th>3</th>\n",
       "      <td>541516</td>\n",
       "      <td>21873</td>\n",
       "      <td>2</td>\n",
       "      <td>2017-01-18 17:34:00</td>\n",
       "      <td>0</td>\n",
       "      <td>0</td>\n",
       "      <td>Shop 0</td>\n",
       "      <td>21873</td>\n",
       "      <td>0.42</td>\n",
       "      <td>0.840000000000000</td>\n",
       "      <td>2017-02-01</td>\n",
       "      <td>2016-12-01</td>\n",
       "      <td>3.0</td>\n",
       "    </tr>\n",
       "    <tr>\n",
       "      <th>4</th>\n",
       "      <td>541566</td>\n",
       "      <td>21873</td>\n",
       "      <td>35</td>\n",
       "      <td>2017-01-19 11:50:00</td>\n",
       "      <td>23401</td>\n",
       "      <td>1</td>\n",
       "      <td>Shop 22</td>\n",
       "      <td>21873</td>\n",
       "      <td>0.42</td>\n",
       "      <td>14.699999999999999</td>\n",
       "      <td>2017-02-01</td>\n",
       "      <td>2016-12-01</td>\n",
       "      <td>3.0</td>\n",
       "    </tr>\n",
       "  </tbody>\n",
       "</table>\n",
       "</div>"
      ],
      "text/plain": [
       "  purchase_id item_id  quantity       purchase_date  customer_id  \\\n",
       "0      538280   21873        11 2016-12-10 12:50:00        18427   \n",
       "1      541104   21873         0 2017-01-13 14:29:00            0   \n",
       "2      540418   21873         1 2017-01-07 11:04:00            0   \n",
       "3      541516   21873         2 2017-01-18 17:34:00            0   \n",
       "4      541566   21873        35 2017-01-19 11:50:00        23401   \n",
       "\n",
       "   loyalty_program  shop_id product_id  price_per_one         total_price  \\\n",
       "0                0   Shop 3      21873           0.42   4.620000000000000   \n",
       "1                0   Shop 0      21873           0.42   0.000000000000000   \n",
       "2                0   Shop 0      21873           0.42   0.420000000000000   \n",
       "3                0   Shop 0      21873           0.42   0.840000000000000   \n",
       "4                1  Shop 22      21873           0.42  14.699999999999999   \n",
       "\n",
       "  purchase_month cohort_month  cohort_index  \n",
       "0     2016-12-01   2016-12-01           1.0  \n",
       "1     2016-12-01   2016-12-01           1.0  \n",
       "2     2016-12-01   2016-12-01           1.0  \n",
       "3     2017-02-01   2016-12-01           3.0  \n",
       "4     2017-02-01   2016-12-01           3.0  "
      ]
     },
     "execution_count": 55,
     "metadata": {},
     "output_type": "execute_result"
    }
   ],
   "source": [
    "# Extract the difference in days from all previous values\n",
    "retails['cohort_index'] = years_diff * 12 + months_diff + 1\n",
    "retails.head()"
   ]
  },
  {
   "cell_type": "code",
   "execution_count": 56,
   "metadata": {},
   "outputs": [],
   "source": [
    "#count monthly active customers from each cohort\n",
    "grouping = retails.groupby(['cohort_month', 'cohort_index'])\n",
    "cohort_data = grouping['customer_id'].apply(pd.Series.nunique)\n",
    "\n",
    "#Return number of unique elements in the object.\n",
    "cohort_data = cohort_data.reset_index()\n",
    "cohort_counts = cohort_data.pivot(index='cohort_month', columns = 'cohort_index', values='customer_id')"
   ]
  },
  {
   "cell_type": "code",
   "execution_count": 57,
   "metadata": {},
   "outputs": [
    {
     "data": {
      "text/html": [
       "<div>\n",
       "<style scoped>\n",
       "    .dataframe tbody tr th:only-of-type {\n",
       "        vertical-align: middle;\n",
       "    }\n",
       "\n",
       "    .dataframe tbody tr th {\n",
       "        vertical-align: top;\n",
       "    }\n",
       "\n",
       "    .dataframe thead th {\n",
       "        text-align: right;\n",
       "    }\n",
       "</style>\n",
       "<table border=\"1\" class=\"dataframe\">\n",
       "  <thead>\n",
       "    <tr style=\"text-align: right;\">\n",
       "      <th>cohort_index</th>\n",
       "      <th>1.0</th>\n",
       "      <th>2.0</th>\n",
       "      <th>3.0</th>\n",
       "    </tr>\n",
       "    <tr>\n",
       "      <th>cohort_month</th>\n",
       "      <th></th>\n",
       "      <th></th>\n",
       "      <th></th>\n",
       "    </tr>\n",
       "  </thead>\n",
       "  <tbody>\n",
       "    <tr>\n",
       "      <th>2016-12-01</th>\n",
       "      <td>100.0</td>\n",
       "      <td>94.899999999999991</td>\n",
       "      <td>93.400000000000006</td>\n",
       "    </tr>\n",
       "    <tr>\n",
       "      <th>2017-01-01</th>\n",
       "      <td>100.0</td>\n",
       "      <td>50.000000000000000</td>\n",
       "      <td>NaN</td>\n",
       "    </tr>\n",
       "    <tr>\n",
       "      <th>2017-02-01</th>\n",
       "      <td>100.0</td>\n",
       "      <td>NaN</td>\n",
       "      <td>NaN</td>\n",
       "    </tr>\n",
       "  </tbody>\n",
       "</table>\n",
       "</div>"
      ],
      "text/plain": [
       "cohort_index    1.0                 2.0                 3.0\n",
       "cohort_month                                               \n",
       "2016-12-01    100.0  94.899999999999991  93.400000000000006\n",
       "2017-01-01    100.0  50.000000000000000                 NaN\n",
       "2017-02-01    100.0                 NaN                 NaN"
      ]
     },
     "execution_count": 57,
     "metadata": {},
     "output_type": "execute_result"
    }
   ],
   "source": [
    "#Customer retention\n",
    "cohort_sizes = cohort_counts.iloc[:,0]\n",
    "retention = cohort_counts.divide(cohort_sizes, axis=0)\n",
    "retention = retention.round(3) * 100\n",
    "retention.head(20)"
   ]
  },
  {
   "cell_type": "code",
   "execution_count": 58,
   "metadata": {},
   "outputs": [
    {
     "data": {
      "image/png": "[encoded data removed]",
      "text/plain": [
       "<Figure size 720x432 with 2 Axes>"
      ]
     },
     "metadata": {
      "needs_background": "light"
     },
     "output_type": "display_data"
    }
   ],
   "source": [
    "month_list = [\"Dec '16\", \"Jan '17\", \"Feb '17\"]\n",
    "\n",
    "\n",
    "plt.figure(figsize=(10,6))\n",
    "plt.title('Retention by Monthly Cohorts')\n",
    "sns.heatmap(data=retention,\n",
    "            annot = True,\n",
    "            cmap = \"Greens\",\n",
    "            vmin = 0.0,\n",
    "            vmax = list(retention.max().sort_values(ascending = False))[1]+3,\n",
    "            fmt = '.1f',\n",
    "            linewidth = 0.3,\n",
    "            yticklabels=month_list)\n",
    "\n",
    "plt.show()"
   ]
  },
  {
   "cell_type": "markdown",
   "metadata": {},
   "source": [
    "The result means that 50% of the cohort which signed up in Jaunary 2017, were active 2 months later. Column one here shows the month of first purchase, therefore the retention rate is 100%. This means as customers had to be active this month on to be assigned to this cohort."
   ]
  },
  {
   "cell_type": "markdown",
   "metadata": {},
   "source": [
    "### Weekly Cohort"
   ]
  },
  {
   "cell_type": "code",
   "execution_count": 59,
   "metadata": {},
   "outputs": [],
   "source": [
    "def get_week(x):\n",
    "    date = x.strftime(\"%Y-%m-%d\")\n",
    "    return dt.datetime.strptime(date, \"%Y-%m-%d\")\n",
    "\n",
    "retails['purcase_week'] = retails['purchase_date'].apply(get_week)"
   ]
  },
  {
   "cell_type": "code",
   "execution_count": 60,
   "metadata": {},
   "outputs": [],
   "source": [
    "def get_week_start(x):\n",
    "    date = x.strftime(\"%Y-%m-%d\")\n",
    "    date_new = dt.datetime.strptime(date, \"%Y-%m-%d\")\n",
    "    date_start = date_new - dt.timedelta(days= date_new.weekday())\n",
    "    return date_start\n",
    "\n",
    "retails['week_start'] = retails['purchase_date'].apply(get_week_start)"
   ]
  },
  {
   "cell_type": "code",
   "execution_count": 61,
   "metadata": {},
   "outputs": [
    {
     "data": {
      "text/html": [
       "<div>\n",
       "<style scoped>\n",
       "    .dataframe tbody tr th:only-of-type {\n",
       "        vertical-align: middle;\n",
       "    }\n",
       "\n",
       "    .dataframe tbody tr th {\n",
       "        vertical-align: top;\n",
       "    }\n",
       "\n",
       "    .dataframe thead th {\n",
       "        text-align: right;\n",
       "    }\n",
       "</style>\n",
       "<table border=\"1\" class=\"dataframe\">\n",
       "  <thead>\n",
       "    <tr style=\"text-align: right;\">\n",
       "      <th></th>\n",
       "      <th>purchase_id</th>\n",
       "      <th>item_id</th>\n",
       "      <th>quantity</th>\n",
       "      <th>purchase_date</th>\n",
       "      <th>customer_id</th>\n",
       "      <th>loyalty_program</th>\n",
       "      <th>shop_id</th>\n",
       "      <th>product_id</th>\n",
       "      <th>price_per_one</th>\n",
       "      <th>total_price</th>\n",
       "      <th>purchase_month</th>\n",
       "      <th>cohort_month</th>\n",
       "      <th>cohort_index</th>\n",
       "      <th>purcase_week</th>\n",
       "      <th>week_start</th>\n",
       "      <th>purcase_week_id</th>\n",
       "      <th>cohort_week_id</th>\n",
       "      <th>cohort_week</th>\n",
       "      <th>cohort_weekly_index</th>\n",
       "    </tr>\n",
       "  </thead>\n",
       "  <tbody>\n",
       "    <tr>\n",
       "      <th>0</th>\n",
       "      <td>538280</td>\n",
       "      <td>21873</td>\n",
       "      <td>11</td>\n",
       "      <td>2016-12-10 12:50:00</td>\n",
       "      <td>18427</td>\n",
       "      <td>0</td>\n",
       "      <td>Shop 3</td>\n",
       "      <td>21873</td>\n",
       "      <td>0.42</td>\n",
       "      <td>4.620000000000000</td>\n",
       "      <td>2016-12-01</td>\n",
       "      <td>2016-12-01</td>\n",
       "      <td>1.0</td>\n",
       "      <td>2016-12-10</td>\n",
       "      <td>2016-12-05</td>\n",
       "      <td>0</td>\n",
       "      <td>0</td>\n",
       "      <td>2016-12-05</td>\n",
       "      <td>0</td>\n",
       "    </tr>\n",
       "    <tr>\n",
       "      <th>1</th>\n",
       "      <td>541104</td>\n",
       "      <td>21873</td>\n",
       "      <td>0</td>\n",
       "      <td>2017-01-13 14:29:00</td>\n",
       "      <td>0</td>\n",
       "      <td>0</td>\n",
       "      <td>Shop 0</td>\n",
       "      <td>21873</td>\n",
       "      <td>0.42</td>\n",
       "      <td>0.000000000000000</td>\n",
       "      <td>2016-12-01</td>\n",
       "      <td>2016-12-01</td>\n",
       "      <td>1.0</td>\n",
       "      <td>2017-01-13</td>\n",
       "      <td>2017-01-09</td>\n",
       "      <td>1</td>\n",
       "      <td>0</td>\n",
       "      <td>2016-12-05</td>\n",
       "      <td>1</td>\n",
       "    </tr>\n",
       "    <tr>\n",
       "      <th>2</th>\n",
       "      <td>540418</td>\n",
       "      <td>21873</td>\n",
       "      <td>1</td>\n",
       "      <td>2017-01-07 11:04:00</td>\n",
       "      <td>0</td>\n",
       "      <td>0</td>\n",
       "      <td>Shop 0</td>\n",
       "      <td>21873</td>\n",
       "      <td>0.42</td>\n",
       "      <td>0.420000000000000</td>\n",
       "      <td>2016-12-01</td>\n",
       "      <td>2016-12-01</td>\n",
       "      <td>1.0</td>\n",
       "      <td>2017-01-07</td>\n",
       "      <td>2017-01-02</td>\n",
       "      <td>2</td>\n",
       "      <td>0</td>\n",
       "      <td>2016-12-05</td>\n",
       "      <td>2</td>\n",
       "    </tr>\n",
       "    <tr>\n",
       "      <th>3</th>\n",
       "      <td>541516</td>\n",
       "      <td>21873</td>\n",
       "      <td>2</td>\n",
       "      <td>2017-01-18 17:34:00</td>\n",
       "      <td>0</td>\n",
       "      <td>0</td>\n",
       "      <td>Shop 0</td>\n",
       "      <td>21873</td>\n",
       "      <td>0.42</td>\n",
       "      <td>0.840000000000000</td>\n",
       "      <td>2017-02-01</td>\n",
       "      <td>2016-12-01</td>\n",
       "      <td>3.0</td>\n",
       "      <td>2017-01-18</td>\n",
       "      <td>2017-01-16</td>\n",
       "      <td>3</td>\n",
       "      <td>0</td>\n",
       "      <td>2016-12-05</td>\n",
       "      <td>3</td>\n",
       "    </tr>\n",
       "    <tr>\n",
       "      <th>4</th>\n",
       "      <td>541566</td>\n",
       "      <td>21873</td>\n",
       "      <td>35</td>\n",
       "      <td>2017-01-19 11:50:00</td>\n",
       "      <td>23401</td>\n",
       "      <td>1</td>\n",
       "      <td>Shop 22</td>\n",
       "      <td>21873</td>\n",
       "      <td>0.42</td>\n",
       "      <td>14.699999999999999</td>\n",
       "      <td>2017-02-01</td>\n",
       "      <td>2016-12-01</td>\n",
       "      <td>3.0</td>\n",
       "      <td>2017-01-19</td>\n",
       "      <td>2017-01-16</td>\n",
       "      <td>3</td>\n",
       "      <td>0</td>\n",
       "      <td>2016-12-05</td>\n",
       "      <td>3</td>\n",
       "    </tr>\n",
       "  </tbody>\n",
       "</table>\n",
       "</div>"
      ],
      "text/plain": [
       "  purchase_id item_id  quantity       purchase_date  customer_id  \\\n",
       "0      538280   21873        11 2016-12-10 12:50:00        18427   \n",
       "1      541104   21873         0 2017-01-13 14:29:00            0   \n",
       "2      540418   21873         1 2017-01-07 11:04:00            0   \n",
       "3      541516   21873         2 2017-01-18 17:34:00            0   \n",
       "4      541566   21873        35 2017-01-19 11:50:00        23401   \n",
       "\n",
       "   loyalty_program  shop_id product_id  price_per_one         total_price  \\\n",
       "0                0   Shop 3      21873           0.42   4.620000000000000   \n",
       "1                0   Shop 0      21873           0.42   0.000000000000000   \n",
       "2                0   Shop 0      21873           0.42   0.420000000000000   \n",
       "3                0   Shop 0      21873           0.42   0.840000000000000   \n",
       "4                1  Shop 22      21873           0.42  14.699999999999999   \n",
       "\n",
       "  purchase_month cohort_month  cohort_index purcase_week week_start  \\\n",
       "0     2016-12-01   2016-12-01           1.0   2016-12-10 2016-12-05   \n",
       "1     2016-12-01   2016-12-01           1.0   2017-01-13 2017-01-09   \n",
       "2     2016-12-01   2016-12-01           1.0   2017-01-07 2017-01-02   \n",
       "3     2017-02-01   2016-12-01           3.0   2017-01-18 2017-01-16   \n",
       "4     2017-02-01   2016-12-01           3.0   2017-01-19 2017-01-16   \n",
       "\n",
       "   purcase_week_id  cohort_week_id cohort_week  cohort_weekly_index  \n",
       "0                0               0  2016-12-05                    0  \n",
       "1                1               0  2016-12-05                    1  \n",
       "2                2               0  2016-12-05                    2  \n",
       "3                3               0  2016-12-05                    3  \n",
       "4                3               0  2016-12-05                    3  "
      ]
     },
     "execution_count": 61,
     "metadata": {},
     "output_type": "execute_result"
    }
   ],
   "source": [
    "weekly_map = dict(zip(retails['week_start'].unique(), range(len(retails['week_start'].unique()))))\n",
    "retails['purcase_week_id'] = retails['week_start'].map(weekly_map)\n",
    "retails['cohort_week_id'] = retails.groupby('customer_id')['purcase_week_id'].transform('min')\n",
    "retails['cohort_week'] = retails['cohort_week_id'].map(dict(zip(weekly_map.values(), weekly_map.keys())))\n",
    "retails['cohort_weekly_index'] = retails['purcase_week_id'] - retails['cohort_week_id']\n",
    "\n",
    "retails.head()"
   ]
  },
  {
   "cell_type": "code",
   "execution_count": 62,
   "metadata": {},
   "outputs": [],
   "source": [
    "#count weekly active customers from each cohort\n",
    "grouping = retails.groupby(['week_start', 'cohort_weekly_index'])\n",
    "cohort_data = grouping['customer_id'].apply(pd.Series.nunique)\n",
    "\n",
    "#Return number of unique elements in the object.\n",
    "cohort_data = cohort_data.reset_index()\n",
    "cohort_counts = cohort_data.pivot(index='week_start', columns = 'cohort_weekly_index', values='customer_id')"
   ]
  },
  {
   "cell_type": "code",
   "execution_count": 63,
   "metadata": {},
   "outputs": [
    {
     "data": {
      "text/html": [
       "<div>\n",
       "<style scoped>\n",
       "    .dataframe tbody tr th:only-of-type {\n",
       "        vertical-align: middle;\n",
       "    }\n",
       "\n",
       "    .dataframe tbody tr th {\n",
       "        vertical-align: top;\n",
       "    }\n",
       "\n",
       "    .dataframe thead th {\n",
       "        text-align: right;\n",
       "    }\n",
       "</style>\n",
       "<table border=\"1\" class=\"dataframe\">\n",
       "  <thead>\n",
       "    <tr style=\"text-align: right;\">\n",
       "      <th>cohort_weekly_index</th>\n",
       "      <th>0</th>\n",
       "      <th>1</th>\n",
       "      <th>2</th>\n",
       "      <th>3</th>\n",
       "      <th>4</th>\n",
       "      <th>5</th>\n",
       "      <th>6</th>\n",
       "      <th>7</th>\n",
       "      <th>8</th>\n",
       "      <th>9</th>\n",
       "      <th>10</th>\n",
       "      <th>11</th>\n",
       "      <th>12</th>\n",
       "    </tr>\n",
       "    <tr>\n",
       "      <th>week_start</th>\n",
       "      <th></th>\n",
       "      <th></th>\n",
       "      <th></th>\n",
       "      <th></th>\n",
       "      <th></th>\n",
       "      <th></th>\n",
       "      <th></th>\n",
       "      <th></th>\n",
       "      <th></th>\n",
       "      <th></th>\n",
       "      <th></th>\n",
       "      <th></th>\n",
       "      <th></th>\n",
       "    </tr>\n",
       "  </thead>\n",
       "  <tbody>\n",
       "    <tr>\n",
       "      <th>2016-11-28</th>\n",
       "      <td>100.0</td>\n",
       "      <td>4.100000000000001</td>\n",
       "      <td>5.200000000000000</td>\n",
       "      <td>2.100000000000000</td>\n",
       "      <td>1.000000000000000</td>\n",
       "      <td>4.100000000000001</td>\n",
       "      <td>9.300000000000001</td>\n",
       "      <td>21.600000000000001</td>\n",
       "      <td>10.299999999999999</td>\n",
       "      <td>19.600000000000001</td>\n",
       "      <td>20.599999999999998</td>\n",
       "      <td>66.0</td>\n",
       "      <td>NaN</td>\n",
       "    </tr>\n",
       "    <tr>\n",
       "      <th>2016-12-05</th>\n",
       "      <td>100.0</td>\n",
       "      <td>NaN</td>\n",
       "      <td>NaN</td>\n",
       "      <td>NaN</td>\n",
       "      <td>NaN</td>\n",
       "      <td>NaN</td>\n",
       "      <td>NaN</td>\n",
       "      <td>NaN</td>\n",
       "      <td>NaN</td>\n",
       "      <td>NaN</td>\n",
       "      <td>NaN</td>\n",
       "      <td>NaN</td>\n",
       "      <td>NaN</td>\n",
       "    </tr>\n",
       "    <tr>\n",
       "      <th>2016-12-12</th>\n",
       "      <td>100.0</td>\n",
       "      <td>8.500000000000000</td>\n",
       "      <td>14.099999999999998</td>\n",
       "      <td>17.599999999999998</td>\n",
       "      <td>66.299999999999997</td>\n",
       "      <td>NaN</td>\n",
       "      <td>NaN</td>\n",
       "      <td>NaN</td>\n",
       "      <td>NaN</td>\n",
       "      <td>NaN</td>\n",
       "      <td>NaN</td>\n",
       "      <td>NaN</td>\n",
       "      <td>NaN</td>\n",
       "    </tr>\n",
       "    <tr>\n",
       "      <th>2016-12-19</th>\n",
       "      <td>100.0</td>\n",
       "      <td>11.100000000000000</td>\n",
       "      <td>5.600000000000001</td>\n",
       "      <td>5.600000000000001</td>\n",
       "      <td>11.100000000000000</td>\n",
       "      <td>27.800000000000004</td>\n",
       "      <td>11.100000000000000</td>\n",
       "      <td>16.699999999999999</td>\n",
       "      <td>38.899999999999999</td>\n",
       "      <td>144.400000000000006</td>\n",
       "      <td>NaN</td>\n",
       "      <td>NaN</td>\n",
       "      <td>NaN</td>\n",
       "    </tr>\n",
       "    <tr>\n",
       "      <th>2017-01-02</th>\n",
       "      <td>100.0</td>\n",
       "      <td>17.500000000000000</td>\n",
       "      <td>70.899999999999991</td>\n",
       "      <td>NaN</td>\n",
       "      <td>NaN</td>\n",
       "      <td>NaN</td>\n",
       "      <td>NaN</td>\n",
       "      <td>NaN</td>\n",
       "      <td>NaN</td>\n",
       "      <td>NaN</td>\n",
       "      <td>NaN</td>\n",
       "      <td>NaN</td>\n",
       "      <td>NaN</td>\n",
       "    </tr>\n",
       "  </tbody>\n",
       "</table>\n",
       "</div>"
      ],
      "text/plain": [
       "cohort_weekly_index     0                   1                   2   \\\n",
       "week_start                                                           \n",
       "2016-11-28           100.0   4.100000000000001   5.200000000000000   \n",
       "2016-12-05           100.0                 NaN                 NaN   \n",
       "2016-12-12           100.0   8.500000000000000  14.099999999999998   \n",
       "2016-12-19           100.0  11.100000000000000   5.600000000000001   \n",
       "2017-01-02           100.0  17.500000000000000  70.899999999999991   \n",
       "\n",
       "cohort_weekly_index                  3                   4   \\\n",
       "week_start                                                    \n",
       "2016-11-28            2.100000000000000   1.000000000000000   \n",
       "2016-12-05                          NaN                 NaN   \n",
       "2016-12-12           17.599999999999998  66.299999999999997   \n",
       "2016-12-19            5.600000000000001  11.100000000000000   \n",
       "2017-01-02                          NaN                 NaN   \n",
       "\n",
       "cohort_weekly_index                  5                   6   \\\n",
       "week_start                                                    \n",
       "2016-11-28            4.100000000000001   9.300000000000001   \n",
       "2016-12-05                          NaN                 NaN   \n",
       "2016-12-12                          NaN                 NaN   \n",
       "2016-12-19           27.800000000000004  11.100000000000000   \n",
       "2017-01-02                          NaN                 NaN   \n",
       "\n",
       "cohort_weekly_index                  7                   8   \\\n",
       "week_start                                                    \n",
       "2016-11-28           21.600000000000001  10.299999999999999   \n",
       "2016-12-05                          NaN                 NaN   \n",
       "2016-12-12                          NaN                 NaN   \n",
       "2016-12-19           16.699999999999999  38.899999999999999   \n",
       "2017-01-02                          NaN                 NaN   \n",
       "\n",
       "cohort_weekly_index                   9                   10    11  12  \n",
       "week_start                                                              \n",
       "2016-11-28            19.600000000000001  20.599999999999998  66.0 NaN  \n",
       "2016-12-05                           NaN                 NaN   NaN NaN  \n",
       "2016-12-12                           NaN                 NaN   NaN NaN  \n",
       "2016-12-19           144.400000000000006                 NaN   NaN NaN  \n",
       "2017-01-02                           NaN                 NaN   NaN NaN  "
      ]
     },
     "execution_count": 63,
     "metadata": {},
     "output_type": "execute_result"
    }
   ],
   "source": [
    "#Customer retention\n",
    "cohort_sizes = cohort_counts.iloc[:,0]\n",
    "retention = cohort_counts.divide(cohort_sizes, axis=0)\n",
    "retention = retention.round(3) * 100\n",
    "retention.head()"
   ]
  },
  {
   "cell_type": "code",
   "execution_count": 64,
   "metadata": {},
   "outputs": [
    {
     "data": {
      "image/png": "[encoded data removed]",
      "text/plain": [
       "<Figure size 720x432 with 2 Axes>"
      ]
     },
     "metadata": {
      "needs_background": "light"
     },
     "output_type": "display_data"
    }
   ],
   "source": [
    "plt.figure(figsize=(10,6))\n",
    "plt.title('Retention by Weekly Cohorts')\n",
    "sns.heatmap(data=retention,\n",
    "            annot = True,\n",
    "            cmap = \"Greens\",\n",
    "            vmin = 0.0,\n",
    "            vmax = list(retention.max().sort_values(ascending = False))[1]+3,\n",
    "            fmt = '.1f',\n",
    "            linewidth = 0.3)\n",
    "\n",
    "plt.show()\n",
    "# SUSU: nice plot in general, but the y-axis label formatting doesn't need the time info, just cut it to the date"
   ]
  },
  {
   "cell_type": "markdown",
   "metadata": {},
   "source": [
    "As for the results of the weekly cohort above, it can be concluded that there was a trend of fluctuation in the percentage of customers in the first week, 66% of the cohort which signed up in November 2016, were active 11 weeks later. As for the increase in customers at 144% who signed up on 19 December 2016, were active 9 weeks later. And what lasted until week 12 happened to customers who signed up on 23 Jan 2017 by 79%. And some are not active at all after 1 month signed up on 05 Dec 2016."
   ]
  },
  {
   "cell_type": "markdown",
   "metadata": {},
   "source": [
    "# Step 4. Hypothesis Testing"
   ]
  },
  {
   "cell_type": "markdown",
   "metadata": {},
   "source": [
    "## Significant average purchase between members and non members"
   ]
  },
  {
   "cell_type": "markdown",
   "metadata": {},
   "source": [
    "- **H0 - Null Hypothesis - The loyalty program does not have a significant effect on average purchase size**\n",
    "- **H1 - Alternate hypothesis- The loyalty program has a significant effect on average purchase size**\n",
    "- **alpha = 0.05**\n"
   ]
  },
  {
   "cell_type": "code",
   "execution_count": 65,
   "metadata": {},
   "outputs": [
    {
     "data": {
      "text/plain": [
       "LeveneResult(statistic=0.0024070981222802145, pvalue=0.9608698329459399)"
      ]
     },
     "execution_count": 65,
     "metadata": {},
     "output_type": "execute_result"
    }
   ],
   "source": [
    "# Separate the average purchase size for loyalty program members and non-members\n",
    "avg_size_members = retails.loc[retails['loyalty_program'] == 1].dropna()['total_price']\n",
    "avg_size_non_members = retails.loc[retails['loyalty_program'] == 0].dropna()['total_price']\n",
    "\n",
    "# Perform Levene's test\n",
    "st.levene(avg_size_members, avg_size_non_members)"
   ]
  },
  {
   "cell_type": "code",
   "execution_count": 66,
   "metadata": {},
   "outputs": [],
   "source": [
    "# Define the significance level (alpha)\n",
    "alpha = 0.05\n",
    "results = st.ttest_ind(avg_size_members, avg_size_non_members, equal_var=False)\n",
    "# SUSU: why do you use equal_var=False here? this means you'd be doing a Welche's t-test which is for \n",
    "# distributions that do not have a equal variance, but if I understand the result of the Levene's test\n",
    "# above correctly, it looks like the variances of the two samples are NOT significantly different"
   ]
  },
  {
   "cell_type": "code",
   "execution_count": 67,
   "metadata": {},
   "outputs": [
    {
     "name": "stdout",
     "output_type": "stream",
     "text": [
      "We fail to reject the null hypothesis.\n",
      "p-value: 0.10625820163245492\n"
     ]
    }
   ],
   "source": [
    "if (results.pvalue < alpha):\n",
    "    print(\"Reject the null hypothesis.\")\n",
    "else:\n",
    "    print(\"We fail to reject the null hypothesis.\")\n",
    "\n",
    "print(\"p-value:\", results.pvalue)"
   ]
  },
  {
   "cell_type": "markdown",
   "metadata": {},
   "source": [
    "Since the p-value (0.1063) is greater than the significance level (alpha = 0.05), we fail to reject the null hypothesis. This means that there is not enough evidence to suggest that the loyalty program has a significant effect on the average purchase size."
   ]
  },
  {
   "cell_type": "markdown",
   "metadata": {},
   "source": [
    "# Step. 5. Conclution and Business Recommendation"
   ]
  },
  {
   "cell_type": "markdown",
   "metadata": {},
   "source": [
    "1. **Conclusion**"
   ]
  },
  {
   "cell_type": "markdown",
   "metadata": {},
   "source": [
    "From the results of this retail dataset analysis, it aims to see how much influence the loyalty_program has on the average number of customer purchases. From the research results, it can be concluded that:\n",
    "1. The average purchase between members and non-members of the loyalty_program is not that far off. With an average purchase for members of 11.171 and an average purchase for non-members of 8.826.\n",
    "2. Non_members have the largest total purchases of 713920.449 compared to the total purchases of members which are 3 times less, namely 261525.61.\n",
    "3. The number of items in baskets is dominated by customers who do not participate in the loyalty program with a total of 593520 items and for loyalty program members as many as 228693 items (which is less than half of non-member items).\n",
    "4. The distribution of loyalty_program Members as much as 22.4% and Non-members as much as 77.6%.\n",
    "5. Many visitors tend to come on Friday, more precisely on 2016-12-09.\n",
    "6. The result means that 50% of the cohort which signed up in Jaunary 2017, were active 2 months later."
   ]
  },
  {
   "cell_type": "markdown",
   "metadata": {},
   "source": [
    "2. **Business Recommendation**"
   ]
  },
  {
   "cell_type": "markdown",
   "metadata": {},
   "source": [
    "Based on the results of the hypothesis test, which indicated no significant effect of the loyalty program on the average purchase size, I would recommend the following to the project manager in the retail industry:\n",
    "1. Focus on Customer Experience: Prioritize a superior customer experience. Make sure store staff provide friendly, efficient service and assist customers with their needs. Improve the quality of customer service and ensure a pleasant and satisfying shopping experience.\n",
    "\n",
    "2. Product Quality and Competitive Offers: Pay attention to the quality of the products offered, ensure the availability of quality products, and consider competitive offers. Customers will tend to choose stores that provide the desired product at competitive prices. A specific example, by providing offers on certain days of the week, such as Friday - Sunday when many customers shop.\n"
   ]
  },
  {
   "cell_type": "markdown",
   "metadata": {},
   "source": [
    "3. **Presentation**"
   ]
  },
  {
   "cell_type": "markdown",
   "metadata": {},
   "source": [
    "- Final Project Presentation: <https://drive.google.com/file/d/1meudp60aJ3E2liOr54GODLhO9qUNQFpU/view?usp=sharing>\n",
    "- Dasboard tableau link : <https://public.tableau.com/app/profile/rini.rusmiyati/viz/RetailsAnalyticsDashboard/Dashboard1>\n",
    "(#SUSU: this is great, good to have some more visual resources to look at)"
   ]
  },
  {
   "cell_type": "markdown",
   "metadata": {},
   "source": []
  }
 ],
 "metadata": {
  "kernelspec": {
   "display_name": "Python 3 (ipykernel)",
   "language": "python",
   "name": "python3"
  },
  "language_info": {
   "codemirror_mode": {
    "name": "ipython",
    "version": 3
   },
   "file_extension": ".py",
   "mimetype": "text/x-python",
   "name": "python",
   "nbconvert_exporter": "python",
   "pygments_lexer": "ipython3",
   "version": "3.11.7"
  },
  "toc": {
   "base_numbering": 1,
   "nav_menu": {},
   "number_sections": true,
   "sideBar": true,
   "skip_h1_title": false,
   "title_cell": "Table of Contents",
   "title_sidebar": "Contents",
   "toc_cell": false,
   "toc_position": {
    "height": "calc(100% - 180px)",
    "left": "10px",
    "top": "150px",
    "width": "165px"
   },
   "toc_section_display": true,
   "toc_window_display": true
  }
 },
 "nbformat": 4,
 "nbformat_minor": 4
}
