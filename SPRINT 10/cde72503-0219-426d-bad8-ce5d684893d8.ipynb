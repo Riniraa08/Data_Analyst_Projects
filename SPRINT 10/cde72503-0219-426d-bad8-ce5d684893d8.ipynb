{
 "cells": [
  {
   "cell_type": "markdown",
   "metadata": {},
   "source": [
    "# Contents <a id='back'></a>\n",
    "\n",
    "* [Introduction](#intro)\n",
    "* [Step 1. Download data and prepare it for analysis](#data_review)\n",
    "    * [Create library](#data_review_library)\n",
    "    * [Load the data](#data_review_load)\n",
    "    * [Fixing the data](#data_review_fix)\n",
    "* [Step 2. Data analysis](#data_preprocessing)\n",
    "    * [2.1 Proportion of various types of business](#analysis_1)\n",
    "    * [2.2 Proportion of franchise-based and non-franchise businesses](#analysis_2)\n",
    "    * [2.3 Business which is usually a franchise-based business](#analysis_3)\n",
    "    * [2.4 Which are the characteristics of this type of franchise-based business](#analysis_4)\n",
    "    * [2.5 The average number of seats for each type of business](#analysis_5)\n",
    "    * [2.6 Move the address column to a separate column](#analysis_6)\n",
    "    * [2.7 A chart showing the top ten street names](#analysis_7)\n",
    "    * [2.8 Number of streets that have only one business](#analysis_8)\n",
    "    * [2.9 The distribution of seat number](#analysis_9)\n",
    "    * [2.10 General conclusion](#conclusion)\n",
    "* [Step 3. Prepare the presentation](#presentation)\n",
    "* [Findings](#end)"
   ]
  },
  {
   "cell_type": "markdown",
   "metadata": {},
   "source": [
    "# Project Introduction\n",
    "\n",
    "Every time we do an analysis, we need to formulate several testing and test analyzes that we need to test further. Sometimes, the tests we do lead us to accept the hypothesis, other times we also need to reject it. To make the right decisions in business, we must understand whether the assumptions we make are correct or not.\n",
    "\n",
    "In this project as an analyst in this startup that sells food products we need to find out the behavior of application users from that company.\n",
    "\n",
    "## Purpose:\n",
    "1. Figure out which font will give the best results\n",
    "2. find out how many users actually made it to the purchase stage\n",
    "3. Find out how many users were stuck in the previous stages and at what stage exactly does this happen\n",
    "\n",
    "\n",
    "## Steps\n",
    "As for the data that we will retrieve and analyze stored in a file `/datasets/logs_exp_us.csv`.\n",
    "There are several steps of the analysis this time, namely:\n",
    "1. Download data and prepare it for analysis\n",
    "2. Analyze data\n",
    "3. Study the results of your experiment\n",
    "\n",
    "[Back to Contents](#back)"
   ]
  },
  {
   "cell_type": "markdown",
   "metadata": {},
   "source": [
    "# Step 1. Download data and prepare it for analysis"
   ]
  },
  {
   "cell_type": "markdown",
   "metadata": {},
   "source": [
    "## Create library"
   ]
  },
  {
   "cell_type": "code",
   "execution_count": 1,
   "metadata": {},
   "outputs": [],
   "source": [
    "import pandas as pd\n",
    "import matplotlib.pyplot as plt\n",
    "import numpy as np\n",
    "import scipy\n",
    "from scipy import stats\n",
    "import math\n",
    "import seaborn as sns\n",
    "from pandas.plotting import register_matplotlib_converters"
   ]
  },
  {
   "cell_type": "markdown",
   "metadata": {},
   "source": [
    "## Load the data"
   ]
  },
  {
   "cell_type": "code",
   "execution_count": 2,
   "metadata": {},
   "outputs": [],
   "source": [
    "data = pd.read_csv('/datasets/logs_exp_us.csv', sep='\\t')"
   ]
  },
  {
   "cell_type": "code",
   "execution_count": 3,
   "metadata": {},
   "outputs": [
    {
     "data": {
      "text/html": [
       "<div>\n",
       "<style scoped>\n",
       "    .dataframe tbody tr th:only-of-type {\n",
       "        vertical-align: middle;\n",
       "    }\n",
       "\n",
       "    .dataframe tbody tr th {\n",
       "        vertical-align: top;\n",
       "    }\n",
       "\n",
       "    .dataframe thead th {\n",
       "        text-align: right;\n",
       "    }\n",
       "</style>\n",
       "<table border=\"1\" class=\"dataframe\">\n",
       "  <thead>\n",
       "    <tr style=\"text-align: right;\">\n",
       "      <th></th>\n",
       "      <th>EventName</th>\n",
       "      <th>DeviceIDHash</th>\n",
       "      <th>EventTimestamp</th>\n",
       "      <th>ExpId</th>\n",
       "    </tr>\n",
       "  </thead>\n",
       "  <tbody>\n",
       "    <tr>\n",
       "      <th>0</th>\n",
       "      <td>MainScreenAppear</td>\n",
       "      <td>4575588528974610257</td>\n",
       "      <td>1564029816</td>\n",
       "      <td>246</td>\n",
       "    </tr>\n",
       "    <tr>\n",
       "      <th>1</th>\n",
       "      <td>MainScreenAppear</td>\n",
       "      <td>7416695313311560658</td>\n",
       "      <td>1564053102</td>\n",
       "      <td>246</td>\n",
       "    </tr>\n",
       "    <tr>\n",
       "      <th>2</th>\n",
       "      <td>PaymentScreenSuccessful</td>\n",
       "      <td>3518123091307005509</td>\n",
       "      <td>1564054127</td>\n",
       "      <td>248</td>\n",
       "    </tr>\n",
       "    <tr>\n",
       "      <th>3</th>\n",
       "      <td>CartScreenAppear</td>\n",
       "      <td>3518123091307005509</td>\n",
       "      <td>1564054127</td>\n",
       "      <td>248</td>\n",
       "    </tr>\n",
       "    <tr>\n",
       "      <th>4</th>\n",
       "      <td>PaymentScreenSuccessful</td>\n",
       "      <td>6217807653094995999</td>\n",
       "      <td>1564055322</td>\n",
       "      <td>248</td>\n",
       "    </tr>\n",
       "  </tbody>\n",
       "</table>\n",
       "</div>"
      ],
      "text/plain": [
       "                 EventName         DeviceIDHash  EventTimestamp  ExpId\n",
       "0         MainScreenAppear  4575588528974610257      1564029816    246\n",
       "1         MainScreenAppear  7416695313311560658      1564053102    246\n",
       "2  PaymentScreenSuccessful  3518123091307005509      1564054127    248\n",
       "3         CartScreenAppear  3518123091307005509      1564054127    248\n",
       "4  PaymentScreenSuccessful  6217807653094995999      1564055322    248"
      ]
     },
     "execution_count": 3,
     "metadata": {},
     "output_type": "execute_result"
    }
   ],
   "source": [
    "data.head()"
   ]
  },
  {
   "cell_type": "code",
   "execution_count": 4,
   "metadata": {},
   "outputs": [
    {
     "name": "stdout",
     "output_type": "stream",
     "text": [
      "<class 'pandas.core.frame.DataFrame'>\n",
      "RangeIndex: 244126 entries, 0 to 244125\n",
      "Data columns (total 4 columns):\n",
      " #   Column          Non-Null Count   Dtype \n",
      "---  ------          --------------   ----- \n",
      " 0   EventName       244126 non-null  object\n",
      " 1   DeviceIDHash    244126 non-null  int64 \n",
      " 2   EventTimestamp  244126 non-null  int64 \n",
      " 3   ExpId           244126 non-null  int64 \n",
      "dtypes: int64(3), object(1)\n",
      "memory usage: 7.5+ MB\n"
     ]
    }
   ],
   "source": [
    "data.info()"
   ]
  },
  {
   "cell_type": "code",
   "execution_count": 5,
   "metadata": {},
   "outputs": [
    {
     "data": {
      "text/html": [
       "<div>\n",
       "<style scoped>\n",
       "    .dataframe tbody tr th:only-of-type {\n",
       "        vertical-align: middle;\n",
       "    }\n",
       "\n",
       "    .dataframe tbody tr th {\n",
       "        vertical-align: top;\n",
       "    }\n",
       "\n",
       "    .dataframe thead th {\n",
       "        text-align: right;\n",
       "    }\n",
       "</style>\n",
       "<table border=\"1\" class=\"dataframe\">\n",
       "  <thead>\n",
       "    <tr style=\"text-align: right;\">\n",
       "      <th></th>\n",
       "      <th>DeviceIDHash</th>\n",
       "      <th>EventTimestamp</th>\n",
       "      <th>ExpId</th>\n",
       "    </tr>\n",
       "  </thead>\n",
       "  <tbody>\n",
       "    <tr>\n",
       "      <th>count</th>\n",
       "      <td>2.441260e+05</td>\n",
       "      <td>2.441260e+05</td>\n",
       "      <td>244126.000000</td>\n",
       "    </tr>\n",
       "    <tr>\n",
       "      <th>mean</th>\n",
       "      <td>4.627568e+18</td>\n",
       "      <td>1.564914e+09</td>\n",
       "      <td>247.022296</td>\n",
       "    </tr>\n",
       "    <tr>\n",
       "      <th>std</th>\n",
       "      <td>2.642425e+18</td>\n",
       "      <td>1.771343e+05</td>\n",
       "      <td>0.824434</td>\n",
       "    </tr>\n",
       "    <tr>\n",
       "      <th>min</th>\n",
       "      <td>6.888747e+15</td>\n",
       "      <td>1.564030e+09</td>\n",
       "      <td>246.000000</td>\n",
       "    </tr>\n",
       "    <tr>\n",
       "      <th>25%</th>\n",
       "      <td>2.372212e+18</td>\n",
       "      <td>1.564757e+09</td>\n",
       "      <td>246.000000</td>\n",
       "    </tr>\n",
       "    <tr>\n",
       "      <th>50%</th>\n",
       "      <td>4.623192e+18</td>\n",
       "      <td>1.564919e+09</td>\n",
       "      <td>247.000000</td>\n",
       "    </tr>\n",
       "    <tr>\n",
       "      <th>75%</th>\n",
       "      <td>6.932517e+18</td>\n",
       "      <td>1.565075e+09</td>\n",
       "      <td>248.000000</td>\n",
       "    </tr>\n",
       "    <tr>\n",
       "      <th>max</th>\n",
       "      <td>9.222603e+18</td>\n",
       "      <td>1.565213e+09</td>\n",
       "      <td>248.000000</td>\n",
       "    </tr>\n",
       "  </tbody>\n",
       "</table>\n",
       "</div>"
      ],
      "text/plain": [
       "       DeviceIDHash  EventTimestamp          ExpId\n",
       "count  2.441260e+05    2.441260e+05  244126.000000\n",
       "mean   4.627568e+18    1.564914e+09     247.022296\n",
       "std    2.642425e+18    1.771343e+05       0.824434\n",
       "min    6.888747e+15    1.564030e+09     246.000000\n",
       "25%    2.372212e+18    1.564757e+09     246.000000\n",
       "50%    4.623192e+18    1.564919e+09     247.000000\n",
       "75%    6.932517e+18    1.565075e+09     248.000000\n",
       "max    9.222603e+18    1.565213e+09     248.000000"
      ]
     },
     "execution_count": 5,
     "metadata": {},
     "output_type": "execute_result"
    }
   ],
   "source": [
    "data.describe()"
   ]
  },
  {
   "cell_type": "markdown",
   "metadata": {},
   "source": [
    "As can be seen, everything is great and there is no missing value found. As shown, we have all three experiments 246, 247 and 248."
   ]
  },
  {
   "cell_type": "markdown",
   "metadata": {},
   "source": [
    "## Rename the columns"
   ]
  },
  {
   "cell_type": "code",
   "execution_count": 6,
   "metadata": {
    "scrolled": true
   },
   "outputs": [
    {
     "data": {
      "text/html": [
       "<div>\n",
       "<style scoped>\n",
       "    .dataframe tbody tr th:only-of-type {\n",
       "        vertical-align: middle;\n",
       "    }\n",
       "\n",
       "    .dataframe tbody tr th {\n",
       "        vertical-align: top;\n",
       "    }\n",
       "\n",
       "    .dataframe thead th {\n",
       "        text-align: right;\n",
       "    }\n",
       "</style>\n",
       "<table border=\"1\" class=\"dataframe\">\n",
       "  <thead>\n",
       "    <tr style=\"text-align: right;\">\n",
       "      <th></th>\n",
       "      <th>event</th>\n",
       "      <th>user</th>\n",
       "      <th>timestamp</th>\n",
       "      <th>exp_id</th>\n",
       "    </tr>\n",
       "  </thead>\n",
       "  <tbody>\n",
       "    <tr>\n",
       "      <th>0</th>\n",
       "      <td>MainScreenAppear</td>\n",
       "      <td>4575588528974610257</td>\n",
       "      <td>1564029816</td>\n",
       "      <td>246</td>\n",
       "    </tr>\n",
       "    <tr>\n",
       "      <th>1</th>\n",
       "      <td>MainScreenAppear</td>\n",
       "      <td>7416695313311560658</td>\n",
       "      <td>1564053102</td>\n",
       "      <td>246</td>\n",
       "    </tr>\n",
       "    <tr>\n",
       "      <th>2</th>\n",
       "      <td>PaymentScreenSuccessful</td>\n",
       "      <td>3518123091307005509</td>\n",
       "      <td>1564054127</td>\n",
       "      <td>248</td>\n",
       "    </tr>\n",
       "    <tr>\n",
       "      <th>3</th>\n",
       "      <td>CartScreenAppear</td>\n",
       "      <td>3518123091307005509</td>\n",
       "      <td>1564054127</td>\n",
       "      <td>248</td>\n",
       "    </tr>\n",
       "    <tr>\n",
       "      <th>4</th>\n",
       "      <td>PaymentScreenSuccessful</td>\n",
       "      <td>6217807653094995999</td>\n",
       "      <td>1564055322</td>\n",
       "      <td>248</td>\n",
       "    </tr>\n",
       "  </tbody>\n",
       "</table>\n",
       "</div>"
      ],
      "text/plain": [
       "                     event                 user   timestamp  exp_id\n",
       "0         MainScreenAppear  4575588528974610257  1564029816     246\n",
       "1         MainScreenAppear  7416695313311560658  1564053102     246\n",
       "2  PaymentScreenSuccessful  3518123091307005509  1564054127     248\n",
       "3         CartScreenAppear  3518123091307005509  1564054127     248\n",
       "4  PaymentScreenSuccessful  6217807653094995999  1564055322     248"
      ]
     },
     "execution_count": 6,
     "metadata": {},
     "output_type": "execute_result"
    }
   ],
   "source": [
    "data.rename(columns = {\n",
    "    'EventName' : 'event',\n",
    "    'DeviceIDHash' : 'user',\n",
    "    'EventTimestamp' : 'timestamp',\n",
    "    'ExpId' : 'exp_id',\n",
    "}, inplace=True)\n",
    "data.head()"
   ]
  },
  {
   "cell_type": "markdown",
   "metadata": {},
   "source": [
    "## Added date and time fields and a separate column for dates"
   ]
  },
  {
   "cell_type": "code",
   "execution_count": 7,
   "metadata": {},
   "outputs": [
    {
     "data": {
      "text/html": [
       "<div>\n",
       "<style scoped>\n",
       "    .dataframe tbody tr th:only-of-type {\n",
       "        vertical-align: middle;\n",
       "    }\n",
       "\n",
       "    .dataframe tbody tr th {\n",
       "        vertical-align: top;\n",
       "    }\n",
       "\n",
       "    .dataframe thead th {\n",
       "        text-align: right;\n",
       "    }\n",
       "</style>\n",
       "<table border=\"1\" class=\"dataframe\">\n",
       "  <thead>\n",
       "    <tr style=\"text-align: right;\">\n",
       "      <th></th>\n",
       "      <th>event</th>\n",
       "      <th>user</th>\n",
       "      <th>timestamp</th>\n",
       "      <th>exp_id</th>\n",
       "      <th>date_time</th>\n",
       "      <th>date</th>\n",
       "    </tr>\n",
       "  </thead>\n",
       "  <tbody>\n",
       "    <tr>\n",
       "      <th>0</th>\n",
       "      <td>MainScreenAppear</td>\n",
       "      <td>4575588528974610257</td>\n",
       "      <td>1564029816</td>\n",
       "      <td>246</td>\n",
       "      <td>2019-07-25 04:43:36</td>\n",
       "      <td>2019-07-25</td>\n",
       "    </tr>\n",
       "    <tr>\n",
       "      <th>1</th>\n",
       "      <td>MainScreenAppear</td>\n",
       "      <td>7416695313311560658</td>\n",
       "      <td>1564053102</td>\n",
       "      <td>246</td>\n",
       "      <td>2019-07-25 11:11:42</td>\n",
       "      <td>2019-07-25</td>\n",
       "    </tr>\n",
       "    <tr>\n",
       "      <th>2</th>\n",
       "      <td>PaymentScreenSuccessful</td>\n",
       "      <td>3518123091307005509</td>\n",
       "      <td>1564054127</td>\n",
       "      <td>248</td>\n",
       "      <td>2019-07-25 11:28:47</td>\n",
       "      <td>2019-07-25</td>\n",
       "    </tr>\n",
       "    <tr>\n",
       "      <th>3</th>\n",
       "      <td>CartScreenAppear</td>\n",
       "      <td>3518123091307005509</td>\n",
       "      <td>1564054127</td>\n",
       "      <td>248</td>\n",
       "      <td>2019-07-25 11:28:47</td>\n",
       "      <td>2019-07-25</td>\n",
       "    </tr>\n",
       "    <tr>\n",
       "      <th>4</th>\n",
       "      <td>PaymentScreenSuccessful</td>\n",
       "      <td>6217807653094995999</td>\n",
       "      <td>1564055322</td>\n",
       "      <td>248</td>\n",
       "      <td>2019-07-25 11:48:42</td>\n",
       "      <td>2019-07-25</td>\n",
       "    </tr>\n",
       "  </tbody>\n",
       "</table>\n",
       "</div>"
      ],
      "text/plain": [
       "                     event                 user   timestamp  exp_id  \\\n",
       "0         MainScreenAppear  4575588528974610257  1564029816     246   \n",
       "1         MainScreenAppear  7416695313311560658  1564053102     246   \n",
       "2  PaymentScreenSuccessful  3518123091307005509  1564054127     248   \n",
       "3         CartScreenAppear  3518123091307005509  1564054127     248   \n",
       "4  PaymentScreenSuccessful  6217807653094995999  1564055322     248   \n",
       "\n",
       "            date_time       date  \n",
       "0 2019-07-25 04:43:36 2019-07-25  \n",
       "1 2019-07-25 11:11:42 2019-07-25  \n",
       "2 2019-07-25 11:28:47 2019-07-25  \n",
       "3 2019-07-25 11:28:47 2019-07-25  \n",
       "4 2019-07-25 11:48:42 2019-07-25  "
      ]
     },
     "execution_count": 7,
     "metadata": {},
     "output_type": "execute_result"
    }
   ],
   "source": [
    "data['date_time'] = pd.to_datetime(data['timestamp'], unit='s')\n",
    "data['date'] = data['date_time'].dt.floor('1D')\n",
    "data.head()"
   ]
  },
  {
   "cell_type": "markdown",
   "metadata": {},
   "source": [
    "# Step 2. Study and check the data"
   ]
  },
  {
   "cell_type": "markdown",
   "metadata": {},
   "source": [
    "## How many events are in the logs?"
   ]
  },
  {
   "cell_type": "code",
   "execution_count": 8,
   "metadata": {},
   "outputs": [
    {
     "name": "stdout",
     "output_type": "stream",
     "text": [
      "244126 events\n"
     ]
    }
   ],
   "source": [
    "events = len(data)\n",
    "print(f'{events} events')"
   ]
  },
  {
   "cell_type": "markdown",
   "metadata": {},
   "source": [
    "## How many users are in the logs?"
   ]
  },
  {
   "cell_type": "code",
   "execution_count": 9,
   "metadata": {},
   "outputs": [
    {
     "name": "stdout",
     "output_type": "stream",
     "text": [
      "7551 users\n"
     ]
    }
   ],
   "source": [
    "users = len(data['user'].unique())\n",
    "print(f'{users} users')"
   ]
  },
  {
   "cell_type": "markdown",
   "metadata": {},
   "source": [
    "## What is the average number of events per user?"
   ]
  },
  {
   "cell_type": "code",
   "execution_count": 10,
   "metadata": {},
   "outputs": [
    {
     "name": "stdout",
     "output_type": "stream",
     "text": [
      "32.33028737915508 events_per_user\n"
     ]
    }
   ],
   "source": [
    "events_per_user = events / users\n",
    "print(f'{events_per_user} events_per_user')"
   ]
  },
  {
   "cell_type": "markdown",
   "metadata": {},
   "source": [
    "it clearly can be seen from the results that:\n",
    "1. the total events in the logs are 244126 events\n",
    "2. the total users in the logs are 7551 users\n",
    "3. the average number of events per user are 32.33028737915508 events/user"
   ]
  },
  {
   "cell_type": "markdown",
   "metadata": {},
   "source": [
    "## What time period does the data cover? Find the maximum and minimum dates. Construct a histogram based on the date and time. Can you ensure that the data you have is complete for all periods? Past events may appear in the logs of some users for technical reasons, and this can mess up the overall data distribution. Find the moment when the data starts to feel complete and ignore the old data. Which period does the data you have actually represent?"
   ]
  },
  {
   "cell_type": "code",
   "execution_count": 11,
   "metadata": {},
   "outputs": [
    {
     "name": "stdout",
     "output_type": "stream",
     "text": [
      "2019-07-25 04:43:36 2019-08-07 21:15:17\n"
     ]
    }
   ],
   "source": [
    "print(data['date_time'].min(), data['date_time'].max())"
   ]
  },
  {
   "cell_type": "code",
   "execution_count": 12,
   "metadata": {},
   "outputs": [
    {
     "data": {
      "text/plain": [
       "<AxesSubplot:>"
      ]
     },
     "execution_count": 12,
     "metadata": {},
     "output_type": "execute_result"
    },
    {
     "data": {
      "image/png": "[encoded data removed]",
      "text/plain": [
       "<Figure size 1008x360 with 1 Axes>"
      ]
     },
     "metadata": {
      "needs_background": "light"
     },
     "output_type": "display_data"
    }
   ],
   "source": [
    "register_matplotlib_converters()\n",
    "data['date_time'].hist(bins= 100, figsize=(14, 5))"
   ]
  },
  {
   "cell_type": "code",
   "execution_count": 13,
   "metadata": {},
   "outputs": [
    {
     "data": {
      "text/plain": [
       "<AxesSubplot:xlabel='date'>"
      ]
     },
     "execution_count": 13,
     "metadata": {},
     "output_type": "execute_result"
    },
    {
     "data": {
      "image/png": "[encoded data removed]",
      "text/plain": [
       "<Figure size 432x288 with 1 Axes>"
      ]
     },
     "metadata": {
      "needs_background": "light"
     },
     "output_type": "display_data"
    }
   ],
   "source": [
    "data.pivot_table(index= 'date', values='user', aggfunc= 'count').plot(style='o-', grid=True)"
   ]
  },
  {
   "cell_type": "markdown",
   "metadata": {},
   "source": [
    "so now we can see or search for the earliest (25 july) and latest (7 august) dates.\n",
    "However if looked at the histogram or plot, which is about 3 weeks apart. It can be seen that, before August 1, the amount of data is still relatively small. So, we can ignore data that appears before August 1."
   ]
  },
  {
   "cell_type": "code",
   "execution_count": 14,
   "metadata": {},
   "outputs": [
    {
     "data": {
      "text/html": [
       "<div>\n",
       "<style scoped>\n",
       "    .dataframe tbody tr th:only-of-type {\n",
       "        vertical-align: middle;\n",
       "    }\n",
       "\n",
       "    .dataframe tbody tr th {\n",
       "        vertical-align: top;\n",
       "    }\n",
       "\n",
       "    .dataframe thead th {\n",
       "        text-align: right;\n",
       "    }\n",
       "</style>\n",
       "<table border=\"1\" class=\"dataframe\">\n",
       "  <thead>\n",
       "    <tr style=\"text-align: right;\">\n",
       "      <th></th>\n",
       "      <th>event</th>\n",
       "      <th>user</th>\n",
       "      <th>timestamp</th>\n",
       "      <th>exp_id</th>\n",
       "      <th>date_time</th>\n",
       "      <th>date</th>\n",
       "    </tr>\n",
       "  </thead>\n",
       "  <tbody>\n",
       "    <tr>\n",
       "      <th>1990</th>\n",
       "      <td>MainScreenAppear</td>\n",
       "      <td>7701922487875823903</td>\n",
       "      <td>1564606857</td>\n",
       "      <td>247</td>\n",
       "      <td>2019-07-31 21:00:57</td>\n",
       "      <td>2019-07-31</td>\n",
       "    </tr>\n",
       "    <tr>\n",
       "      <th>1991</th>\n",
       "      <td>MainScreenAppear</td>\n",
       "      <td>2539077412200498909</td>\n",
       "      <td>1564606905</td>\n",
       "      <td>247</td>\n",
       "      <td>2019-07-31 21:01:45</td>\n",
       "      <td>2019-07-31</td>\n",
       "    </tr>\n",
       "    <tr>\n",
       "      <th>1992</th>\n",
       "      <td>OffersScreenAppear</td>\n",
       "      <td>3286987355161301427</td>\n",
       "      <td>1564606941</td>\n",
       "      <td>248</td>\n",
       "      <td>2019-07-31 21:02:21</td>\n",
       "      <td>2019-07-31</td>\n",
       "    </tr>\n",
       "    <tr>\n",
       "      <th>1993</th>\n",
       "      <td>OffersScreenAppear</td>\n",
       "      <td>3187166762535343300</td>\n",
       "      <td>1564606943</td>\n",
       "      <td>247</td>\n",
       "      <td>2019-07-31 21:02:23</td>\n",
       "      <td>2019-07-31</td>\n",
       "    </tr>\n",
       "    <tr>\n",
       "      <th>1994</th>\n",
       "      <td>MainScreenAppear</td>\n",
       "      <td>1118952406011435924</td>\n",
       "      <td>1564607005</td>\n",
       "      <td>248</td>\n",
       "      <td>2019-07-31 21:03:25</td>\n",
       "      <td>2019-07-31</td>\n",
       "    </tr>\n",
       "  </tbody>\n",
       "</table>\n",
       "</div>"
      ],
      "text/plain": [
       "                   event                 user   timestamp  exp_id  \\\n",
       "1990    MainScreenAppear  7701922487875823903  1564606857     247   \n",
       "1991    MainScreenAppear  2539077412200498909  1564606905     247   \n",
       "1992  OffersScreenAppear  3286987355161301427  1564606941     248   \n",
       "1993  OffersScreenAppear  3187166762535343300  1564606943     247   \n",
       "1994    MainScreenAppear  1118952406011435924  1564607005     248   \n",
       "\n",
       "               date_time       date  \n",
       "1990 2019-07-31 21:00:57 2019-07-31  \n",
       "1991 2019-07-31 21:01:45 2019-07-31  \n",
       "1992 2019-07-31 21:02:21 2019-07-31  \n",
       "1993 2019-07-31 21:02:23 2019-07-31  \n",
       "1994 2019-07-31 21:03:25 2019-07-31  "
      ]
     },
     "execution_count": 14,
     "metadata": {},
     "output_type": "execute_result"
    }
   ],
   "source": [
    "data.query('date_time > \"2019-07-31 21:00\"', inplace=True)\n",
    "data.head()"
   ]
  },
  {
   "cell_type": "code",
   "execution_count": 15,
   "metadata": {},
   "outputs": [
    {
     "data": {
      "text/plain": [
       "<AxesSubplot:>"
      ]
     },
     "execution_count": 15,
     "metadata": {},
     "output_type": "execute_result"
    },
    {
     "data": {
      "image/png": "[encoded data removed]",
      "text/plain": [
       "<Figure size 1008x360 with 1 Axes>"
      ]
     },
     "metadata": {
      "needs_background": "light"
     },
     "output_type": "display_data"
    }
   ],
   "source": [
    "data['date_time'].hist(bins=7*24, figsize=(14, 5))"
   ]
  },
  {
   "cell_type": "markdown",
   "metadata": {},
   "source": [
    "Now we have a week data from 2019-08-01 to 2019-08-07 (with three hour shifts) it's pretty much impossible to notice such a small change, so we doubt that we should focus on it."
   ]
  },
  {
   "cell_type": "markdown",
   "metadata": {},
   "source": [
    "## Did you lose a lot of events and users when you got rid of old data?"
   ]
  },
  {
   "cell_type": "code",
   "execution_count": 16,
   "metadata": {},
   "outputs": [
    {
     "name": "stdout",
     "output_type": "stream",
     "text": [
      "242136 events\n",
      "7538 users\n",
      "32.12204828867073 events_per_user\n"
     ]
    }
   ],
   "source": [
    "events = len(data)\n",
    "users = len(data['user'].unique())\n",
    "events_per_user = events / users\n",
    "print(f'{events} events')\n",
    "print(f'{users} users')\n",
    "print(f'{events_per_user} events_per_user')"
   ]
  },
  {
   "cell_type": "markdown",
   "metadata": {},
   "source": [
    "The result shows that we lost only 1%."
   ]
  },
  {
   "cell_type": "markdown",
   "metadata": {},
   "source": [
    "## Make sure you have users from all three experimental groups."
   ]
  },
  {
   "cell_type": "code",
   "execution_count": 17,
   "metadata": {},
   "outputs": [
    {
     "data": {
      "text/plain": [
       "248    85039\n",
       "246    79679\n",
       "247    77418\n",
       "Name: exp_id, dtype: int64"
      ]
     },
     "execution_count": 17,
     "metadata": {},
     "output_type": "execute_result"
    }
   ],
   "source": [
    "data['exp_id'].value_counts()"
   ]
  },
  {
   "cell_type": "markdown",
   "metadata": {},
   "source": [
    "# Step 3. Study the funnel of events"
   ]
  },
  {
   "cell_type": "markdown",
   "metadata": {},
   "source": [
    "## See what events are in the logs and how many times they occur. Sort those events by frequency"
   ]
  },
  {
   "cell_type": "code",
   "execution_count": 18,
   "metadata": {},
   "outputs": [
    {
     "data": {
      "text/html": [
       "<div>\n",
       "<style scoped>\n",
       "    .dataframe tbody tr th:only-of-type {\n",
       "        vertical-align: middle;\n",
       "    }\n",
       "\n",
       "    .dataframe tbody tr th {\n",
       "        vertical-align: top;\n",
       "    }\n",
       "\n",
       "    .dataframe thead th {\n",
       "        text-align: right;\n",
       "    }\n",
       "</style>\n",
       "<table border=\"1\" class=\"dataframe\">\n",
       "  <thead>\n",
       "    <tr style=\"text-align: right;\">\n",
       "      <th></th>\n",
       "      <th>user</th>\n",
       "    </tr>\n",
       "    <tr>\n",
       "      <th>event</th>\n",
       "      <th></th>\n",
       "    </tr>\n",
       "  </thead>\n",
       "  <tbody>\n",
       "    <tr>\n",
       "      <th>MainScreenAppear</th>\n",
       "      <td>117992</td>\n",
       "    </tr>\n",
       "    <tr>\n",
       "      <th>OffersScreenAppear</th>\n",
       "      <td>46548</td>\n",
       "    </tr>\n",
       "    <tr>\n",
       "      <th>CartScreenAppear</th>\n",
       "      <td>42406</td>\n",
       "    </tr>\n",
       "    <tr>\n",
       "      <th>PaymentScreenSuccessful</th>\n",
       "      <td>34146</td>\n",
       "    </tr>\n",
       "    <tr>\n",
       "      <th>Tutorial</th>\n",
       "      <td>1044</td>\n",
       "    </tr>\n",
       "  </tbody>\n",
       "</table>\n",
       "</div>"
      ],
      "text/plain": [
       "                           user\n",
       "event                          \n",
       "MainScreenAppear         117992\n",
       "OffersScreenAppear        46548\n",
       "CartScreenAppear          42406\n",
       "PaymentScreenSuccessful   34146\n",
       "Tutorial                   1044"
      ]
     },
     "execution_count": 18,
     "metadata": {},
     "output_type": "execute_result"
    }
   ],
   "source": [
    "data.pivot_table(index='event', values='user', aggfunc='count').sort_values('user', ascending=False)"
   ]
  },
  {
   "cell_type": "markdown",
   "metadata": {},
   "source": [
    "In the funnel, we need to know the order in which the funnels occur. And here we have 5 events, in the order of the main screen, off screen, chart screen, payment screen and the last one is the tutorial."
   ]
  },
  {
   "cell_type": "markdown",
   "metadata": {},
   "source": [
    "## Find the number of users who performed each action. Sort events by number of users. Calculate the proportion of users who performed an action at least once"
   ]
  },
  {
   "cell_type": "code",
   "execution_count": 19,
   "metadata": {},
   "outputs": [
    {
     "data": {
      "text/html": [
       "<div>\n",
       "<style scoped>\n",
       "    .dataframe tbody tr th:only-of-type {\n",
       "        vertical-align: middle;\n",
       "    }\n",
       "\n",
       "    .dataframe tbody tr th {\n",
       "        vertical-align: top;\n",
       "    }\n",
       "\n",
       "    .dataframe thead th {\n",
       "        text-align: right;\n",
       "    }\n",
       "</style>\n",
       "<table border=\"1\" class=\"dataframe\">\n",
       "  <thead>\n",
       "    <tr style=\"text-align: right;\">\n",
       "      <th></th>\n",
       "      <th>user</th>\n",
       "    </tr>\n",
       "    <tr>\n",
       "      <th>event</th>\n",
       "      <th></th>\n",
       "    </tr>\n",
       "  </thead>\n",
       "  <tbody>\n",
       "    <tr>\n",
       "      <th>MainScreenAppear</th>\n",
       "      <td>7423</td>\n",
       "    </tr>\n",
       "    <tr>\n",
       "      <th>OffersScreenAppear</th>\n",
       "      <td>4597</td>\n",
       "    </tr>\n",
       "    <tr>\n",
       "      <th>CartScreenAppear</th>\n",
       "      <td>3736</td>\n",
       "    </tr>\n",
       "    <tr>\n",
       "      <th>PaymentScreenSuccessful</th>\n",
       "      <td>3540</td>\n",
       "    </tr>\n",
       "    <tr>\n",
       "      <th>Tutorial</th>\n",
       "      <td>843</td>\n",
       "    </tr>\n",
       "  </tbody>\n",
       "</table>\n",
       "</div>"
      ],
      "text/plain": [
       "                         user\n",
       "event                        \n",
       "MainScreenAppear         7423\n",
       "OffersScreenAppear       4597\n",
       "CartScreenAppear         3736\n",
       "PaymentScreenSuccessful  3540\n",
       "Tutorial                  843"
      ]
     },
     "execution_count": 19,
     "metadata": {},
     "output_type": "execute_result"
    }
   ],
   "source": [
    "user_per_event = (\n",
    "    data\n",
    "    .pivot_table(index='event', values='user', aggfunc=lambda x: x.nunique())\n",
    "    .sort_values('user', ascending=False))\n",
    "user_per_event"
   ]
  },
  {
   "cell_type": "code",
   "execution_count": 20,
   "metadata": {},
   "outputs": [
    {
     "data": {
      "text/html": [
       "<div>\n",
       "<style scoped>\n",
       "    .dataframe tbody tr th:only-of-type {\n",
       "        vertical-align: middle;\n",
       "    }\n",
       "\n",
       "    .dataframe tbody tr th {\n",
       "        vertical-align: top;\n",
       "    }\n",
       "\n",
       "    .dataframe thead th {\n",
       "        text-align: right;\n",
       "    }\n",
       "</style>\n",
       "<table border=\"1\" class=\"dataframe\">\n",
       "  <thead>\n",
       "    <tr style=\"text-align: right;\">\n",
       "      <th></th>\n",
       "      <th>user</th>\n",
       "    </tr>\n",
       "    <tr>\n",
       "      <th>event</th>\n",
       "      <th></th>\n",
       "    </tr>\n",
       "  </thead>\n",
       "  <tbody>\n",
       "    <tr>\n",
       "      <th>MainScreenAppear</th>\n",
       "      <td>0.984744</td>\n",
       "    </tr>\n",
       "    <tr>\n",
       "      <th>OffersScreenAppear</th>\n",
       "      <td>0.609843</td>\n",
       "    </tr>\n",
       "    <tr>\n",
       "      <th>CartScreenAppear</th>\n",
       "      <td>0.495622</td>\n",
       "    </tr>\n",
       "    <tr>\n",
       "      <th>PaymentScreenSuccessful</th>\n",
       "      <td>0.469621</td>\n",
       "    </tr>\n",
       "    <tr>\n",
       "      <th>Tutorial</th>\n",
       "      <td>0.111833</td>\n",
       "    </tr>\n",
       "  </tbody>\n",
       "</table>\n",
       "</div>"
      ],
      "text/plain": [
       "                             user\n",
       "event                            \n",
       "MainScreenAppear         0.984744\n",
       "OffersScreenAppear       0.609843\n",
       "CartScreenAppear         0.495622\n",
       "PaymentScreenSuccessful  0.469621\n",
       "Tutorial                 0.111833"
      ]
     },
     "execution_count": 20,
     "metadata": {},
     "output_type": "execute_result"
    }
   ],
   "source": [
    "user_per_event / len(data['user'].unique())"
   ]
  },
  {
   "cell_type": "markdown",
   "metadata": {},
   "source": [
    "## In what order do you think the actions took place? Are they all part of one sequence?"
   ]
  },
  {
   "cell_type": "markdown",
   "metadata": {},
   "source": [
    "We will fetch all the data in descending frequency except for the tutorial, as it is felt that there are quite a few of them."
   ]
  },
  {
   "cell_type": "markdown",
   "metadata": {},
   "source": [
    "## Use the event funnel to find the percentage of users who persist from one stage to the next. (For example, for the sequence of events A → B → C, calculate the ratio of users in stage B to the number of users in stage A, and the ratio of users in stage C to the number of users in stage B)"
   ]
  },
  {
   "cell_type": "code",
   "execution_count": 21,
   "metadata": {},
   "outputs": [
    {
     "data": {
      "text/html": [
       "<div>\n",
       "<style scoped>\n",
       "    .dataframe tbody tr th:only-of-type {\n",
       "        vertical-align: middle;\n",
       "    }\n",
       "\n",
       "    .dataframe tbody tr th {\n",
       "        vertical-align: top;\n",
       "    }\n",
       "\n",
       "    .dataframe thead th {\n",
       "        text-align: right;\n",
       "    }\n",
       "</style>\n",
       "<table border=\"1\" class=\"dataframe\">\n",
       "  <thead>\n",
       "    <tr style=\"text-align: right;\">\n",
       "      <th></th>\n",
       "      <th>user</th>\n",
       "    </tr>\n",
       "    <tr>\n",
       "      <th>event</th>\n",
       "      <th></th>\n",
       "    </tr>\n",
       "  </thead>\n",
       "  <tbody>\n",
       "    <tr>\n",
       "      <th>OffersScreenAppear</th>\n",
       "      <td>0.619291</td>\n",
       "    </tr>\n",
       "    <tr>\n",
       "      <th>CartScreenAppear</th>\n",
       "      <td>0.812704</td>\n",
       "    </tr>\n",
       "    <tr>\n",
       "      <th>PaymentScreenSuccessful</th>\n",
       "      <td>0.947537</td>\n",
       "    </tr>\n",
       "  </tbody>\n",
       "</table>\n",
       "</div>"
      ],
      "text/plain": [
       "                             user\n",
       "event                            \n",
       "OffersScreenAppear       0.619291\n",
       "CartScreenAppear         0.812704\n",
       "PaymentScreenSuccessful  0.947537"
      ]
     },
     "execution_count": 21,
     "metadata": {},
     "output_type": "execute_result"
    }
   ],
   "source": [
    "users_funnel = user_per_event[:-1]\n",
    "users_funnel = (users_funnel / users_funnel.shift())[1:]\n",
    "users_funnel"
   ]
  },
  {
   "cell_type": "markdown",
   "metadata": {},
   "source": [
    "From the data shown, it can known that how many successfully completed from the beginning to the end of the stage."
   ]
  },
  {
   "cell_type": "markdown",
   "metadata": {},
   "source": [
    "## At what stage did you lose a lot of users? "
   ]
  },
  {
   "cell_type": "markdown",
   "metadata": {},
   "source": [
    "The dramatical drop was seen in the first stage, the switch from MainScreenAppear to OffersScreenAppear. Might be the mechanism should be improved so that users switch to OffersScreenAppear."
   ]
  },
  {
   "cell_type": "markdown",
   "metadata": {},
   "source": [
    "## What percentage of users successfully complete all existing stages, from the first event to payment?"
   ]
  },
  {
   "cell_type": "code",
   "execution_count": 22,
   "metadata": {},
   "outputs": [
    {
     "name": "stdout",
     "output_type": "stream",
     "text": [
      "0.47689613363869054 make it from the Main Screen to successful payment\n"
     ]
    }
   ],
   "source": [
    "print('{} make it from the Main Screen to successful payment'\n",
    "     .format((user_per_event.loc['PaymentScreenSuccessful'] / user_per_event.loc['MainScreenAppear'])['user']))"
   ]
  },
  {
   "cell_type": "markdown",
   "metadata": {},
   "source": [
    "# Step 4. Study the results of your experiment"
   ]
  },
  {
   "cell_type": "markdown",
   "metadata": {},
   "source": [
    "## How many users are there in each group?"
   ]
  },
  {
   "cell_type": "code",
   "execution_count": 23,
   "metadata": {},
   "outputs": [
    {
     "data": {
      "text/plain": [
       "exp_id\n",
       "246    2484\n",
       "247    2517\n",
       "248    2537\n",
       "Name: user, dtype: int64"
      ]
     },
     "execution_count": 23,
     "metadata": {},
     "output_type": "execute_result"
    }
   ],
   "source": [
    "users_per_group = data.pivot_table(index='exp_id', values='user', aggfunc=lambda x: x.nunique())['user']\n",
    "users_per_group"
   ]
  },
  {
   "cell_type": "markdown",
   "metadata": {},
   "source": [
    "## We have two control groups in A/A testing, where we check our mechanics and calculations. See if there is a statistically significant difference between samples 246 and 247"
   ]
  },
  {
   "cell_type": "markdown",
   "metadata": {},
   "source": [
    "## Select the most popular events. In each control group, find the number of users who performed the action. Find the percentage. Check whether the differences between groups are statistically significant. Repeat this procedure for all other events (it will save time if you can create a custom function to perform this test). Can you confirm if the groups are properly split?"
   ]
  },
  {
   "cell_type": "code",
   "execution_count": 24,
   "metadata": {},
   "outputs": [
    {
     "data": {
      "text/html": [
       "<div>\n",
       "<style scoped>\n",
       "    .dataframe tbody tr th:only-of-type {\n",
       "        vertical-align: middle;\n",
       "    }\n",
       "\n",
       "    .dataframe tbody tr th {\n",
       "        vertical-align: top;\n",
       "    }\n",
       "\n",
       "    .dataframe thead th {\n",
       "        text-align: right;\n",
       "    }\n",
       "</style>\n",
       "<table border=\"1\" class=\"dataframe\">\n",
       "  <thead>\n",
       "    <tr style=\"text-align: right;\">\n",
       "      <th>exp_id</th>\n",
       "      <th>246</th>\n",
       "      <th>247</th>\n",
       "      <th>248</th>\n",
       "    </tr>\n",
       "    <tr>\n",
       "      <th>event</th>\n",
       "      <th></th>\n",
       "      <th></th>\n",
       "      <th></th>\n",
       "    </tr>\n",
       "  </thead>\n",
       "  <tbody>\n",
       "    <tr>\n",
       "      <th>CartScreenAppear</th>\n",
       "      <td>1266</td>\n",
       "      <td>1239</td>\n",
       "      <td>1231</td>\n",
       "    </tr>\n",
       "    <tr>\n",
       "      <th>MainScreenAppear</th>\n",
       "      <td>2450</td>\n",
       "      <td>2479</td>\n",
       "      <td>2494</td>\n",
       "    </tr>\n",
       "    <tr>\n",
       "      <th>OffersScreenAppear</th>\n",
       "      <td>1542</td>\n",
       "      <td>1524</td>\n",
       "      <td>1531</td>\n",
       "    </tr>\n",
       "    <tr>\n",
       "      <th>PaymentScreenSuccessful</th>\n",
       "      <td>1200</td>\n",
       "      <td>1158</td>\n",
       "      <td>1182</td>\n",
       "    </tr>\n",
       "    <tr>\n",
       "      <th>Tutorial</th>\n",
       "      <td>278</td>\n",
       "      <td>284</td>\n",
       "      <td>281</td>\n",
       "    </tr>\n",
       "  </tbody>\n",
       "</table>\n",
       "</div>"
      ],
      "text/plain": [
       "exp_id                    246   247   248\n",
       "event                                    \n",
       "CartScreenAppear         1266  1239  1231\n",
       "MainScreenAppear         2450  2479  2494\n",
       "OffersScreenAppear       1542  1524  1531\n",
       "PaymentScreenSuccessful  1200  1158  1182\n",
       "Tutorial                  278   284   281"
      ]
     },
     "execution_count": 24,
     "metadata": {},
     "output_type": "execute_result"
    }
   ],
   "source": [
    "users_events_per_group = data.pivot_table(index='event', values='user', columns='exp_id', aggfunc=lambda x: x.nunique())\n",
    "users_events_per_group"
   ]
  },
  {
   "cell_type": "code",
   "execution_count": 25,
   "metadata": {},
   "outputs": [],
   "source": [
    "def check_hypothesis(successes1, successes2, trials1, trials2, alpha=0.01):\n",
    "    #proportion of successes in the first ggroup:\n",
    "    p1 = successes1 / trials1\n",
    "    \n",
    "    #proportion of successes in the second group:\n",
    "    p2 = successes2 / trials2\n",
    "    \n",
    "    #proportion of successes in combined datasets:\n",
    "    p_combined = (successes1 + successes2) / (trials1 + trials2)\n",
    "    \n",
    "    #the difference of proportions in datasets:\n",
    "    difference = p1 - p2\n",
    "    \n",
    "    #calculating the statistic in standard deviation of standard normal distribution\n",
    "    z_value = difference / math.sqrt(p_combined * (1 - p_combined) * (1/trials1 + 1/trials2))\n",
    "    \n",
    "    #setting standard normal distribution (mean=0, standard deviation=1)\n",
    "    distr = stats.norm(0, 1)\n",
    "    \n",
    "    #calculating the statistic in standard deviations of standard normal distribution\n",
    "    z_value = difference / math.sqrt(p_combined * (1 - p_combined) * (1/trials1 + 1/trials2))\n",
    "    \n",
    "    p_value = (1 - distr.cdf(abs(z_value))) * 2\n",
    "    \n",
    "    print('P_value: ', p_value)\n",
    "    \n",
    "    if (p_value < alpha):\n",
    "        print(\"Rejecting the null hypothesis: there is significant difference between the proportions\")\n",
    "    else:\n",
    "        print(\"Failed to reject the null hypothesis: there is no reason to consider the proportion different\")\n",
    "        "
   ]
  },
  {
   "cell_type": "code",
   "execution_count": 26,
   "metadata": {},
   "outputs": [
    {
     "name": "stdout",
     "output_type": "stream",
     "text": [
      "P_value:  0.6756217702005545\n",
      "Failed to reject the null hypothesis: there is no reason to consider the proportion different\n"
     ]
    }
   ],
   "source": [
    "check_hypothesis(users_events_per_group.loc['MainScreenAppear', 246],\n",
    "                 users_events_per_group.loc['MainScreenAppear', 247],\n",
    "                 users_per_group.loc[246],\n",
    "                 users_per_group.loc[247],\n",
    "                )"
   ]
  },
  {
   "cell_type": "markdown",
   "metadata": {},
   "source": [
    "Here it can be seen, the most popular event is MainScreenAppear and by comparison between groups 246 and 247 the p_value is above 0.5 so we can reject the hypothesis. where:\n",
    "1. H0 = the value of the proportions is the same (246 is equal to 247)\n",
    "2. H1 = the value of the proportion is different (246 is not the same as 247)."
   ]
  },
  {
   "cell_type": "code",
   "execution_count": 27,
   "metadata": {},
   "outputs": [],
   "source": [
    "def check_event_hypothesis(users_events_per_group, users_per_group, event, exp1, exp2):\n",
    "    frac1 = users_events_per_group.loc[event, exp1] / users_per_group.loc[exp1]\n",
    "    frac2 = users_events_per_group.loc[event, exp2] / users_per_group.loc[exp2]\n",
    "    print(f'{frac1} with {event} event in group {exp1}')\n",
    "    print(f'{frac2} with {event} event in group {exp2}')\n",
    "    check_hypothesis(users_events_per_group.loc[event, exp1],\n",
    "                     users_events_per_group.loc[event, exp2],\n",
    "                     users_per_group.loc[exp1],\n",
    "                     users_per_group.loc[exp2],\n",
    "                    )"
   ]
  },
  {
   "cell_type": "code",
   "execution_count": 28,
   "metadata": {},
   "outputs": [
    {
     "name": "stdout",
     "output_type": "stream",
     "text": [
      "0.5096618357487923 with CartScreenAppear event in group 246\n",
      "0.4922526817640048 with CartScreenAppear event in group 247\n",
      "P_value:  0.2182812140633792\n",
      "Failed to reject the null hypothesis: there is no reason to consider the proportion different\n",
      "\n",
      "0.9863123993558777 with MainScreenAppear event in group 246\n",
      "0.9849026618990863 with MainScreenAppear event in group 247\n",
      "P_value:  0.6756217702005545\n",
      "Failed to reject the null hypothesis: there is no reason to consider the proportion different\n",
      "\n",
      "0.6207729468599034 with OffersScreenAppear event in group 246\n",
      "0.6054827175208581 with OffersScreenAppear event in group 247\n",
      "P_value:  0.26698769175859516\n",
      "Failed to reject the null hypothesis: there is no reason to consider the proportion different\n",
      "\n",
      "0.4830917874396135 with PaymentScreenSuccessful event in group 246\n",
      "0.4600715137067938 with PaymentScreenSuccessful event in group 247\n",
      "P_value:  0.10298394982948822\n",
      "Failed to reject the null hypothesis: there is no reason to consider the proportion different\n",
      "\n",
      "0.11191626409017713 with Tutorial event in group 246\n",
      "0.11283273738577672 with Tutorial event in group 247\n",
      "P_value:  0.9182790262812368\n",
      "Failed to reject the null hypothesis: there is no reason to consider the proportion different\n",
      "\n"
     ]
    }
   ],
   "source": [
    "for event in users_events_per_group.index:\n",
    "    check_event_hypothesis(users_events_per_group, users_per_group, event, 246, 247)\n",
    "    print()"
   ]
  },
  {
   "cell_type": "markdown",
   "metadata": {},
   "source": [
    "we can state with a high degree of confidence that the results in the control group are the same. i.e. division into groups and calculations seem to be correct. And it showed all p_values are above 0.05 so we reject the null hypothesis. meaning that for the control group there was no statistically significant difference. and for each event there is no significant difference. which means that for each control group the proportion of people for each entry to the event is the same."
   ]
  },
  {
   "cell_type": "markdown",
   "metadata": {},
   "source": [
    "## Do the same for the group of users shown the latest font version. Compare the results with each control group for each event separately. Compare the results with the combined results for the control group. What conclusions can you draw from the experiment?"
   ]
  },
  {
   "cell_type": "code",
   "execution_count": 29,
   "metadata": {},
   "outputs": [
    {
     "name": "stdout",
     "output_type": "stream",
     "text": [
      "0.5096618357487923 with CartScreenAppear event in group 246\n",
      "0.48521876231769806 with CartScreenAppear event in group 248\n",
      "P_value:  0.08328412977507749\n",
      "Failed to reject the null hypothesis: there is no reason to consider the proportion different\n",
      "\n",
      "0.9863123993558777 with MainScreenAppear event in group 246\n",
      "0.9830508474576272 with MainScreenAppear event in group 248\n",
      "P_value:  0.34705881021236484\n",
      "Failed to reject the null hypothesis: there is no reason to consider the proportion different\n",
      "\n",
      "0.6207729468599034 with OffersScreenAppear event in group 246\n",
      "0.6034686637761135 with OffersScreenAppear event in group 248\n",
      "P_value:  0.20836205402738917\n",
      "Failed to reject the null hypothesis: there is no reason to consider the proportion different\n",
      "\n",
      "0.4830917874396135 with PaymentScreenSuccessful event in group 246\n",
      "0.4659046117461569 with PaymentScreenSuccessful event in group 248\n",
      "P_value:  0.22269358994682742\n",
      "Failed to reject the null hypothesis: there is no reason to consider the proportion different\n",
      "\n",
      "0.11191626409017713 with Tutorial event in group 246\n",
      "0.11076074103271581 with Tutorial event in group 248\n",
      "P_value:  0.8964489622133207\n",
      "Failed to reject the null hypothesis: there is no reason to consider the proportion different\n",
      "\n"
     ]
    }
   ],
   "source": [
    "for event in users_events_per_group.index:\n",
    "    check_event_hypothesis(users_events_per_group, users_per_group, event, 246, 248)\n",
    "    print()"
   ]
  },
  {
   "cell_type": "markdown",
   "metadata": {},
   "source": [
    "Can not be seen a big difference here either. Even though the proportion of events per user has decreased, the difference remains statically insignificant. P_values are still above 0.05, meaning that in summery terms it can be said that in the test group there was no significant difference with the control group 246 the number of people who entered each screen was still the same, which meant that the difference in fonts did not really matter."
   ]
  },
  {
   "cell_type": "code",
   "execution_count": 30,
   "metadata": {},
   "outputs": [
    {
     "name": "stdout",
     "output_type": "stream",
     "text": [
      "0.4922526817640048 with CartScreenAppear event in group 247\n",
      "0.48521876231769806 with CartScreenAppear event in group 248\n",
      "P_value:  0.6169517476996997\n",
      "Failed to reject the null hypothesis: there is no reason to consider the proportion different\n",
      "\n",
      "0.9849026618990863 with MainScreenAppear event in group 247\n",
      "0.9830508474576272 with MainScreenAppear event in group 248\n",
      "P_value:  0.6001661582453706\n",
      "Failed to reject the null hypothesis: there is no reason to consider the proportion different\n",
      "\n",
      "0.6054827175208581 with OffersScreenAppear event in group 247\n",
      "0.6034686637761135 with OffersScreenAppear event in group 248\n",
      "P_value:  0.8835956656016957\n",
      "Failed to reject the null hypothesis: there is no reason to consider the proportion different\n",
      "\n",
      "0.4600715137067938 with PaymentScreenSuccessful event in group 247\n",
      "0.4659046117461569 with PaymentScreenSuccessful event in group 248\n",
      "P_value:  0.6775413642906454\n",
      "Failed to reject the null hypothesis: there is no reason to consider the proportion different\n",
      "\n",
      "0.11283273738577672 with Tutorial event in group 247\n",
      "0.11076074103271581 with Tutorial event in group 248\n",
      "P_value:  0.8151967015119994\n",
      "Failed to reject the null hypothesis: there is no reason to consider the proportion different\n",
      "\n"
     ]
    }
   ],
   "source": [
    "for event in users_events_per_group.index:\n",
    "    check_event_hypothesis(users_events_per_group, users_per_group, event, 247, 248)\n",
    "    print()"
   ]
  },
  {
   "cell_type": "markdown",
   "metadata": {},
   "source": [
    "Even if we compare with the 247th group it is much worse than the previous 246th group. In this case, all events except the payout increase by a small amount, but all the differences are minuscule."
   ]
  },
  {
   "cell_type": "code",
   "execution_count": 31,
   "metadata": {},
   "outputs": [
    {
     "data": {
      "text/html": [
       "<div>\n",
       "<style scoped>\n",
       "    .dataframe tbody tr th:only-of-type {\n",
       "        vertical-align: middle;\n",
       "    }\n",
       "\n",
       "    .dataframe tbody tr th {\n",
       "        vertical-align: top;\n",
       "    }\n",
       "\n",
       "    .dataframe thead th {\n",
       "        text-align: right;\n",
       "    }\n",
       "</style>\n",
       "<table border=\"1\" class=\"dataframe\">\n",
       "  <thead>\n",
       "    <tr style=\"text-align: right;\">\n",
       "      <th>exp_id</th>\n",
       "      <th>247</th>\n",
       "      <th>248</th>\n",
       "    </tr>\n",
       "    <tr>\n",
       "      <th>event</th>\n",
       "      <th></th>\n",
       "      <th></th>\n",
       "    </tr>\n",
       "  </thead>\n",
       "  <tbody>\n",
       "    <tr>\n",
       "      <th>CartScreenAppear</th>\n",
       "      <td>2505</td>\n",
       "      <td>1231</td>\n",
       "    </tr>\n",
       "    <tr>\n",
       "      <th>MainScreenAppear</th>\n",
       "      <td>4929</td>\n",
       "      <td>2494</td>\n",
       "    </tr>\n",
       "    <tr>\n",
       "      <th>OffersScreenAppear</th>\n",
       "      <td>3066</td>\n",
       "      <td>1531</td>\n",
       "    </tr>\n",
       "    <tr>\n",
       "      <th>PaymentScreenSuccessful</th>\n",
       "      <td>2358</td>\n",
       "      <td>1182</td>\n",
       "    </tr>\n",
       "    <tr>\n",
       "      <th>Tutorial</th>\n",
       "      <td>562</td>\n",
       "      <td>281</td>\n",
       "    </tr>\n",
       "  </tbody>\n",
       "</table>\n",
       "</div>"
      ],
      "text/plain": [
       "exp_id                    247   248\n",
       "event                              \n",
       "CartScreenAppear         2505  1231\n",
       "MainScreenAppear         4929  2494\n",
       "OffersScreenAppear       3066  1531\n",
       "PaymentScreenSuccessful  2358  1182\n",
       "Tutorial                  562   281"
      ]
     },
     "execution_count": 31,
     "metadata": {},
     "output_type": "execute_result"
    }
   ],
   "source": [
    "users_events_per_group_control = users_events_per_group.copy()\n",
    "users_events_per_group_control.loc[:, 247] += users_events_per_group_control.loc[:, 246]\n",
    "users_events_per_group_control.drop(columns= 246, inplace=True)\n",
    "users_events_per_group_control"
   ]
  },
  {
   "cell_type": "code",
   "execution_count": 32,
   "metadata": {},
   "outputs": [
    {
     "data": {
      "text/plain": [
       "exp_id\n",
       "247    5001\n",
       "248    2537\n",
       "Name: user, dtype: int64"
      ]
     },
     "execution_count": 32,
     "metadata": {},
     "output_type": "execute_result"
    }
   ],
   "source": [
    "users_per_group_control = users_per_group.copy()\n",
    "users_per_group_control.loc[247] += users_per_group_control.loc[246]\n",
    "users_per_group_control.drop(246, inplace=True)\n",
    "users_per_group_control"
   ]
  },
  {
   "cell_type": "code",
   "execution_count": 33,
   "metadata": {},
   "outputs": [
    {
     "name": "stdout",
     "output_type": "stream",
     "text": [
      "0.5008998200359928 with CartScreenAppear event in group 247\n",
      "0.48521876231769806 with CartScreenAppear event in group 248\n",
      "P_value:  0.19819340844527744\n",
      "Failed to reject the null hypothesis: there is no reason to consider the proportion different\n",
      "\n",
      "0.9856028794241152 with MainScreenAppear event in group 247\n",
      "0.9830508474576272 with MainScreenAppear event in group 248\n",
      "P_value:  0.39298914928006035\n",
      "Failed to reject the null hypothesis: there is no reason to consider the proportion different\n",
      "\n",
      "0.6130773845230953 with OffersScreenAppear event in group 247\n",
      "0.6034686637761135 with OffersScreenAppear event in group 248\n",
      "P_value:  0.418998284007599\n",
      "Failed to reject the null hypothesis: there is no reason to consider the proportion different\n",
      "\n",
      "0.471505698860228 with PaymentScreenSuccessful event in group 247\n",
      "0.4659046117461569 with PaymentScreenSuccessful event in group 248\n",
      "P_value:  0.6452057673098244\n",
      "Failed to reject the null hypothesis: there is no reason to consider the proportion different\n",
      "\n",
      "0.11237752449510098 with Tutorial event in group 247\n",
      "0.11076074103271581 with Tutorial event in group 248\n",
      "P_value:  0.8333049080125807\n",
      "Failed to reject the null hypothesis: there is no reason to consider the proportion different\n",
      "\n"
     ]
    }
   ],
   "source": [
    "for event in users_events_per_group.index:\n",
    "    check_event_hypothesis(users_events_per_group_control, users_per_group_control, event, 247, 248)\n",
    "    print()"
   ]
  },
  {
   "cell_type": "markdown",
   "metadata": {},
   "source": [
    "As can be seen, the difference is not significant enough. In essence, it can be said that there is no significant difference between the control group and the test group in terms of how many users enter each event or each screen."
   ]
  },
  {
   "cell_type": "markdown",
   "metadata": {},
   "source": [
    "## What level of significance did you set to test the statistical hypothesis mentioned above? Count how many statistical hypothesis tests you have done. With a statistical significance level of 0.1 - one in 10 results could be wrong. What level of significance should be set? If you want to change it, just rerun the previous step and check your conclusions.\n",
    "\n",
    "While the significant value chosen is equal to 0.05. and 5 hypothetical tests between each group test. so even if we change the alpha value to 0.01 or 0.1, the p-value will not change. What will change later is whether our p-value will be greater or smaller than alpha, which will affect whether we reject/fail to reject H0. So it will be more difficult later to fail to reject h-0, if the alpha value becomes 0.1\n",
    "\n"
   ]
  },
  {
   "cell_type": "code",
   "execution_count": null,
   "metadata": {},
   "outputs": [],
   "source": []
  }
 ],
 "metadata": {
  "kernelspec": {
   "display_name": "Python 3 (ipykernel)",
   "language": "python",
   "name": "python3"
  },
  "language_info": {
   "codemirror_mode": {
    "name": "ipython",
    "version": 3
   },
   "file_extension": ".py",
   "mimetype": "text/x-python",
   "name": "python",
   "nbconvert_exporter": "python",
   "pygments_lexer": "ipython3",
   "version": "3.9.19"
  },
  "toc": {
   "base_numbering": 1,
   "nav_menu": {},
   "number_sections": true,
   "sideBar": true,
   "skip_h1_title": false,
   "title_cell": "Table of Contents",
   "title_sidebar": "Contents",
   "toc_cell": false,
   "toc_position": {
    "height": "calc(100% - 180px)",
    "left": "10px",
    "top": "150px",
    "width": "276.594px"
   },
   "toc_section_display": true,
   "toc_window_display": true
  }
 },
 "nbformat": 4,
 "nbformat_minor": 2
}
